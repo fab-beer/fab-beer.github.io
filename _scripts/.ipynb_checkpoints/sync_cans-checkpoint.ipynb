{
 "cells": [
  {
   "cell_type": "code",
   "execution_count": 65,
   "metadata": {},
   "outputs": [
    {
     "name": "stdout",
     "output_type": "stream",
     "text": [
      "The autoreload extension is already loaded. To reload it, use:\n",
      "  %reload_ext autoreload\n"
     ]
    }
   ],
   "source": [
    "\n",
    "\n",
    "%load_ext autoreload\n",
    "%autoreload\n",
    "\n",
    "\n",
    "import os\n",
    "from pprint import pprint\n",
    "from airtable import Airtable\n",
    "import pandas as pd\n",
    "\n",
    "base_key = 'appTo6S0ZTrtGa53Z'\n",
    "table_name = 'Cans'\n",
    "airtable = Airtable(base_key, table_name, api_key=\"keyqUQaJNx0BDLtbB\")\n",
    "record_list = airtable.get_all()\n",
    "cans_df = pd.DataFrame([record['fields'] for record in record_list]).loc[lambda x: ~x.code.isna()]\n",
    "\n",
    "\n"
   ]
  },
  {
   "cell_type": "code",
   "execution_count": 63,
   "metadata": {},
   "outputs": [
    {
     "data": {
      "text/html": [
       "<div>\n",
       "<style scoped>\n",
       "    .dataframe tbody tr th:only-of-type {\n",
       "        vertical-align: middle;\n",
       "    }\n",
       "\n",
       "    .dataframe tbody tr th {\n",
       "        vertical-align: top;\n",
       "    }\n",
       "\n",
       "    .dataframe thead th {\n",
       "        text-align: right;\n",
       "    }\n",
       "</style>\n",
       "<table border=\"1\" class=\"dataframe\">\n",
       "  <thead>\n",
       "    <tr style=\"text-align: right;\">\n",
       "      <th></th>\n",
       "      <th>last_brewed</th>\n",
       "      <th>untappd</th>\n",
       "      <th>abv</th>\n",
       "      <th>ad_feature_id</th>\n",
       "      <th>statement</th>\n",
       "      <th>collection_id</th>\n",
       "      <th>ad_feature_html</th>\n",
       "      <th>merch_types</th>\n",
       "      <th>ad_feature_type</th>\n",
       "      <th>beer_style</th>\n",
       "      <th>description</th>\n",
       "      <th>name</th>\n",
       "      <th>artist_id</th>\n",
       "      <th>head_graphic</th>\n",
       "      <th>code</th>\n",
       "      <th>layout</th>\n",
       "      <th>navbar</th>\n",
       "    </tr>\n",
       "  </thead>\n",
       "  <tbody>\n",
       "    <tr>\n",
       "      <td>0</td>\n",
       "      <td>NaN</td>\n",
       "      <td>NaN</td>\n",
       "      <td>NaN</td>\n",
       "      <td>NaN</td>\n",
       "      <td>NaN</td>\n",
       "      <td>NaN</td>\n",
       "      <td>NaN</td>\n",
       "      <td>NaN</td>\n",
       "      <td>NaN</td>\n",
       "      <td>NaN</td>\n",
       "      <td>NaN</td>\n",
       "      <td>NaN</td>\n",
       "      <td>NaN</td>\n",
       "      <td>NaN</td>\n",
       "      <td>NaN</td>\n",
       "      <td>NaN</td>\n",
       "      <td>NaN</td>\n",
       "    </tr>\n",
       "  </tbody>\n",
       "</table>\n",
       "</div>"
      ],
      "text/plain": [
       "  last_brewed untappd  abv ad_feature_id statement collection_id  \\\n",
       "0         NaN     NaN  NaN           NaN       NaN           NaN   \n",
       "\n",
       "  ad_feature_html merch_types ad_feature_type beer_style description name  \\\n",
       "0             NaN         NaN             NaN        NaN         NaN  NaN   \n",
       "\n",
       "  artist_id head_graphic code layout navbar  \n",
       "0       NaN          NaN  NaN    NaN    NaN  "
      ]
     },
     "execution_count": 63,
     "metadata": {},
     "output_type": "execute_result"
    }
   ],
   "source": []
  },
  {
   "cell_type": "code",
   "execution_count": 68,
   "metadata": {},
   "outputs": [],
   "source": [
    "for i, r in cans_df.iterrows():\n",
    "    s = yaml.dump(r.to_dict(), default_flow_style=False)\n",
    "    with open(f\"../_cans/{r.code}.md\",\"w\") as f:\n",
    "        f.write(\"---\\n\")\n",
    "        f.write(s)\n",
    "        f.write(\"\\n---\")\n"
   ]
  },
  {
   "cell_type": "code",
   "execution_count": 40,
   "metadata": {},
   "outputs": [],
   "source": [
    "import fill_untappd"
   ]
  },
  {
   "cell_type": "code",
   "execution_count": 43,
   "metadata": {},
   "outputs": [
    {
     "name": "stdout",
     "output_type": "stream",
     "text": [
      "{'client_id': 'E8847D1FA347C37248DEC90E1D21568E18FC5152', 'client_secret': '199C86117D183A9B6BCB3220098F34CFF81FD562', 'limit': 100, 'min_id': 838537272}\n"
     ]
    }
   ],
   "source": [
    "\n",
    "fill_untappd.run()"
   ]
  },
  {
   "cell_type": "code",
   "execution_count": 44,
   "metadata": {},
   "outputs": [],
   "source": [
    "import pandas as pd\n",
    "import sqlite3\n",
    "conn = sqlite3.connect(\"untappd.db\")\n",
    "df = pd.read_sql_query(\"select * from checkins limit 5;\", conn)"
   ]
  },
  {
   "cell_type": "code",
   "execution_count": 70,
   "metadata": {},
   "outputs": [],
   "source": []
  },
  {
   "cell_type": "code",
   "execution_count": 100,
   "metadata": {},
   "outputs": [
    {
     "data": {
      "text/plain": [
       "{'checkin_id': 838537272,\n",
       " 'created_at': 'Sat, 07 Dec 2019 16:14:56 +0000',\n",
       " 'checkin_comment': 'Batch 001 tasting out of FV9. 3.5P after 5 days. High hop haze, biting bitterness and heat. Grapefruit character of citra hops comes through',\n",
       " 'rating_score': 0,\n",
       " 'user': {'uid': 7405243,\n",
       "  'user_name': 'fab_ben',\n",
       "  'first_name': 'Ben',\n",
       "  'last_name': 'H.',\n",
       "  'location': '',\n",
       "  'url': '',\n",
       "  'is_supporter': 0,\n",
       "  'bio': '',\n",
       "  'relationship': None,\n",
       "  'user_avatar': 'https://gravatar.com/avatar/77b093ba1702b868200453d97c3d789d?size=100&d=https%3A%2F%2Funtappd.akamaized.net%2Fsite%2Fassets%2Fimages%2Fdefault_avatar_v3_gravatar.jpg%3Fv%3D2',\n",
       "  'is_private': 0},\n",
       " 'beer': {'bid': 3568228,\n",
       "  'beer_name': 'Squid Pro Quo',\n",
       "  'beer_label': 'https://untappd.akamaized.net/site/assets/images/temp/badge-beer-default.png',\n",
       "  'beer_abv': 7.5,\n",
       "  'beer_ibu': 40,\n",
       "  'beer_slug': 'fab-squid-pro-quo',\n",
       "  'beer_description': 'Chico fermented. West coast style.\\n\\nFermented with classic California ale yeast, SQP has a smoothly integrated citrus hop flavor happiness coming from a substantial bill of Citra and Simcoe hops added early in the mash and in multiple rounds of dry hopping. Naturally carbonated, Squid Pro Quo is capped after the last round of dry hopping to capture maximum hop aroma and create a fine, champagne-like carbonation',\n",
       "  'beer_style': 'IPA - Imperial / Double',\n",
       "  'has_had': False,\n",
       "  'beer_active': 1},\n",
       " 'brewery': {'brewery_id': 451812,\n",
       "  'brewery_name': 'FAB',\n",
       "  'brewery_slug': 'fab',\n",
       "  'brewery_page_url': '/w/fab/451812',\n",
       "  'brewery_label': 'https://untappd.akamaized.net/site/assets/images/temp/badge-brewery-default.png',\n",
       "  'country_name': 'United States',\n",
       "  'contact': {'twitter': '', 'facebook': '', 'url': ''},\n",
       "  'location': {'brewery_city': '', 'brewery_state': '', 'lat': 0, 'lng': 0},\n",
       "  'brewery_active': 1},\n",
       " 'venue': {'venue_id': 4367121,\n",
       "  'venue_name': 'Dorchester Brewing Company',\n",
       "  'venue_slug': 'dorchester-brewing-company',\n",
       "  'primary_category_key': 'Nightlife Spot',\n",
       "  'primary_category': 'Nightlife Spot',\n",
       "  'parent_category_id': '4d4b7105d754a06376d81259',\n",
       "  'categories': {'count': 2,\n",
       "   'items': [{'category_key': 'brewery',\n",
       "     'category_name': 'Brewery',\n",
       "     'category_id': '50327c8591d4c4b30a586d5d',\n",
       "     'is_primary': True},\n",
       "    {'category_key': 'beer_bar',\n",
       "     'category_name': 'Beer Bar',\n",
       "     'category_id': '56aa371ce4b08b9a8d57356c',\n",
       "     'is_primary': False}]},\n",
       "  'location': {'venue_address': '1250 Massachusetts Ave',\n",
       "   'venue_city': 'Boston',\n",
       "   'venue_state': 'MA',\n",
       "   'venue_country': 'United States',\n",
       "   'lat': 42.322,\n",
       "   'lng': -71.0626},\n",
       "  'contact': {'twitter': '@dorchesterbrew',\n",
       "   'venue_url': 'http://www.dorchesterbrewing.com'},\n",
       "  'foursquare': {'foursquare_id': '56520396498e05915ac06a89',\n",
       "   'foursquare_url': 'http://4sq.com/1Mw6IFL'},\n",
       "  'venue_icon': {'sm': 'https://ss3.4sqi.net/img/categories_v2/food/brewery_bg_64.png',\n",
       "   'md': 'https://ss3.4sqi.net/img/categories_v2/food/brewery_bg_88.png',\n",
       "   'lg': 'https://ss3.4sqi.net/img/categories_v2/food/brewery_bg_512.png'},\n",
       "  'is_verified': False},\n",
       " 'comments': {'total_count': 0, 'count': 0, 'items': []},\n",
       " 'toasts': {'total_count': 0, 'count': 0, 'auth_toast': False, 'items': []},\n",
       " 'media': {'count': 1,\n",
       "  'items': [{'photo_id': 267643039,\n",
       "    'photo': {'photo_img_sm': 'https://untappd.akamaized.net/photos/2019_12_07/df57a645e6c8aa3e8ec6ce72aa9a7b2f_200x200.jpg',\n",
       "     'photo_img_md': 'https://untappd.akamaized.net/photos/2019_12_07/df57a645e6c8aa3e8ec6ce72aa9a7b2f_640x640.jpg',\n",
       "     'photo_img_lg': 'https://untappd.akamaized.net/photos/2019_12_07/df57a645e6c8aa3e8ec6ce72aa9a7b2f_1280x1280.jpg',\n",
       "     'photo_img_og': 'https://untappd.akamaized.net/photos/2019_12_07/df57a645e6c8aa3e8ec6ce72aa9a7b2f_raw.jpg'}}]},\n",
       " 'source': {'app_name': 'Untappd for Android - (V2)',\n",
       "  'app_website': 'http://untpd.it/androidapp'},\n",
       " 'badges': {'retro_status': False,\n",
       "  'count': 1,\n",
       "  'items': [{'badge_id': 1,\n",
       "    'user_badge_id': 601184259,\n",
       "    'badge_name': 'Newbie',\n",
       "    'badge_description': \"So, you're new around here? Congrats on your first brew! This one's for you.\",\n",
       "    'created_at': 'Sat, 07 Dec 2019 16:14:56 +0000',\n",
       "    'badge_image': {'sm': 'https://untappd.akamaized.net/badges/bdg_newbie_sm.jpg',\n",
       "     'md': 'https://untappd.akamaized.net/badges/bdg_newbie_md.jpg',\n",
       "     'lg': 'https://untappd.akamaized.net/badges/bdg_newbie_lg.jpg'}}]}}"
      ]
     },
     "execution_count": 100,
     "metadata": {},
     "output_type": "execute_result"
    }
   ],
   "source": [
    "\n",
    "jsons.iloc[0]"
   ]
  },
  {
   "cell_type": "code",
   "execution_count": 121,
   "metadata": {},
   "outputs": [],
   "source": []
  },
  {
   "cell_type": "code",
   "execution_count": 140,
   "metadata": {},
   "outputs": [],
   "source": [
    "jsons  = df.json.apply(lambda j: json.loads(j))\n",
    "\n",
    "venues = jsons.apply(\n",
    "    lambda x: \n",
    "    pd.concat([\n",
    "        pd.Series(x[\"venue\"]),\n",
    "        pd.Series(x[\"user\"])[[\"user_name\"]],\n",
    "        pd.Series(x[\"beer\"]),\n",
    "        pd.Series(x)[[\"checkin_id\",\"created_at\",\"rating_score\"]]\n",
    "        ])\n",
    "        )\n",
    "\n",
    "venues_info = pd.concat([venues, \n",
    "pd.concat([\n",
    "    venues['contact'].apply(lambda x: pd.Series(x)),\n",
    "    venues['location'].apply(lambda x: pd.Series(x)),\n",
    "], axis = 1)],axis=1).set_index(\"venue_slug\")\n",
    "\n",
    "venue_users = venues_info.groupby(\"venue_slug\").user_name.apply(','.join).rename(\"user_names\")\n",
    "venue_rating = venues_info.groupby(\"venue_slug\").rating_score.sum().rename(\"total_rating\")\n",
    "venue_counts = venues_info.groupby(\"venue_slug\").size().rename(\"n_checkins\")\n",
    "\n",
    "venues_annotated = venues_info.join(pd.concat([venue_users, venue_rating, venue_counts],axis=1))\n",
    "venues_annotated.to_csv(\"../_data/venues.csv\")"
   ]
  },
  {
   "cell_type": "code",
   "execution_count": 142,
   "metadata": {},
   "outputs": [
    {
     "data": {
      "text/plain": [
       "venue_slug\n",
       "dorchester-brewing-company    fab_ben\n",
       "Name: user_names, dtype: object"
      ]
     },
     "execution_count": 142,
     "metadata": {},
     "output_type": "execute_result"
    }
   ],
   "source": [
    "\n",
    "venues_annotated.user_nindames"
   ]
  }
 ],
 "metadata": {
  "file_extension": ".py",
  "kernelspec": {
   "display_name": "Python 3",
   "language": "python",
   "name": "python3"
  },
  "language_info": {
   "codemirror_mode": {
    "name": "ipython",
    "version": 3
   },
   "file_extension": ".py",
   "mimetype": "text/x-python",
   "name": "python",
   "nbconvert_exporter": "python",
   "pygments_lexer": "ipython3",
   "version": "3.7.3"
  },
  "mimetype": "text/x-python",
  "name": "python",
  "npconvert_exporter": "python",
  "pygments_lexer": "ipython3",
  "version": 3
 },
 "nbformat": 4,
 "nbformat_minor": 2
}
