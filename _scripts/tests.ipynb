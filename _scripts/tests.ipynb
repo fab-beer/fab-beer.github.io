{
 "cells": [
  {
   "cell_type": "code",
   "execution_count": 1,
   "metadata": {},
   "outputs": [],
   "source": [
    "import pandas as pd\n",
    "import wget\n",
    "import os"
   ]
  },
  {
   "cell_type": "code",
   "execution_count": 31,
   "metadata": {},
   "outputs": [],
   "source": [
    "google_sheet_url = \"https://docs.google.com/spreadsheets/d/1V8QPCbUr2nvWX_6KEvYehHmQv4SIg-YiiPIHflUOvmk/export?format=csv#gid=2026932345\"\n",
    "df2=pd.read_csv(google_sheet_url,skiprows=0).fillna(\"\").iloc[1:]\n",
    "utnames = pd.DataFrame(pd.Series(df2.loc[lambda x: x.untappd != \"\"][\"untappd\"].unique()))\n",
    "utnames.to_csv(\"../_data/untappd_users.csv\")"
   ]
  },
  {
   "cell_type": "code",
   "execution_count": 27,
   "metadata": {},
   "outputs": [],
   "source": []
  },
  {
   "cell_type": "code",
   "execution_count": 26,
   "metadata": {},
   "outputs": [],
   "source": [
    "\n"
   ]
  },
  {
   "cell_type": "code",
   "execution_count": 29,
   "metadata": {},
   "outputs": [
    {
     "name": "stdout",
     "output_type": "stream",
     "text": [
      "downloading sheet https://docs.google.com/spreadsheets/d/1v-CTS4fl13XTLm0kJWs21Q2VCz8_k4wpr9k9utg5i_w/export?format=csv#gid=2026932345\n",
      "done!\n"
     ]
    }
   ],
   "source": [
    "\n",
    "\n"
   ]
  },
  {
   "cell_type": "code",
   "execution_count": 32,
   "metadata": {},
   "outputs": [
    {
     "name": "stdout",
     "output_type": "stream",
     "text": [
      "checking directories\n",
      "clearing ../assets/people\n",
      "clearing ../raw_assets/people\n"
     ]
    }
   ],
   "source": [
    "google_sheet_url = \"https://docs.google.com/spreadsheets/d/1v-CTS4fl13XTLm0kJWs21Q2VCz8_k4wpr9k9utg5i_w/export?format=csv#gid=2026932345\"\n",
    "df=pd.read_csv(google_sheet_url,skiprows=0).fillna(\"\").iloc[1:]\n",
    "\n",
    "print (\"checking directories\")\n",
    "for d in [\"../assets/people\",\"../raw_assets/people\"]:\n",
    "    if not os.path.isdir(d):\n",
    "        os.makedirs(d)\n",
    "        print(f\"creating {d}\")\n",
    "    else:\n",
    "        print(f\"clearing {d}\")\n",
    "        for f in os.listdir(d):\n",
    "            os.remove(os.path.join(d,f))"
   ]
  },
  {
   "cell_type": "code",
   "execution_count": 4,
   "metadata": {},
   "outputs": [
    {
     "name": "stdout",
     "output_type": "stream",
     "text": [
      "getting images\n",
      "[raw_]getting ../assets/people/ben1.jpg\n",
      "[raw_]getting ../assets/people/adam1.jpg\n",
      "[raw_]getting ../assets/people/bryan1.jpg\n",
      "[raw_]getting ../assets/people/david1.jpg\n",
      "[raw_]getting ../assets/people/christine1.jpg\n",
      "[raw_]getting ../assets/people/andy1.jpg\n",
      "[raw_]getting ../assets/people/joey1.jpg\n"
     ]
    }
   ],
   "source": [
    "print('getting images')\n",
    "df[\"raw_assetpath\"] = df.imagename.apply(lambda x: f\"../raw_assets/people/{x}.jpg\" )\n",
    "df[\"assetpath\"] = df.imagename.apply(lambda x: f\"../assets/people/{x}.jpg\" )\n",
    "\n",
    "\n",
    "\n",
    "for idx,row in df.iterrows():\n",
    "    print (f\"[raw_]getting {row.assetpath}\")\n",
    "    url =  row.image_download\n",
    "    wget.download(url, row.raw_assetpath)\n",
    "    wget.download(url, row.assetpath)\n"
   ]
  },
  {
   "cell_type": "code",
   "execution_count": 5,
   "metadata": {},
   "outputs": [
    {
     "name": "stdout",
     "output_type": "stream",
     "text": [
      "optimizing files for web\n",
      "\n",
      "\n",
      "Using these symbols:\n",
      "\n",
      "  ✅ Optimized file     ℹ️  EXIF info present\n",
      "  🔴 Skipped file       ⤵  Image was downsized     🔻 Size reduction (%)\n",
      "\n",
      "No image files were found. Please enter a valid path to the image file or the folder containing any images to be processed.\n",
      "\n",
      "\n",
      "Using these symbols:\n",
      "\n",
      "  ✅ Optimized file     ℹ️  EXIF info present\n",
      "  🔴 Skipped file       ⤵  Image was downsized     🔻 Size reduction (%)\n",
      "\n",
      "No image files were found. Please enter a valid path to the image file or the folder containing any images to be processed.\n",
      "\n",
      "\n",
      "Using these symbols:\n",
      "\n",
      "  ✅ Optimized file     ℹ️  EXIF info present\n",
      "  🔴 Skipped file       ⤵  Image was downsized     🔻 Size reduction (%)\n",
      "\n",
      "No image files were found. Please enter a valid path to the image file or the folder containing any images to be processed.\n",
      "\n",
      "\n",
      "Using these symbols:\n",
      "\n",
      "  ✅ Optimized file     ℹ️  EXIF info present\n",
      "  🔴 Skipped file       ⤵  Image was downsized     🔻 Size reduction (%)\n",
      "\n",
      "No image files were found. Please enter a valid path to the image file or the folder containing any images to be processed.\n"
     ]
    }
   ],
   "source": [
    "print(f\"optimizing files for web\")\n",
    "!for f in find ../assets/people/ -name '*jpg' ; do  optimize-images -rc -mh 1200 \"$f\"; done"
   ]
  },
  {
   "cell_type": "code",
   "execution_count": 6,
   "metadata": {},
   "outputs": [
    {
     "name": "stdout",
     "output_type": "stream",
     "text": [
      "outputting data to csv\n"
     ]
    }
   ],
   "source": [
    "df[\"webasset\"] = df.imagename.apply(lambda x: f\"/assets/people/{x}.jpg\" )\n",
    "\n",
    "print(f\"outputting data to csv\")\n",
    "df.to_csv(\"../_data/people.csv\")    \n",
    "    "
   ]
  }
 ],
 "metadata": {
  "kernelspec": {
   "display_name": "Python 3",
   "language": "python",
   "name": "python3"
  },
  "language_info": {
   "codemirror_mode": {
    "name": "ipython",
    "version": 3
   },
   "file_extension": ".py",
   "mimetype": "text/x-python",
   "name": "python",
   "nbconvert_exporter": "python",
   "pygments_lexer": "ipython3",
   "version": "3.7.4"
  }
 },
 "nbformat": 4,
 "nbformat_minor": 4
}
