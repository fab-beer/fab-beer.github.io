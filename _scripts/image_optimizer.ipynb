{
 "cells": [
  {
   "cell_type": "code",
   "execution_count": 1,
   "metadata": {},
   "outputs": [],
   "source": [
    "import pandas as pd\n",
    "import wget\n",
    "\n",
    "google_sheet_url = \"https://docs.google.com/spreadsheets/d/1v-CTS4fl13XTLm0kJWs21Q2VCz8_k4wpr9k9utg5i_w/export?format=csv#gid=2026932345\"\n",
    "df=pd.read_csv(google_sheet_url,skiprows=0).fillna(\"\").iloc[1:]\n",
    "\n",
    "df[\"raw_assetpath\"] = df.imagename.apply(lambda x: f\"../raw_assets/people/{x}.jpg\" )\n",
    "df[\"assetpath\"] = df.imagename.apply(lambda x: f\"../assets/people/{x}.jpg\" )\n",
    "for idx,row in df.iterrows():\n",
    "    url =  row.image_download\n",
    "    wget.download(url, row.raw_assetpath)\n",
    "    wget.download(url, row.assetpath)\n",
    "\n",
    "df.to_csv(\"../_data/people.csv\")    \n",
    "    "
   ]
  },
  {
   "cell_type": "code",
   "execution_count": 2,
   "metadata": {},
   "outputs": [
    {
     "name": "stdout",
     "output_type": "stream",
     "text": [
      "\r\n",
      "\r\n",
      "Using these symbols:\r\n",
      "\r\n",
      "  ✅ Optimized file     ℹ️  EXIF info present\r\n",
      "  🔴 Skipped file       ⤵  Image was downsized     🔻 Size reduction (%)\r\n",
      "\r\n",
      "No image files were found. Please enter a valid path to the image file or the folder containing any images to be processed.\r\n",
      "\r\n",
      "\r\n",
      "Using these symbols:\r\n",
      "\r\n",
      "  ✅ Optimized file     ℹ️  EXIF info present\r\n",
      "  🔴 Skipped file       ⤵  Image was downsized     🔻 Size reduction (%)\r\n",
      "\r\n",
      "\r\n",
      "Recursively searching and optimizing image files in:\r\n",
      "../assets/people/\r\n",
      "\r\n",
      "\r\n",
      "✅  [OPTIMIZED] ../assets/people/ben1.jpg                                      \r\n",
      "     JPG/RGB: 272.3 KB  ->  JPG/RGB: 269.5 KB 🔻 1.0%\r\n",
      "✅  [OPTIMIZED] ../assets/people/christine1.jpg                                \r\n",
      "     JPG/RGB: 491.6 KB  ->  JPG/RGB: 491.6 KB 🔻 0.0%\r\n",
      "✅  [OPTIMIZED] ../assets/people/adam1 (1).jpg                                 \r\n",
      "    ℹ️  JPG/RGB: 691.8 KB  ->  ⤵ JPG/RGB: 111.4 KB 🔻 83.9%\r\n",
      "🔴  [SKIPPED] ../assets/people/adam1.jpg                                       \r\n",
      "🔴  [SKIPPED] ../assets/people/andy1.jpg                                       \r\n",
      "✅  [OPTIMIZED] ../assets/people/christine1 (1).jpg                            \r\n",
      "    ℹ️  JPG/RGB: 3.9 MB  ->  ⤵ JPG/RGB: 489.2 KB 🔻 87.7%\r\n",
      "✅  [OPTIMIZED] ../assets/people/joey1.jpg                                     \r\n",
      "     JPG/RGB: 115.6 KB  ->  ⤵ JPG/RGB: 115.6 KB 🔻 0.0%\r\n",
      "✅  [OPTIMIZED] ../assets/people/andy1 (1).jpg                                 \r\n",
      "    ℹ️  JPG/RGB: 2.8 MB  ->  ⤵ JPG/RGB: 166.0 KB 🔻 94.3%\r\n",
      "✅  [OPTIMIZED] ../assets/people/ben1 (1).jpg                                  \r\n",
      "    ℹ️  JPG/RGB: 5.9 MB  ->  ⤵ JPG/RGB: 262.4 KB 🔻 95.7%\r\n",
      "✅  [OPTIMIZED] ../assets/people/joey1 (1).jpg                                 \r\n",
      "    ℹ️  JPG/RGB: 585.9 KB  ->  ⤵ JPG/RGB: 115.6 KB 🔻 80.3%\r\n",
      "----------------------------------------\r\n",
      "\r\n",
      "   Processed 10 files (15.0 MB) in 3.5s (2.8 f/s).\r\n",
      "   Optimized 8 files.\r\n",
      "   Average savings: 1.6 MB per optimized file\r\n",
      "   Total space saved: 12.7 MB / 85.0%\r\n",
      "\r\n",
      "usage: optimize-images [-h] [-v] [-s] [-nr] [-mw MAX_WIDTH] [-mh MAX_HEIGHT]\r\n",
      "                       [-g] [-nc] [-fm] [-q QUALITY] [-ke] [-rc]\r\n",
      "                       [-mc MAX_COLORS] [-rt] [-bg VAL VAL VAL]\r\n",
      "                       [-hbg HEX_COLOR] [-cb] [-ca] [-fd]\r\n",
      "                       [path]\r\n",
      "optimize-images: error: unrecognized arguments: -name\r\n",
      "\r\n",
      "\r\n",
      "Using these symbols:\r\n",
      "\r\n",
      "  ✅ Optimized file     ℹ️  EXIF info present\r\n",
      "  🔴 Skipped file       ⤵  Image was downsized     🔻 Size reduction (%)\r\n",
      "\r\n",
      "No image files were found. Please enter a valid path to the image file or the folder containing any images to be processed.\r\n"
     ]
    }
   ],
   "source": [
    "!for f in find ../assets/people/ -name '*jpg' ; do  optimize-images -rc -mh 1200 \"$f\"; done"
   ]
  },
  {
   "cell_type": "code",
   "execution_count": 5,
   "metadata": {},
   "outputs": [],
   "source": []
  }
 ],
 "metadata": {
  "kernelspec": {
   "display_name": "Python 3 (ipykernel)",
   "language": "python",
   "name": "python3"
  },
  "language_info": {
   "codemirror_mode": {
    "name": "ipython",
    "version": 3
   },
   "file_extension": ".py",
   "mimetype": "text/x-python",
   "name": "python",
   "nbconvert_exporter": "python",
   "pygments_lexer": "ipython3",
   "version": "3.9.9"
  }
 },
 "nbformat": 4,
 "nbformat_minor": 4
}
