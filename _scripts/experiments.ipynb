{
 "cells": [
  {
   "cell_type": "code",
   "execution_count": 1,
   "metadata": {},
   "outputs": [],
   "source": [
    "import pandas as pd\n",
    "import wget\n",
    "import os"
   ]
  },
  {
   "cell_type": "code",
   "execution_count": 2,
   "metadata": {},
   "outputs": [],
   "source": [
    "#parse untappd featured tasters\n",
    "google_sheet_url = \"https://docs.google.com/spreadsheets/d/1V8QPCbUr2nvWX_6KEvYehHmQv4SIg-YiiPIHflUOvmk/export?format=csv#gid=2026932345\"\n",
    "df2=pd.read_csv(google_sheet_url,skiprows=1).fillna(\"\").iloc[1:]\n",
    "utnames = pd.DataFrame(pd.Series(df2.loc[lambda x: x.untappd != \"\"][\"untappd\"].unique()).rename(\"untappd\"))\n",
    "utnames.to_csv(\"../_data/untappd_users.csv\")"
   ]
  },
  {
   "cell_type": "code",
   "execution_count": 1,
   "metadata": {},
   "outputs": [],
   "source": [
    "# google_sheet_url = \"https://docs.google.com/spreadsheets/d/1v-CTS4fl13XTLm0kJWs21Q2VCz8_k4wpr9k9utg5i_w/export?format=csv#gid=2026932345\"\n",
    "# df=pd.read_csv(google_sheet_url,skiprows=1).fillna(\"\").iloc[1:]\n",
    "\n",
    "# print (\"checking directories\")\n",
    "# for d in [\"../assets/people\",\"../raw_assets/people\"]:\n",
    "#     if not os.path.isdir(d):\n",
    "#         os.makedirs(d)\n",
    "#         print(f\"creating {d}\")\n",
    "#     else:\n",
    "#         print(f\"clearing {d}\")\n",
    "#         for f in os.listdir(d):\n",
    "#             os.remove(os.path.join(d,f))\n",
    "            \n",
    "            \n",
    "# print('getting images')\n",
    "# df[\"raw_assetpath\"] = df.imagename.apply(lambda x: f\"../raw_assets/people/{x}.jpg\" )\n",
    "# df[\"assetpath\"] = df.imagename.apply(lambda x: f\"../assets/people/{x}.jpg\" )\n",
    "\n",
    "\n",
    "\n",
    "# for idx,row in df.iterrows():\n",
    "#     print (f\"[raw_]getting {row.assetpath}\")\n",
    "#     url =  row.image_download\n",
    "#     wget.download(url, row.raw_assetpath)\n",
    "#     wget.download(url, row.assetpath)\n",
    "\n",
    "    \n",
    "\n",
    "# !for f in find ../assets/people/ -name '*jpg' ; do  optimize-images -rc -mh 1200 \"$f\"; done\n",
    "# df[\"webasset\"] = df.imagename.apply(lambda x: f\"/assets/people/{x}.jpg\" )\n",
    "# print(f\"outputting data to csv\")\n",
    "# df.to_csv(\"../_data/people.csv\")    \n",
    "    "
   ]
  }
 ],
 "metadata": {
  "kernelspec": {
   "display_name": "Python 3 (ipykernel)",
   "language": "python",
   "name": "python3"
  },
  "language_info": {
   "codemirror_mode": {
    "name": "ipython",
    "version": 3
   },
   "file_extension": ".py",
   "mimetype": "text/x-python",
   "name": "python",
   "nbconvert_exporter": "python",
   "pygments_lexer": "ipython3",
   "version": "3.9.9"
  }
 },
 "nbformat": 4,
 "nbformat_minor": 4
}
