{
 "nbformat": 4,
 "nbformat_minor": 2,
 "metadata": {
  "language_info": {
   "name": "python",
   "codemirror_mode": {
    "name": "ipython",
    "version": 3
   },
   "version": "3.7.3"
  },
  "orig_nbformat": 2,
  "file_extension": ".py",
  "mimetype": "text/x-python",
  "name": "python",
  "npconvert_exporter": "python",
  "pygments_lexer": "ipython3",
  "version": 3
 },
 "cells": [
  {
   "cell_type": "code",
   "execution_count": 1,
   "metadata": {},
   "outputs": [
    {
     "name": "stdout",
     "output_type": "stream",
     "text": "HI\n"
    }
   ],
   "source": [
    "print(\"HI\")"
   ]
  },
  {
   "cell_type": "code",
   "execution_count": 5,
   "metadata": {},
   "outputs": [
    {
     "name": "stdout",
     "output_type": "stream",
     "text": "/Users/ben/prj/fab/_scripts\n"
    }
   ],
   "source": [
    "\n",
    "cd _scripts"
   ]
  },
  {
   "cell_type": "code",
   "execution_count": 29,
   "metadata": {},
   "outputs": [
    {
     "data": {
      "text/plain": "DataURI('data:image/png;base64,iVBORw0KGgoAAAANSUhEUgAAAEIAAABBCAYAAABlwHJGAAAACXBIWXMAAAsSAAALEgHS3X78AAAL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\\nDI0Pf8qtUwAAAABJRU5ErkJggg==')"
     },
     "execution_count": 29,
     "metadata": {},
     "output_type": "execute_result"
    }
   ],
   "source": [
    "\n",
    "png_b_uri"
   ]
  },
  {
   "cell_type": "code",
   "execution_count": 39,
   "metadata": {},
   "outputs": [],
   "source": [
    "\n",
    "    from base64 import decodebytes as decode64"
   ]
  },
  {
   "cell_type": "code",
   "execution_count": 40,
   "metadata": {},
   "outputs": [
    {
     "data": {
      "text/plain": "b'<\\xd1\\x88\\x1c4A\\x01\\xea\\xc5\\xa4v, 0\\x13\\xc6\\x9b#Zb\\x07\\xda\\xe8\\xb8,\\xc9\\xb4\\x86$\\x91\\x08\\x88\\xe5\\t\\te)o\\xa2\\xb8\\xe8\\xc8\\x92\\xc80\\xf7\\xd3\\t2\\xee@A`\\xcc\\xbb\\x90\\x10X3.\\xe4\\x04\\x04\\x93\\x90\\xe2\\x164\\xb2\\xef\\xdeev\\x0c>\\x9d\\x1cZ\\xbe\\x8c\\x82=;\\xc6M)\\x90\\xbf\\xa0\\xae\\xe5k\\xfb\\x8fH\\xb2_C\\xd4\\xc3y\\x94l\\x9bk\\xc9\\xc9\\xd9\\xefi\\x18r4\\x9b7\\x1c\"\\x0b\\xccq\\xa2\\xd9\\xd3kka\\xc6\\x9b:\\x1c0*\\xad\\xecR\\xb1l\\xaf\\xee\\xd8q6\\xe7l\\x1fL\\xd9U\\xbf\\x96\\x13]\\xafZ\\n\\x11\\x82\\x9b-\\x15~\\xb3\\x83C\\x9c\\xd2\\xef|+\\xf3]\\xa7G\\xc7\\xb8\\xd2\\xfc\\x86\\xa0\\xec\\x03\\x0f\\xfdt\\x1c\\xceR9x\\nrS1-\\xa8n\\x99=\\xf5\\x01#\\xb4Oto\\xefhh\\xf7\\xb1\\x01\\xa0Iv\\xe6,\\x96\\xe0\\xc6\\xab\\'q\\xd0\\x80\\xfbL\\xfb\\xe1\\xc8\\x10\\xb3\\xde\\x07\\x9f\\xf8\\xecI\\x1e\\xa9\\xae\\xa7\\xe7\\xdb\\xbf\\x82\\xf1\\xc2\\xb7u\\xa4YI\\xfd\\x0f\\x03\\x8a\\x1aYC\\x95\\xd3+6\\x80\\xbcz\\xc2\\x05\\xb8\\x04\\x8c>\\xb2\\xd0\\xc6\\xc1L}\\t\\x052w\\xa8\\x93\\xd1P\\x1e\\x19m\\xe3I\\x8cG^\\x18b\\xcdk\\xf1\\xe9(\\x00\\xd0\\xa4\\xbbW\\xb3\\xc3\\xdaf\\x0ej\\xb43\\x87\\xc9+\\x1boo\\x84{\\x9f\\x10.\\xebR\\x88\\xed#\\x8c\\xd3\\xech\\xa5\\xc0\\xb5\\x99\\xb2\\x10\\xa0c;\\xa4\\x81UD\\x05\\x81s\\xa8\\xd1\\xdd\\xd5\\x10\\xaf\\xfdG\\x84\\xcc\\x81Ku\\xda6\\xe3S\\xa7\\x01L\\xe3\\xd1\\x95\\xe0\\x07u\\xba\\xfb\\xfeY\\xb61\\xb6\\xd1\\x16H\\x08L\\xf0:\\xb3]\\x00\\xe7\\xb5\\x07\\x89\\x1bK\\x1d\\xb3\\x03wiz\\xec\\xf5o\\x9f4\\xbe\\xcc\\xf0\\xcdj\\xe8\\n[\\xa8\\x80\\xc9\\xadk\\xd6\\xd8\\xb3{\\xb0\\xb9\\xa8\\x12\\xd8\\x94\\xf7sq\\xa6e\\xefT\\xea\\x08\\xf9\\x87\\x9b\\xd8\\xa3\\x16\\xb3\\xc3\\x06\\xa8\\xf3H\\x02\\x05\\xe8\\xec\\xa4\\x96L\\xb2\\xee~\\xb6\\xf7\\x94\\x93JL\\x97w[\\xd6\\x9b\\xbc\\'WCH\\x8bujW\\\\jL!\\x18Eq\\xe2\\x8a\\xf0\\xc8H-\\xbd\\x9d5\\xd8\\x06\\xdc\\x9dc\\\\'"
     },
     "execution_count": 40,
     "metadata": {},
     "output_type": "execute_result"
    }
   ],
   "source": [
    "decode64(png_uri.data)"
   ]
  },
  {
   "cell_type": "code",
   "execution_count": 35,
   "metadata": {},
   "outputs": [
    {
     "data": {
      "text/plain": "DataURI('data:image/png;base64,iVBORw0KGgoAAAANSUhEUgAAAEIAAABBCAYAAABlwHJGAAAACXBIWXMAAAsSAAALEgHS3X78AAAL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\\nDI0Pf8qtUwAAAABJRU5ErkJggg==')"
     },
     "execution_count": 35,
     "metadata": {},
     "output_type": "execute_result"
    }
   ],
   "source": [
    "\n",
    "png_b_uri"
   ]
  },
  {
   "cell_type": "code",
   "execution_count": 48,
   "metadata": {},
   "outputs": [],
   "source": [
    "import urllib\n",
    "data = 'data:image/jpeg;base64,iVBORw0KGgoAAAANSUhEUgAAAEIAAABBCAYAAABlwHJGAAAACXBIWXMAAAsSAAALEgHS3X78AAAL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\\nDI0Pf8qtUwAAAABJRU5ErkJggg=='\n",
    "response = urllib.request.urlopen(data)\n",
    "with open('image.jpg', 'wb') as f:\n",
    "    f.write(response.file.read())"
   ]
  },
  {
   "cell_type": "code",
   "execution_count": 54,
   "metadata": {},
   "outputs": [
    {
     "data": {
      "text/plain": "'data:image/png;charset=utf-8;base64,iVBORw0KGgoAAAANSUhEUgAAAEIAAABBCAYAAABlwHJGAAAACXBIWXMAAAsSAAALEgHS3X78AAAL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\\nDI0Pf8qtUwAAAABJRU5ErkJggg=='"
     },
     "execution_count": 54,
     "metadata": {},
     "output_type": "execute_result"
    }
   ],
   "source": [
    "str(png_uri)"
   ]
  },
  {
   "cell_type": "code",
   "execution_count": 56,
   "metadata": {},
   "outputs": [],
   "source": [
    "\n",
    "\n",
    "from datauri import DataURI\n",
    "for code in [\"bf\", \"sqp\"]:\n",
    "    png_uri = DataURI.from_file(f'../assets/balloons/small-heads_{code}.png', charset='utf-8', base64=True,)\n",
    "    #png_b_uri = DataURI.from_file(f'../assets/balloons/small-heads_{code}.png')\n",
    "\n",
    "    # with open(f\"../_includes/balloon_uri_{code}.bin\", \"wb\") as f:\n",
    "    #     f.write(png_b_uri.data)\n",
    "    with open(f\"../_includes/balloon_uri_{code}.txt\", \"w\") as f:\n",
    "        f.write(str(png_uri))"
   ]
  },
  {
   "cell_type": "code",
   "execution_count": 16,
   "metadata": {},
   "outputs": [
    {
     "ename": "InvalidCharset",
     "evalue": "DataURI has no encoding set.",
     "output_type": "error",
     "traceback": [
      "\u001b[0;31m---------------------------------------------------------------------------\u001b[0m",
      "\u001b[0;31mInvalidCharset\u001b[0m                            Traceback (most recent call last)",
      "\u001b[0;32m<ipython-input-16-9cf8aeb0da6d>\u001b[0m in \u001b[0;36m<module>\u001b[0;34m\u001b[0m\n\u001b[0;32m----> 1\u001b[0;31m \u001b[0mpng_uri\u001b[0m\u001b[0;34m.\u001b[0m\u001b[0mtext\u001b[0m\u001b[0;34m(\u001b[0m\u001b[0;34m)\u001b[0m\u001b[0;34m\u001b[0m\u001b[0;34m\u001b[0m\u001b[0m\n\u001b[0m",
      "\u001b[0;32m/usr/local/Caskroom/miniconda/base/lib/python3.7/site-packages/datauri/__init__.py\u001b[0m in \u001b[0;36mtext\u001b[0;34m(self)\u001b[0m\n\u001b[1;32m    111\u001b[0m     \u001b[0;32mdef\u001b[0m \u001b[0mtext\u001b[0m\u001b[0;34m(\u001b[0m\u001b[0mself\u001b[0m\u001b[0;34m)\u001b[0m\u001b[0;34m:\u001b[0m\u001b[0;34m\u001b[0m\u001b[0;34m\u001b[0m\u001b[0m\n\u001b[1;32m    112\u001b[0m         \u001b[0;32mif\u001b[0m \u001b[0mself\u001b[0m\u001b[0;34m.\u001b[0m\u001b[0mcharset\u001b[0m \u001b[0;32mis\u001b[0m \u001b[0;32mNone\u001b[0m\u001b[0;34m:\u001b[0m\u001b[0;34m\u001b[0m\u001b[0;34m\u001b[0m\u001b[0m\n\u001b[0;32m--> 113\u001b[0;31m             \u001b[0;32mraise\u001b[0m \u001b[0mInvalidCharset\u001b[0m\u001b[0;34m(\u001b[0m\u001b[0;34m\"DataURI has no encoding set.\"\u001b[0m\u001b[0;34m)\u001b[0m\u001b[0;34m\u001b[0m\u001b[0;34m\u001b[0m\u001b[0m\n\u001b[0m\u001b[1;32m    114\u001b[0m \u001b[0;34m\u001b[0m\u001b[0m\n\u001b[1;32m    115\u001b[0m         \u001b[0;32mreturn\u001b[0m \u001b[0mself\u001b[0m\u001b[0;34m.\u001b[0m\u001b[0mdata\u001b[0m\u001b[0;34m.\u001b[0m\u001b[0mdecode\u001b[0m\u001b[0;34m(\u001b[0m\u001b[0mself\u001b[0m\u001b[0;34m.\u001b[0m\u001b[0mcharset\u001b[0m\u001b[0;34m)\u001b[0m\u001b[0;34m\u001b[0m\u001b[0;34m\u001b[0m\u001b[0m\n",
      "\u001b[0;31mInvalidCharset\u001b[0m: DataURI has no encoding set."
     ]
    }
   ],
   "source": [
    "png_uri.text()"
   ]
  }
 ]
}