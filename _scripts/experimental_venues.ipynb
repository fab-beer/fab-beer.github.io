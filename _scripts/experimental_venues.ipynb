{
 "cells": [
  {
   "cell_type": "code",
   "execution_count": 2,
   "id": "e8d7bdd7",
   "metadata": {},
   "outputs": [],
   "source": [
    "#!/usr/bin/env python\n",
    "\n",
    "import fill_untappd\n",
    "import yaml, json, sqlite3,  dateparser,os, sys\n",
    "from pprint import pprint\n",
    "# from airtable import Airtable\n",
    "import pandas as pd"
   ]
  },
  {
   "cell_type": "code",
   "execution_count": null,
   "id": "24060f19",
   "metadata": {},
   "outputs": [],
   "source": []
  },
  {
   "cell_type": "code",
   "execution_count": 4,
   "id": "ded818bc",
   "metadata": {},
   "outputs": [
    {
     "name": "stderr",
     "output_type": "stream",
     "text": [
      "/var/folders/jb/0c007hxx54g97_0_9vdk4nk00000gn/T/ipykernel_50491/1840757843.py:9: DeprecationWarning: The default dtype for empty Series will be 'object' instead of 'float64' in a future version. Specify a dtype explicitly to silence this warning.\n",
      "  pd.Series(x[\"venue\"]),\n"
     ]
    }
   ],
   "source": [
    "conn = sqlite3.connect(\"./db/untappd.db\")\n",
    "df = pd.read_sql_query(\"select * from checkins;\", conn)\n",
    "jsons  = df.json.apply(lambda j: json.loads(j))\n",
    "\n",
    "venues = jsons.apply(\n",
    "    lambda x: \n",
    "    pd.concat([\n",
    "        pd.Series(x[\"venue\"]),\n",
    "        pd.Series(x[\"user\"])[[\"user_name\"]],\n",
    "        pd.Series(x[\"beer\"]),\n",
    "        pd.Series(x)[[\"checkin_id\",\"created_at\",\"rating_score\"]]\n",
    "        ])\n",
    "        )\n",
    "\n",
    "venues_info = pd.concat([venues, \n",
    "pd.concat([\n",
    "    venues['contact'].apply(lambda x: pd.Series(x)),\n",
    "    venues['location'].apply(lambda x: pd.Series(x)),\n",
    "], axis = 1)],axis=1).set_index([\"venue_slug\",\"beer_slug\"])\n",
    "\n",
    "venue_users = venues_info.groupby([\"venue_slug\",\"beer_slug\"]).user_name.apply(','.join).rename(\"user_names\")\n",
    "venue_rating = venues_info.groupby([\"venue_slug\",\"beer_slug\"]).rating_score.sum().rename(\"total_rating\")\n",
    "venue_counts = venues_info.groupby([\"venue_slug\",\"beer_slug\"]).size().rename(\"n_checkins\").astype(int)\n",
    "venue_last_checkin = venues_info.groupby([\"venue_slug\",\"beer_slug\"]).created_at.apply(lambda x: x.apply(lambda y:dateparser.parse(y)).max()).rename(\"last_checkin\")\n",
    "\n",
    "\n",
    "venues_info_dedup = venues_info.loc[~venues_info.index.duplicated()]\n",
    "venues_annotated = venues_info_dedup.join(pd.concat([venue_users, venue_rating, venue_counts,venue_last_checkin],axis=1))\n",
    "\n",
    "venues_annotated = venues_annotated.loc[ lambda x: x.venue_url != \"\"]\n",
    "venues_annotated = venues_annotated.loc[ venues_annotated.venue_url.notna()]\n",
    "venues_annotated = venues_annotated.loc[ lambda x: x.venue_city != \"\"]\n",
    "venues_annotated = venues_annotated.loc[ venues_annotated.venue_city.notna()]\n",
    "\n",
    "\n",
    "cans = pd.read_csv(\"../_data/cans.csv\")\n",
    "\n",
    "for i, r in cans.iterrows():\n",
    "    s = yaml.dump(r.to_dict(), default_flow_style=False)\n",
    "    with open(f\"../_cans/{r.code}.md\",\"w\") as f:\n",
    "        f.write(\"---\\n\"),\n",
    "        f.write(s)\n",
    "        f.write(\"\\n---\\n\")\n",
    "\n",
    "cans[\"untappd_id\"] = cans.untappd.str.extract('(\\d*$)').astype(int)\n",
    "\n",
    "venue_beers_annotated = venues_annotated.loc[lambda x: x.venue_id.notna()]\n",
    "venue_beers_annotated = venue_beers_annotated.join(cans.set_index(\"untappd_id\")[[\"code\"]], on =\"bid\")\n",
    "venue_beers_annotated = venue_beers_annotated.rename({\"code\":\"can_code\"}, axis = \"columns\")\n",
    "venue_beers_annotated[\"venue_id\"] = venue_beers_annotated[\"venue_id\"].astype(int)\n",
    "venue_beers_annotated.n_checkins = venue_beers_annotated.n_checkins.astype(int)\n",
    "\n",
    "venue_beers_annotated.to_csv(\"../_data/venue_beers.csv\")\n",
    "\n",
    "venues_annotated = venue_beers_annotated.reset_index()[[\"venue_name\",\"venue_slug\",\"primary_category\",\"contact\",\"venue_id\",\"lat\",\"lng\",\"venue_city\" , \"venue_address\",\"venue_country\",\"venue_city\",\t\"venue_country\",\t\"venue_state\",'venue_url']]\n",
    "venues_annotated.to_csv(\"../_data/venues.csv\")\n"
   ]
  },
  {
   "cell_type": "code",
   "execution_count": 65,
   "id": "2fcc15b3",
   "metadata": {},
   "outputs": [
    {
     "data": {
      "text/plain": [
       "0      {'checkin_id': 953341972, 'created_at': 'Wed, ...\n",
       "1      {'checkin_id': 953343161, 'created_at': 'Wed, ...\n",
       "2      {'checkin_id': 953359908, 'created_at': 'Wed, ...\n",
       "3      {'checkin_id': 953362324, 'created_at': 'Wed, ...\n",
       "4      {'checkin_id': 953363112, 'created_at': 'Wed, ...\n",
       "                             ...                        \n",
       "645    {'checkin_id': 1123179567, 'created_at': 'Sun,...\n",
       "646    {'checkin_id': 1123203612, 'created_at': 'Sun,...\n",
       "647    {'checkin_id': 1123850824, 'created_at': 'Thu,...\n",
       "648    {'checkin_id': 1123853610, 'created_at': 'Thu,...\n",
       "649    {'checkin_id': 1125017922, 'created_at': 'Sun,...\n",
       "Name: json, Length: 650, dtype: object"
      ]
     },
     "execution_count": 65,
     "metadata": {},
     "output_type": "execute_result"
    }
   ],
   "source": [
    "jsons"
   ]
  },
  {
   "cell_type": "code",
   "execution_count": 67,
   "id": "4b5a6877",
   "metadata": {},
   "outputs": [],
   "source": [
    "checkins_df = jsons.apply(\n",
    "    lambda y:pd.Series({\"has_photo\":\n",
    "              ('media' in y) and (y['media']['items'] is not None) and (len(y['media']['items']) > 0),\n",
    "              \"checkin_id\":y[\"checkin_id\"],\n",
    "              \"created_at\":y[\"created_at\"],\n",
    "             }\n",
    ")\n",
    ")"
   ]
  },
  {
   "cell_type": "code",
   "execution_count": 68,
   "id": "27fe5461",
   "metadata": {},
   "outputs": [
    {
     "data": {
      "text/html": [
       "<div>\n",
       "<style scoped>\n",
       "    .dataframe tbody tr th:only-of-type {\n",
       "        vertical-align: middle;\n",
       "    }\n",
       "\n",
       "    .dataframe tbody tr th {\n",
       "        vertical-align: top;\n",
       "    }\n",
       "\n",
       "    .dataframe thead th {\n",
       "        text-align: right;\n",
       "    }\n",
       "</style>\n",
       "<table border=\"1\" class=\"dataframe\">\n",
       "  <thead>\n",
       "    <tr style=\"text-align: right;\">\n",
       "      <th></th>\n",
       "      <th>has_photo</th>\n",
       "      <th>checkin_id</th>\n",
       "      <th>created_at</th>\n",
       "    </tr>\n",
       "  </thead>\n",
       "  <tbody>\n",
       "    <tr>\n",
       "      <th>0</th>\n",
       "      <td>True</td>\n",
       "      <td>953341972</td>\n",
       "      <td>Wed, 14 Oct 2020 22:12:09 +0000</td>\n",
       "    </tr>\n",
       "    <tr>\n",
       "      <th>1</th>\n",
       "      <td>True</td>\n",
       "      <td>953343161</td>\n",
       "      <td>Wed, 14 Oct 2020 22:15:43 +0000</td>\n",
       "    </tr>\n",
       "    <tr>\n",
       "      <th>2</th>\n",
       "      <td>False</td>\n",
       "      <td>953359908</td>\n",
       "      <td>Wed, 14 Oct 2020 23:04:11 +0000</td>\n",
       "    </tr>\n",
       "    <tr>\n",
       "      <th>3</th>\n",
       "      <td>True</td>\n",
       "      <td>953362324</td>\n",
       "      <td>Wed, 14 Oct 2020 23:10:38 +0000</td>\n",
       "    </tr>\n",
       "    <tr>\n",
       "      <th>4</th>\n",
       "      <td>False</td>\n",
       "      <td>953363112</td>\n",
       "      <td>Wed, 14 Oct 2020 23:12:38 +0000</td>\n",
       "    </tr>\n",
       "    <tr>\n",
       "      <th>...</th>\n",
       "      <td>...</td>\n",
       "      <td>...</td>\n",
       "      <td>...</td>\n",
       "    </tr>\n",
       "    <tr>\n",
       "      <th>645</th>\n",
       "      <td>False</td>\n",
       "      <td>1123179567</td>\n",
       "      <td>Sun, 23 Jan 2022 19:23:37 +0000</td>\n",
       "    </tr>\n",
       "    <tr>\n",
       "      <th>646</th>\n",
       "      <td>True</td>\n",
       "      <td>1123203612</td>\n",
       "      <td>Sun, 23 Jan 2022 20:15:30 +0000</td>\n",
       "    </tr>\n",
       "    <tr>\n",
       "      <th>647</th>\n",
       "      <td>False</td>\n",
       "      <td>1123850824</td>\n",
       "      <td>Thu, 27 Jan 2022 18:50:59 +0000</td>\n",
       "    </tr>\n",
       "    <tr>\n",
       "      <th>648</th>\n",
       "      <td>False</td>\n",
       "      <td>1123853610</td>\n",
       "      <td>Thu, 27 Jan 2022 19:01:49 +0000</td>\n",
       "    </tr>\n",
       "    <tr>\n",
       "      <th>649</th>\n",
       "      <td>False</td>\n",
       "      <td>1125017922</td>\n",
       "      <td>Sun, 30 Jan 2022 04:48:45 +0000</td>\n",
       "    </tr>\n",
       "  </tbody>\n",
       "</table>\n",
       "<p>650 rows × 3 columns</p>\n",
       "</div>"
      ],
      "text/plain": [
       "     has_photo  checkin_id                       created_at\n",
       "0         True   953341972  Wed, 14 Oct 2020 22:12:09 +0000\n",
       "1         True   953343161  Wed, 14 Oct 2020 22:15:43 +0000\n",
       "2        False   953359908  Wed, 14 Oct 2020 23:04:11 +0000\n",
       "3         True   953362324  Wed, 14 Oct 2020 23:10:38 +0000\n",
       "4        False   953363112  Wed, 14 Oct 2020 23:12:38 +0000\n",
       "..         ...         ...                              ...\n",
       "645      False  1123179567  Sun, 23 Jan 2022 19:23:37 +0000\n",
       "646       True  1123203612  Sun, 23 Jan 2022 20:15:30 +0000\n",
       "647      False  1123850824  Thu, 27 Jan 2022 18:50:59 +0000\n",
       "648      False  1123853610  Thu, 27 Jan 2022 19:01:49 +0000\n",
       "649      False  1125017922  Sun, 30 Jan 2022 04:48:45 +0000\n",
       "\n",
       "[650 rows x 3 columns]"
      ]
     },
     "execution_count": 68,
     "metadata": {},
     "output_type": "execute_result"
    }
   ],
   "source": [
    "checkins_df\n"
   ]
  },
  {
   "cell_type": "code",
   "execution_count": 60,
   "id": "7fedaefe",
   "metadata": {},
   "outputs": [],
   "source": [
    "# fetch checkin images\n",
    "import wget\n",
    "checkin_photos = jsons.loc[lambda x: x.apply(lambda y:('media' in y) and (y['media']['items'] is not None) and (len(y['media']['items']) > 0))].apply(lambda x:\n",
    "                        pd.Series(dict(**{\n",
    "                            \"checkin_id\":x[\"checkin_id\"],\n",
    "                            \"photo\":x['media']['items'][0]['photo']['photo_img_md'],\n",
    "                            \"photo_sm\":x['media']['items'][0]['photo']['photo_img_sm'],\n",
    "                        }\n",
    "                                      ))).set_index(\"checkin_id\")\n",
    "\n",
    "\n",
    "\n",
    "\n",
    "\n",
    "checkin_photos.apply(\n",
    "        lambda x:wget.download(x.photo,f\"../assets/checkin_photos/{x.name}.jpg\") if not (os.path.isfile(f\"../assets/checkin_photos/{x.name}.jpg\")) else None\n",
    ",axis=1)\n",
    "\n",
    "checkin_photos.apply(\n",
    "        lambda x:wget.download(x.photo_sm,f\"../assets/checkin_photos/{x.name}_sm.jpg\") if not (os.path.isfile(f\"../assets/checkin_photos/{x.name}_sm.jpg\")) else None\n",
    ",axis=1)\n"
   ]
  },
  {
   "cell_type": "code",
   "execution_count": null,
   "id": "8304efc0",
   "metadata": {},
   "outputs": [],
   "source": []
  },
  {
   "cell_type": "code",
   "execution_count": 63,
   "id": "c09bdd76",
   "metadata": {},
   "outputs": [
    {
     "data": {
      "text/plain": [
       "checkin_id\n",
       "953341972     None\n",
       "953343161     None\n",
       "953362324     None\n",
       "953373944     None\n",
       "953375832     None\n",
       "              ... \n",
       "1122693967    None\n",
       "1122698579    None\n",
       "1122788026    None\n",
       "1122789389    None\n",
       "1123203612    None\n",
       "Length: 306, dtype: object"
      ]
     },
     "execution_count": 63,
     "metadata": {},
     "output_type": "execute_result"
    }
   ],
   "source": []
  }
 ],
 "metadata": {
  "kernelspec": {
   "display_name": "Python 3 (ipykernel)",
   "language": "python",
   "name": "python3"
  },
  "language_info": {
   "codemirror_mode": {
    "name": "ipython",
    "version": 3
   },
   "file_extension": ".py",
   "mimetype": "text/x-python",
   "name": "python",
   "nbconvert_exporter": "python",
   "pygments_lexer": "ipython3",
   "version": "3.9.10"
  }
 },
 "nbformat": 4,
 "nbformat_minor": 5
}
