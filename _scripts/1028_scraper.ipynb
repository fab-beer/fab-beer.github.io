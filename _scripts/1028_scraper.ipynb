{
 "cells": [
  {
   "cell_type": "code",
   "execution_count": 16,
   "metadata": {},
   "outputs": [],
   "source": [
    "from pyquery import PyQuery as pq\n",
    "import urllib.request, urllib.error, urllib.parse\n",
    "import os\n",
    "import sqlite3\n",
    "import requests"
   ]
  },
  {
   "cell_type": "code",
   "execution_count": 17,
   "metadata": {},
   "outputs": [
    {
     "name": "stdout",
     "output_type": "stream",
     "text": [
      "/v/the-liquor-junction/6747188\n",
      "/v/fattey-beer-company-orchard-park/10147671\n",
      "/v/fattey-beer-company-buffalo/9072334\n",
      "/v/bellmore-beverage/2485276\n",
      "/v/wines-more-rhode-island/394811\n",
      "/v/wines-more-walpole-mall/5321542\n",
      "/v/liquor-outlet-wine-cellars/430191\n",
      "/v/the-beer-shop/434805\n"
     ]
    }
   ],
   "source": []
  },
  {
   "cell_type": "code",
   "execution_count": 10,
   "metadata": {},
   "outputs": [],
   "source": []
  },
  {
   "cell_type": "code",
   "execution_count": 14,
   "metadata": {},
   "outputs": [
    {
     "name": "stdout",
     "output_type": "stream",
     "text": [
      "/v/the-ale-house/3292\n",
      "/v/corkn-bottle/7250026\n",
      "/v/bergamot/94595\n",
      "/v/five-horses-tavern/90069\n",
      "/v/fattey-beer-company-hamburg/6160907\n",
      "/v/deciccos-tap-room/192111\n",
      "/v/elm-street-taproom/8480496\n",
      "/v/damons-beverage-and-redemption-downtown-bangor/5712428\n",
      "/v/mendon-liquors/1740156\n",
      "/v/fattey-beer-company-orchard-park/10147671\n",
      "/v/craft-carry-chelsea/9793986\n",
      "/v/fattey-beer-company-buffalo/9072334\n",
      "/v/mayhew-wine-shop/6343401\n",
      "/v/craft-beer-cellar-belmont/44038\n",
      "/v/fattey-beer-company-buffalo/9072334\n",
      "/v/vinal-square-craft-beer-house-premium-liquors/5649542\n",
      "/v/city-swiggers/117084\n",
      "/v/beer-witch/10272294\n",
      "/v/canals-bottle-stop/3705550\n",
      "/v/canals-discount-liquor-mart/499710\n",
      "/v/bin-ends-wine-needham/1120376\n",
      "/v/forked-river-wines-and-spirits/8707118\n",
      "/v/nikki-s-liquors-craft-beer-fine-wine-and-spirits/186902\n",
      "/v/nikki-s-liquors-craft-beer-fine-wine-and-spirits/186902\n",
      "/v/dick-s-world-of-wine/548990\n",
      "/v/gary-s-wine-marketplace/426057\n",
      "/v/clinton-gourmet-market/1580167\n",
      "/v/beer-garden-worcester/8251165\n",
      "/v/the-lighthouse/382150\n",
      "/v/forked-river-wines-and-spirits/8707118\n",
      "/v/forked-river-wines-and-spirits/8707118\n",
      "/v/the-still-bar-and-grill/8790997\n",
      "/v/total-wine-and-more-braintree/8972639\n",
      "/v/aurora-brew-works/309500\n",
      "/v/porter-square-wine-spirits/452356\n",
      "/v/209-station/3732118\n",
      "/v/one-stop-brew-shop-llc/572095\n",
      "/v/five-horses-tavern/951095\n",
      "/v/kent-haxton-s-liquor/2636417\n",
      "/v/gold-star-beer-counter/3171446\n",
      "/v/city-swiggers/117084\n",
      "/v/city-swiggers/117084\n",
      "/v/bergamot/94595\n",
      "/v/dick-s-world-of-wine/548990\n",
      "/v/carmine-street-beers/1195996\n",
      "/v/glenville-beverage/610403\n",
      "/v/clinton-gourmet-market/1580167\n",
      "/v/the-ale-house/3292\n",
      "/v/craft-beer-cellar-norfolk/6215165\n",
      "/v/north-north-beverly/10283919\n",
      "/v/craft-beer-cellar-plymouth/2608602\n",
      "/v/crafted/2350978\n",
      "/v/liquor-outlet-wine-cellars/430191\n",
      "/v/bergamot/94595\n",
      "/v/the-beer-shop/434805\n",
      "/v/art-s-specialities/7451783\n",
      "/v/main-street-wine-spirits/7995366\n",
      "/v/roger-wilco/479934\n",
      "/v/kappys-fine-wine-and-spirits/6758839\n",
      "/v/white-eagle-liquor/195458\n",
      "/v/st-gambrinus-beer-shoppe/970315\n",
      "/v/craft-beer-cellar-westford/1055806\n",
      "/v/st-gambrinus-beer-shoppe/970315\n",
      "/v/canals-discount-liquor-mart/499710\n",
      "/v/craft-beer-cellar-westford/1055806\n",
      "/v/martys-liquors/543230\n",
      "/v/wangs-liquors/7646857\n",
      "/v/bell-s-market/1685955\n",
      "/v/damons-beverage-and-redemption-downtown-bangor/5712428\n",
      "/v/underground-coffee-and-ales/3067559\n",
      "/v/savory-grape/910979\n",
      "/v/libbys-liquors/7385408\n",
      "/v/wines-more-wareham/293507\n",
      "/v/j-shields-fine-wine/10025162\n",
      "/v/taphouse-15/3922538\n",
      "/v/beer-garden-worcester/8251165\n",
      "/v/gary-s-wine-marketplace/426057\n",
      "/v/gary-s-wine-marketplace/426057\n",
      "/v/north-yarmouth-variety/5664171\n",
      "/v/elm-street-taproom/8480496\n",
      "/v/decicco-s/8970245\n",
      "/v/kent-haxton-s-liquor/2636417\n",
      "/v/kent-haxton-s-liquor/2636417\n",
      "/v/gold-star-beer-counter/3171446\n",
      "/v/bellmore-beverage/571289\n",
      "/v/bergamot/94595\n",
      "/v/the-liquor-junction/1908053\n",
      "/v/craft-beer-cellar-warwick/2292920\n",
      "/v/gold-star-beer-counter/3171446\n",
      "/v/kent-haxton-s-liquor/2636417\n",
      "/v/kent-haxton-s-liquor/2636417\n",
      "/v/the-still-bar-and-grill/8790997\n",
      "/v/bow-street-market/535106\n",
      "/v/dr-duff-s-lost-found-project/9635005\n",
      "/v/bottle-king/1412805\n"
     ]
    }
   ],
   "source": []
  }
 ],
 "metadata": {
  "kernelspec": {
   "display_name": "Python 3",
   "language": "python",
   "name": "python3"
  },
  "language_info": {
   "codemirror_mode": {
    "name": "ipython",
    "version": 3
   },
   "file_extension": ".py",
   "mimetype": "text/x-python",
   "name": "python",
   "nbconvert_exporter": "python",
   "pygments_lexer": "ipython3",
   "version": "3.8.6"
  }
 },
 "nbformat": 4,
 "nbformat_minor": 4
}
