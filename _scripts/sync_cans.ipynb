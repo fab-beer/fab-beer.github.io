{
 "cells": [
  {
   "cell_type": "code",
   "execution_count": 3,
   "metadata": {},
   "outputs": [
    {
     "name": "stdout",
     "output_type": "stream",
     "text": "/Users/ben/prj/fab/_scripts\n"
    }
   ],
   "source": [
    "\n",
    "cd _scripts/"
   ]
  },
  {
   "cell_type": "code",
   "execution_count": 35,
   "metadata": {},
   "outputs": [],
   "source": [
    "\n",
    "import fill_untappd\n",
    "import yaml, json"
   ]
  },
  {
   "cell_type": "code",
   "execution_count": null,
   "metadata": {},
   "outputs": [],
   "source": []
  },
  {
   "cell_type": "code",
   "execution_count": 59,
   "metadata": {},
   "outputs": [
    {
     "name": "stdout",
     "output_type": "stream",
     "text": "The autoreload extension is already loaded. To reload it, use:\n  %reload_ext autoreload\n"
    }
   ],
   "source": [
    "\n",
    "\n",
    "%load_ext autoreload\n",
    "%autoreload\n",
    "\n",
    "\n",
    "import os\n",
    "from pprint import pprint\n",
    "from airtable import Airtable\n",
    "import pandas as pd\n",
    "\n",
    "base_key = 'appR312nFpbS1UbOH'\n",
    "table_name = 'Cans'\n",
    "airtable = Airtable(base_key, table_name, api_key=\"key78z9GoFTdaPlYd\")\n",
    "record_list = airtable.get_all()\n",
    "cans_df = pd.DataFrame([record['fields'] for record in record_list]).loc[lambda x: ~x.code.isna()]\n",
    "\n",
    "\n"
   ]
  },
  {
   "cell_type": "markdown",
   "execution_count": 63,
   "metadata": {},
   "outputs": [
    {
     "data": {
      "text/html": [
       "<div>\n",
       "<style scoped>\n",
       "    .dataframe tbody tr th:only-of-type {\n",
       "        vertical-align: middle;\n",
       "    }\n",
       "\n",
       "    .dataframe tbody tr th {\n",
       "        vertical-align: top;\n",
       "    }\n",
       "\n",
       "    .dataframe thead th {\n",
       "        text-align: right;\n",
       "    }\n",
       "</style>\n",
       "<table border=\"1\" class=\"dataframe\">\n",
       "  <thead>\n",
       "    <tr style=\"text-align: right;\">\n",
       "      <th></th>\n",
       "      <th>last_brewed</th>\n",
       "      <th>untappd</th>\n",
       "      <th>abv</th>\n",
       "      <th>ad_feature_id</th>\n",
       "      <th>statement</th>\n",
       "      <th>collection_id</th>\n",
       "      <th>ad_feature_html</th>\n",
       "      <th>merch_types</th>\n",
       "      <th>ad_feature_type</th>\n",
       "      <th>beer_style</th>\n",
       "      <th>description</th>\n",
       "      <th>name</th>\n",
       "      <th>artist_id</th>\n",
       "      <th>head_graphic</th>\n",
       "      <th>code</th>\n",
       "      <th>layout</th>\n",
       "      <th>navbar</th>\n",
       "    </tr>\n",
       "  </thead>\n",
       "  <tbody>\n",
       "    <tr>\n",
       "      <td>0</td>\n",
       "      <td>NaN</td>\n",
       "      <td>NaN</td>\n",
       "      <td>NaN</td>\n",
       "      <td>NaN</td>\n",
       "      <td>NaN</td>\n",
       "      <td>NaN</td>\n",
       "      <td>NaN</td>\n",
       "      <td>NaN</td>\n",
       "      <td>NaN</td>\n",
       "      <td>NaN</td>\n",
       "      <td>NaN</td>\n",
       "      <td>NaN</td>\n",
       "      <td>NaN</td>\n",
       "      <td>NaN</td>\n",
       "      <td>NaN</td>\n",
       "      <td>NaN</td>\n",
       "      <td>NaN</td>\n",
       "    </tr>\n",
       "  </tbody>\n",
       "</table>\n",
       "</div>"
      ],
      "text/plain": [
       "  last_brewed untappd  abv ad_feature_id statement collection_id  \\\n",
       "0         NaN     NaN  NaN           NaN       NaN           NaN   \n",
       "\n",
       "  ad_feature_html merch_types ad_feature_type beer_style description name  \\\n",
       "0             NaN         NaN             NaN        NaN         NaN  NaN   \n",
       "\n",
       "  artist_id head_graphic code layout navbar  \n",
       "0       NaN          NaN  NaN    NaN    NaN  "
      ]
     },
     "execution_count": 63,
     "metadata": {},
     "output_type": "execute_result"
    }
   ],
   "source": []
  },
  {
   "cell_type": "code",
   "execution_count": 60,
   "metadata": {},
   "outputs": [],
   "source": [
    "for i, r in cans_df.iterrows():\n",
    "    s = yaml.dump(r.to_dict(), default_flow_style=False)\n",
    "    with open(f\"../_cans/{r.code}.md\",\"w\") as f:\n",
    "        f.write(\"---\\n\")\n",
    "        f.write(s)\n",
    "        f.write(\"\\n---\")\n"
   ]
  },
  {
   "cell_type": "code",
   "execution_count": 61,
   "metadata": {},
   "outputs": [],
   "source": [
    "cans_df.to_json(\"../_data/cans.json\", orient=\"records\")"
   ]
  },
  {
   "cell_type": "code",
   "execution_count": 62,
   "metadata": {},
   "outputs": [
    {
     "name": "stdout",
     "output_type": "stream",
     "text": "{'client_id': 'E8847D1FA347C37248DEC90E1D21568E18FC5152', 'client_secret': '199C86117D183A9B6BCB3220098F34CFF81FD562', 'limit': 100, 'min_id': 844837932}\n{'count': 0, 'items': []}\n"
    }
   ],
   "source": [
    "%autoreload\n",
    "\n",
    "fill_untappd.run()"
   ]
  },
  {
   "cell_type": "code",
   "execution_count": 63,
   "metadata": {},
   "outputs": [],
   "source": [
    "import pandas as pd\n",
    "import sqlite3\n",
    "conn = sqlite3.connect(\"untappd.db\")\n",
    "df = pd.read_sql_query(\"select * from checkins limit 5;\", conn)"
   ]
  },
  {
   "cell_type": "code",
   "execution_count": null,
   "metadata": {},
   "outputs": [],
   "source": [
    "\n"
   ]
  },
  {
   "cell_type": "code",
   "execution_count": 64,
   "metadata": {},
   "outputs": [
    {
     "data": {
      "text/html": "<div>\n<style scoped>\n    .dataframe tbody tr th:only-of-type {\n        vertical-align: middle;\n    }\n\n    .dataframe tbody tr th {\n        vertical-align: top;\n    }\n\n    .dataframe thead th {\n        text-align: right;\n    }\n</style>\n<table border=\"1\" class=\"dataframe\">\n  <thead>\n    <tr style=\"text-align: right;\">\n      <th></th>\n      <th></th>\n      <th>venue_id</th>\n      <th>venue_name</th>\n      <th>primary_category_key</th>\n      <th>primary_category</th>\n      <th>parent_category_id</th>\n      <th>categories</th>\n      <th>location</th>\n      <th>contact</th>\n      <th>foursquare</th>\n      <th>venue_icon</th>\n      <th>...</th>\n      <th>0</th>\n      <th>twitter</th>\n      <th>venue_url</th>\n      <th>0</th>\n      <th>lat</th>\n      <th>lng</th>\n      <th>venue_address</th>\n      <th>venue_city</th>\n      <th>venue_country</th>\n      <th>venue_state</th>\n    </tr>\n    <tr>\n      <th>venue_slug</th>\n      <th>beer_slug</th>\n      <th></th>\n      <th></th>\n      <th></th>\n      <th></th>\n      <th></th>\n      <th></th>\n      <th></th>\n      <th></th>\n      <th></th>\n      <th></th>\n      <th></th>\n      <th></th>\n      <th></th>\n      <th></th>\n      <th></th>\n      <th></th>\n      <th></th>\n      <th></th>\n      <th></th>\n      <th></th>\n      <th></th>\n    </tr>\n  </thead>\n  <tbody>\n    <tr>\n      <td rowspan=\"2\" valign=\"top\">dorchester-brewing-company</td>\n      <td>fab-fermentation-arts-squid-pro-quo</td>\n      <td>4367121.0</td>\n      <td>Dorchester Brewing Company</td>\n      <td>Nightlife Spot</td>\n      <td>Nightlife Spot</td>\n      <td>4d4b7105d754a06376d81259</td>\n      <td>{'count': 2, 'items': [{'category_key': 'brewe...</td>\n      <td>{'venue_address': '1250 Massachusetts Ave', 'v...</td>\n      <td>{'twitter': '@dorchesterbrew', 'venue_url': 'h...</td>\n      <td>{'foursquare_id': '56520396498e05915ac06a89', ...</td>\n      <td>{'sm': 'https://ss3.4sqi.net/img/categories_v2...</td>\n      <td>...</td>\n      <td>NaN</td>\n      <td>@dorchesterbrew</td>\n      <td>http://www.dorchesterbrewing.com</td>\n      <td>NaN</td>\n      <td>42.3220</td>\n      <td>-71.0626</td>\n      <td>1250 Massachusetts Ave</td>\n      <td>Boston</td>\n      <td>United States</td>\n      <td>MA</td>\n    </tr>\n    <tr>\n      <td>fab-fermentation-arts-squid-pro-quo</td>\n      <td>4367121.0</td>\n      <td>Dorchester Brewing Company</td>\n      <td>Nightlife Spot</td>\n      <td>Nightlife Spot</td>\n      <td>4d4b7105d754a06376d81259</td>\n      <td>{'count': 2, 'items': [{'category_key': 'brewe...</td>\n      <td>{'venue_address': '1250 Massachusetts Ave', 'v...</td>\n      <td>{'twitter': '@dorchesterbrew', 'venue_url': 'h...</td>\n      <td>{'foursquare_id': '56520396498e05915ac06a89', ...</td>\n      <td>{'sm': 'https://ss3.4sqi.net/img/categories_v2...</td>\n      <td>...</td>\n      <td>NaN</td>\n      <td>@dorchesterbrew</td>\n      <td>http://www.dorchesterbrewing.com</td>\n      <td>NaN</td>\n      <td>42.3220</td>\n      <td>-71.0626</td>\n      <td>1250 Massachusetts Ave</td>\n      <td>Boston</td>\n      <td>United States</td>\n      <td>MA</td>\n    </tr>\n    <tr>\n      <td>NaN</td>\n      <td>fab-fermentation-arts-squid-pro-quo</td>\n      <td>NaN</td>\n      <td>NaN</td>\n      <td>NaN</td>\n      <td>NaN</td>\n      <td>NaN</td>\n      <td>NaN</td>\n      <td>NaN</td>\n      <td>NaN</td>\n      <td>NaN</td>\n      <td>NaN</td>\n      <td>...</td>\n      <td>NaN</td>\n      <td>NaN</td>\n      <td>NaN</td>\n      <td>NaN</td>\n      <td>NaN</td>\n      <td>NaN</td>\n      <td>NaN</td>\n      <td>NaN</td>\n      <td>NaN</td>\n      <td>NaN</td>\n    </tr>\n    <tr>\n      <td>dorchester-brewing-company</td>\n      <td>fab-fermentation-arts-squid-pro-quo</td>\n      <td>4367121.0</td>\n      <td>Dorchester Brewing Company</td>\n      <td>Nightlife Spot</td>\n      <td>Nightlife Spot</td>\n      <td>4d4b7105d754a06376d81259</td>\n      <td>{'count': 2, 'items': [{'category_key': 'brewe...</td>\n      <td>{'venue_address': '1250 Massachusetts Ave', 'v...</td>\n      <td>{'twitter': '@dorchesterbrew', 'venue_url': 'h...</td>\n      <td>{'foursquare_id': '56520396498e05915ac06a89', ...</td>\n      <td>{'sm': 'https://ss3.4sqi.net/img/categories_v2...</td>\n      <td>...</td>\n      <td>NaN</td>\n      <td>@dorchesterbrew</td>\n      <td>http://www.dorchesterbrewing.com</td>\n      <td>NaN</td>\n      <td>42.3220</td>\n      <td>-71.0626</td>\n      <td>1250 Massachusetts Ave</td>\n      <td>Boston</td>\n      <td>United States</td>\n      <td>MA</td>\n    </tr>\n    <tr>\n      <td>flatbread-company-at-saccos-bowl-haven</td>\n      <td>fab-fermentation-arts-balloon-factory</td>\n      <td>12317.0</td>\n      <td>Flatbread Company at Sacco's Bowl Haven</td>\n      <td>Food</td>\n      <td>Food</td>\n      <td>4d4b7105d754a06374d81259</td>\n      <td>{'count': 1, 'items': [{'category_key': 'pizza...</td>\n      <td>{'venue_address': '45 Day St', 'venue_city': '...</td>\n      <td>{'twitter': '@flatbreadsville', 'venue_url': '...</td>\n      <td>{'foursquare_id': '4bf6c3b65efe2d7f62b46734', ...</td>\n      <td>{'sm': 'https://untappd.akamaized.net/venuelog...</td>\n      <td>...</td>\n      <td>NaN</td>\n      <td>@flatbreadsville</td>\n      <td>www.saccobowl.com</td>\n      <td>NaN</td>\n      <td>42.3957</td>\n      <td>-71.1237</td>\n      <td>45 Day St</td>\n      <td>Somerville</td>\n      <td>United States</td>\n      <td>MA</td>\n    </tr>\n  </tbody>\n</table>\n<p>5 rows × 34 columns</p>\n</div>",
      "text/plain": "                                                                               venue_id  \\\nvenue_slug                             beer_slug                                          \ndorchester-brewing-company             fab-fermentation-arts-squid-pro-quo    4367121.0   \n                                       fab-fermentation-arts-squid-pro-quo    4367121.0   \nNaN                                    fab-fermentation-arts-squid-pro-quo          NaN   \ndorchester-brewing-company             fab-fermentation-arts-squid-pro-quo    4367121.0   \nflatbread-company-at-saccos-bowl-haven fab-fermentation-arts-balloon-factory    12317.0   \n\n                                                                                                           venue_name  \\\nvenue_slug                             beer_slug                                                                        \ndorchester-brewing-company             fab-fermentation-arts-squid-pro-quo                 Dorchester Brewing Company   \n                                       fab-fermentation-arts-squid-pro-quo                 Dorchester Brewing Company   \nNaN                                    fab-fermentation-arts-squid-pro-quo                                        NaN   \ndorchester-brewing-company             fab-fermentation-arts-squid-pro-quo                 Dorchester Brewing Company   \nflatbread-company-at-saccos-bowl-haven fab-fermentation-arts-balloon-factory  Flatbread Company at Sacco's Bowl Haven   \n\n                                                                             primary_category_key  \\\nvenue_slug                             beer_slug                                                    \ndorchester-brewing-company             fab-fermentation-arts-squid-pro-quo         Nightlife Spot   \n                                       fab-fermentation-arts-squid-pro-quo         Nightlife Spot   \nNaN                                    fab-fermentation-arts-squid-pro-quo                    NaN   \ndorchester-brewing-company             fab-fermentation-arts-squid-pro-quo         Nightlife Spot   \nflatbread-company-at-saccos-bowl-haven fab-fermentation-arts-balloon-factory                 Food   \n\n                                                                             primary_category  \\\nvenue_slug                             beer_slug                                                \ndorchester-brewing-company             fab-fermentation-arts-squid-pro-quo     Nightlife Spot   \n                                       fab-fermentation-arts-squid-pro-quo     Nightlife Spot   \nNaN                                    fab-fermentation-arts-squid-pro-quo                NaN   \ndorchester-brewing-company             fab-fermentation-arts-squid-pro-quo     Nightlife Spot   \nflatbread-company-at-saccos-bowl-haven fab-fermentation-arts-balloon-factory             Food   \n\n                                                                                    parent_category_id  \\\nvenue_slug                             beer_slug                                                         \ndorchester-brewing-company             fab-fermentation-arts-squid-pro-quo    4d4b7105d754a06376d81259   \n                                       fab-fermentation-arts-squid-pro-quo    4d4b7105d754a06376d81259   \nNaN                                    fab-fermentation-arts-squid-pro-quo                         NaN   \ndorchester-brewing-company             fab-fermentation-arts-squid-pro-quo    4d4b7105d754a06376d81259   \nflatbread-company-at-saccos-bowl-haven fab-fermentation-arts-balloon-factory  4d4b7105d754a06374d81259   \n\n                                                                                                                     categories  \\\nvenue_slug                             beer_slug                                                                                  \ndorchester-brewing-company             fab-fermentation-arts-squid-pro-quo    {'count': 2, 'items': [{'category_key': 'brewe...   \n                                       fab-fermentation-arts-squid-pro-quo    {'count': 2, 'items': [{'category_key': 'brewe...   \nNaN                                    fab-fermentation-arts-squid-pro-quo                                                  NaN   \ndorchester-brewing-company             fab-fermentation-arts-squid-pro-quo    {'count': 2, 'items': [{'category_key': 'brewe...   \nflatbread-company-at-saccos-bowl-haven fab-fermentation-arts-balloon-factory  {'count': 1, 'items': [{'category_key': 'pizza...   \n\n                                                                                                                       location  \\\nvenue_slug                             beer_slug                                                                                  \ndorchester-brewing-company             fab-fermentation-arts-squid-pro-quo    {'venue_address': '1250 Massachusetts Ave', 'v...   \n                                       fab-fermentation-arts-squid-pro-quo    {'venue_address': '1250 Massachusetts Ave', 'v...   \nNaN                                    fab-fermentation-arts-squid-pro-quo                                                  NaN   \ndorchester-brewing-company             fab-fermentation-arts-squid-pro-quo    {'venue_address': '1250 Massachusetts Ave', 'v...   \nflatbread-company-at-saccos-bowl-haven fab-fermentation-arts-balloon-factory  {'venue_address': '45 Day St', 'venue_city': '...   \n\n                                                                                                                        contact  \\\nvenue_slug                             beer_slug                                                                                  \ndorchester-brewing-company             fab-fermentation-arts-squid-pro-quo    {'twitter': '@dorchesterbrew', 'venue_url': 'h...   \n                                       fab-fermentation-arts-squid-pro-quo    {'twitter': '@dorchesterbrew', 'venue_url': 'h...   \nNaN                                    fab-fermentation-arts-squid-pro-quo                                                  NaN   \ndorchester-brewing-company             fab-fermentation-arts-squid-pro-quo    {'twitter': '@dorchesterbrew', 'venue_url': 'h...   \nflatbread-company-at-saccos-bowl-haven fab-fermentation-arts-balloon-factory  {'twitter': '@flatbreadsville', 'venue_url': '...   \n\n                                                                                                                     foursquare  \\\nvenue_slug                             beer_slug                                                                                  \ndorchester-brewing-company             fab-fermentation-arts-squid-pro-quo    {'foursquare_id': '56520396498e05915ac06a89', ...   \n                                       fab-fermentation-arts-squid-pro-quo    {'foursquare_id': '56520396498e05915ac06a89', ...   \nNaN                                    fab-fermentation-arts-squid-pro-quo                                                  NaN   \ndorchester-brewing-company             fab-fermentation-arts-squid-pro-quo    {'foursquare_id': '56520396498e05915ac06a89', ...   \nflatbread-company-at-saccos-bowl-haven fab-fermentation-arts-balloon-factory  {'foursquare_id': '4bf6c3b65efe2d7f62b46734', ...   \n\n                                                                                                                     venue_icon  \\\nvenue_slug                             beer_slug                                                                                  \ndorchester-brewing-company             fab-fermentation-arts-squid-pro-quo    {'sm': 'https://ss3.4sqi.net/img/categories_v2...   \n                                       fab-fermentation-arts-squid-pro-quo    {'sm': 'https://ss3.4sqi.net/img/categories_v2...   \nNaN                                    fab-fermentation-arts-squid-pro-quo                                                  NaN   \ndorchester-brewing-company             fab-fermentation-arts-squid-pro-quo    {'sm': 'https://ss3.4sqi.net/img/categories_v2...   \nflatbread-company-at-saccos-bowl-haven fab-fermentation-arts-balloon-factory  {'sm': 'https://untappd.akamaized.net/venuelog...   \n\n                                                                              ...  \\\nvenue_slug                             beer_slug                              ...   \ndorchester-brewing-company             fab-fermentation-arts-squid-pro-quo    ...   \n                                       fab-fermentation-arts-squid-pro-quo    ...   \nNaN                                    fab-fermentation-arts-squid-pro-quo    ...   \ndorchester-brewing-company             fab-fermentation-arts-squid-pro-quo    ...   \nflatbread-company-at-saccos-bowl-haven fab-fermentation-arts-balloon-factory  ...   \n\n                                                                               0  \\\nvenue_slug                             beer_slug                                   \ndorchester-brewing-company             fab-fermentation-arts-squid-pro-quo   NaN   \n                                       fab-fermentation-arts-squid-pro-quo   NaN   \nNaN                                    fab-fermentation-arts-squid-pro-quo   NaN   \ndorchester-brewing-company             fab-fermentation-arts-squid-pro-quo   NaN   \nflatbread-company-at-saccos-bowl-haven fab-fermentation-arts-balloon-factory NaN   \n\n                                                                                       twitter  \\\nvenue_slug                             beer_slug                                                 \ndorchester-brewing-company             fab-fermentation-arts-squid-pro-quo     @dorchesterbrew   \n                                       fab-fermentation-arts-squid-pro-quo     @dorchesterbrew   \nNaN                                    fab-fermentation-arts-squid-pro-quo                 NaN   \ndorchester-brewing-company             fab-fermentation-arts-squid-pro-quo     @dorchesterbrew   \nflatbread-company-at-saccos-bowl-haven fab-fermentation-arts-balloon-factory  @flatbreadsville   \n\n                                                                                                     venue_url  \\\nvenue_slug                             beer_slug                                                                 \ndorchester-brewing-company             fab-fermentation-arts-squid-pro-quo    http://www.dorchesterbrewing.com   \n                                       fab-fermentation-arts-squid-pro-quo    http://www.dorchesterbrewing.com   \nNaN                                    fab-fermentation-arts-squid-pro-quo                                 NaN   \ndorchester-brewing-company             fab-fermentation-arts-squid-pro-quo    http://www.dorchesterbrewing.com   \nflatbread-company-at-saccos-bowl-haven fab-fermentation-arts-balloon-factory                 www.saccobowl.com   \n\n                                                                               0  \\\nvenue_slug                             beer_slug                                   \ndorchester-brewing-company             fab-fermentation-arts-squid-pro-quo   NaN   \n                                       fab-fermentation-arts-squid-pro-quo   NaN   \nNaN                                    fab-fermentation-arts-squid-pro-quo   NaN   \ndorchester-brewing-company             fab-fermentation-arts-squid-pro-quo   NaN   \nflatbread-company-at-saccos-bowl-haven fab-fermentation-arts-balloon-factory NaN   \n\n                                                                                  lat  \\\nvenue_slug                             beer_slug                                        \ndorchester-brewing-company             fab-fermentation-arts-squid-pro-quo    42.3220   \n                                       fab-fermentation-arts-squid-pro-quo    42.3220   \nNaN                                    fab-fermentation-arts-squid-pro-quo        NaN   \ndorchester-brewing-company             fab-fermentation-arts-squid-pro-quo    42.3220   \nflatbread-company-at-saccos-bowl-haven fab-fermentation-arts-balloon-factory  42.3957   \n\n                                                                                  lng  \\\nvenue_slug                             beer_slug                                        \ndorchester-brewing-company             fab-fermentation-arts-squid-pro-quo   -71.0626   \n                                       fab-fermentation-arts-squid-pro-quo   -71.0626   \nNaN                                    fab-fermentation-arts-squid-pro-quo        NaN   \ndorchester-brewing-company             fab-fermentation-arts-squid-pro-quo   -71.0626   \nflatbread-company-at-saccos-bowl-haven fab-fermentation-arts-balloon-factory -71.1237   \n\n                                                                                       venue_address  \\\nvenue_slug                             beer_slug                                                       \ndorchester-brewing-company             fab-fermentation-arts-squid-pro-quo    1250 Massachusetts Ave   \n                                       fab-fermentation-arts-squid-pro-quo    1250 Massachusetts Ave   \nNaN                                    fab-fermentation-arts-squid-pro-quo                       NaN   \ndorchester-brewing-company             fab-fermentation-arts-squid-pro-quo    1250 Massachusetts Ave   \nflatbread-company-at-saccos-bowl-haven fab-fermentation-arts-balloon-factory               45 Day St   \n\n                                                                              venue_city  \\\nvenue_slug                             beer_slug                                           \ndorchester-brewing-company             fab-fermentation-arts-squid-pro-quo        Boston   \n                                       fab-fermentation-arts-squid-pro-quo        Boston   \nNaN                                    fab-fermentation-arts-squid-pro-quo           NaN   \ndorchester-brewing-company             fab-fermentation-arts-squid-pro-quo        Boston   \nflatbread-company-at-saccos-bowl-haven fab-fermentation-arts-balloon-factory  Somerville   \n\n                                                                              venue_country  \\\nvenue_slug                             beer_slug                                              \ndorchester-brewing-company             fab-fermentation-arts-squid-pro-quo    United States   \n                                       fab-fermentation-arts-squid-pro-quo    United States   \nNaN                                    fab-fermentation-arts-squid-pro-quo              NaN   \ndorchester-brewing-company             fab-fermentation-arts-squid-pro-quo    United States   \nflatbread-company-at-saccos-bowl-haven fab-fermentation-arts-balloon-factory  United States   \n\n                                                                              venue_state  \nvenue_slug                             beer_slug                                           \ndorchester-brewing-company             fab-fermentation-arts-squid-pro-quo             MA  \n                                       fab-fermentation-arts-squid-pro-quo             MA  \nNaN                                    fab-fermentation-arts-squid-pro-quo            NaN  \ndorchester-brewing-company             fab-fermentation-arts-squid-pro-quo             MA  \nflatbread-company-at-saccos-bowl-haven fab-fermentation-arts-balloon-factory           MA  \n\n[5 rows x 34 columns]"
     },
     "execution_count": 64,
     "metadata": {},
     "output_type": "execute_result"
    }
   ],
   "source": [
    "\n",
    "venues_info"
   ]
  },
  {
   "cell_type": "code",
   "execution_count": 65,
   "metadata": {},
   "outputs": [
    {
     "name": "stdout",
     "output_type": "stream",
     "text": "5\n3\n"
    }
   ],
   "source": [
    "print(len(venues_info))\n",
    "print(len(venues_info.loc[~venues_info.index.duplicated()]))\n"
   ]
  },
  {
   "cell_type": "code",
   "execution_count": 67,
   "metadata": {},
   "outputs": [],
   "source": [
    "jsons  = df.json.apply(lambda j: json.loads(j))\n",
    "\n",
    "venues = jsons.apply(\n",
    "    lambda x: \n",
    "    pd.concat([\n",
    "        pd.Series(x[\"venue\"]),\n",
    "        pd.Series(x[\"user\"])[[\"user_name\"]],\n",
    "        pd.Series(x[\"beer\"]),\n",
    "        pd.Series(x)[[\"checkin_id\",\"created_at\",\"rating_score\"]]\n",
    "        ])\n",
    "        )\n",
    "\n",
    "venues_info = pd.concat([venues, \n",
    "pd.concat([\n",
    "    venues['contact'].apply(lambda x: pd.Series(x)),\n",
    "    venues['location'].apply(lambda x: pd.Series(x)),\n",
    "], axis = 1)],axis=1).set_index([\"venue_slug\",\"beer_slug\"])\n",
    "\n",
    "venue_users = venues_info.groupby([\"venue_slug\",\"beer_slug\"]).user_name.apply(','.join).rename(\"user_names\")\n",
    "venue_rating = venues_info.groupby([\"venue_slug\",\"beer_slug\"]).rating_score.sum().rename(\"total_rating\")\n",
    "venue_counts = venues_info.groupby([\"venue_slug\",\"beer_slug\"]).size().rename(\"n_checkins\")\n",
    "\n",
    "venues_info_dedup = venues_info.loc[~venues_info.index.duplicated()]\n",
    "venues_annotated = venues_info_dedup.join(pd.concat([venue_users, venue_rating, venue_counts],axis=1))\n",
    "\n",
    "venues_annotated.to_csv(\"../_data/venues.csv\")"
   ]
  },
  {
   "cell_type": "code",
   "execution_count": null,
   "metadata": {},
   "outputs": [],
   "source": [
    "\n",
    "\n"
   ]
  }
 ],
 "metadata": {
  "file_extension": ".py",
  "kernelspec": {
   "display_name": "Python 3",
   "language": "python",
   "name": "python3"
  },
  "language_info": {
   "codemirror_mode": {
    "name": "ipython",
    "version": 3
   },
   "file_extension": ".py",
   "mimetype": "text/x-python",
   "name": "python",
   "nbconvert_exporter": "python",
   "pygments_lexer": "ipython3",
   "version": "3.7.3"
  },
  "mimetype": "text/x-python",
  "name": "python",
  "npconvert_exporter": "python",
  "pygments_lexer": "ipython3",
  "version": 3
 },
 "nbformat": 4,
 "nbformat_minor": 2
}