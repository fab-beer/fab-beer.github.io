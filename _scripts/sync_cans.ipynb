{
 "cells": [
  {
   "cell_type": "code",
   "execution_count": 155,
   "metadata": {},
   "outputs": [
    {
     "name": "stdout",
     "output_type": "stream",
     "text": "The autoreload extension is already loaded. To reload it, use:\n  %reload_ext autoreload\n{'client_id': 'E8847D1FA347C37248DEC90E1D21568E18FC5152', 'client_secret': '199C86117D183A9B6BCB3220098F34CFF81FD562', 'limit': 100, 'min_id': 849140778}\n{'count': 0, 'items': []}\n"
    }
   ],
   "source": [
    "\n",
    "\n",
    "%load_ext autoreload\n",
    "%autoreload\n",
    "\n",
    "\n",
    "import fill_untappd\n",
    "import yaml, json, sqlite3,  dateparser,os, sys\n",
    "from pprint import pprint\n",
    "from airtable import Airtable\n",
    "import pandas as pd\n",
    "\n",
    "fill_untappd.run()\n",
    "\n",
    "import pandas as pd\n",
    "\n",
    "conn = sqlite3.connect(\"untappd.db\")\n",
    "df = pd.read_sql_query(\"select * from checkins;\", conn)\n",
    "jsons  = df.json.apply(lambda j: json.loads(j))\n",
    "\n",
    "venues = jsons.apply(\n",
    "    lambda x: \n",
    "    pd.concat([\n",
    "        pd.Series(x[\"venue\"]),\n",
    "        pd.Series(x[\"user\"])[[\"user_name\"]],\n",
    "        pd.Series(x[\"beer\"]),\n",
    "        pd.Series(x)[[\"checkin_id\",\"created_at\",\"rating_score\"]]\n",
    "        ])\n",
    "        )\n",
    "\n",
    "venues_info = pd.concat([venues, \n",
    "pd.concat([\n",
    "    venues['contact'].apply(lambda x: pd.Series(x)),\n",
    "    venues['location'].apply(lambda x: pd.Series(x)),\n",
    "], axis = 1)],axis=1).set_index([\"venue_slug\",\"beer_slug\"])\n",
    "\n",
    "venue_users = venues_info.groupby([\"venue_slug\",\"beer_slug\"]).user_name.apply(','.join).rename(\"user_names\")\n",
    "venue_rating = venues_info.groupby([\"venue_slug\",\"beer_slug\"]).rating_score.sum().rename(\"total_rating\")\n",
    "venue_counts = venues_info.groupby([\"venue_slug\",\"beer_slug\"]).size().rename(\"n_checkins\").astype(int)\n",
    "venue_last_checkin = venues_info.groupby([\"venue_slug\",\"beer_slug\"]).created_at.apply(lambda x: x.apply(lambda y:dateparser.parse(y)).max()).rename(\"last_checkin\")\n",
    "\n",
    "\n",
    "venues_info_dedup = venues_info.loc[~venues_info.index.duplicated()]\n",
    "venues_annotated = venues_info_dedup.join(pd.concat([venue_users, venue_rating, venue_counts,venue_last_checkin],axis=1))\n",
    "\n",
    "venues_annotated = venues_annotated.loc[ lambda x: x.venue_url != \"\"]\n",
    "venues_annotated = venues_annotated.loc[ venues_annotated.venue_url.notna()]\n",
    "venues_annotated = venues_annotated.loc[ lambda x: x.venue_city != \"\"]\n",
    "venues_annotated = venues_annotated.loc[ venues_annotated.venue_city.notna()]\n",
    "\n",
    "\n",
    "cans = pd.read_csv(\"../_data/cans.csv\")\n",
    "cans[\"untappd_id\"] = cans.untappd.str.extract('(\\d*$)').astype(int)\n",
    "\n",
    "venue_beers_annotated = venues_annotated.loc[lambda x: x.venue_id.notna()]\n",
    "venue_beers_annotated = venue_beers_annotated.join(cans.set_index(\"untappd_id\")[[\"code\"]], on =\"bid\")\n",
    "venue_beers_annotated = venue_beers_annotated.rename({\"code\":\"can_code\"}, axis = \"columns\")\n",
    "venue_beers_annotated[\"venue_id\"] = venue_beers_annotated[\"venue_id\"].astype(int)\n",
    "venue_beers_annotated.n_checkins = venue_beers_annotated.n_checkins.astype(int)\n",
    "\n",
    "venue_beers_annotated.to_csv(\"../_data/venue_beers.csv\")\n",
    "\n",
    "venues_annotated = venue_beers_annotated.reset_index()[[\"venue_name\",\"venue_slug\",\"primary_category\",\"contact\",\"venue_id\",\"lat\",\"lng\",\"venue_city\" , \"venue_address\",\"venue_country\",\"venue_city\",\t\"venue_country\",\t\"venue_state\",'venue_url']]\n",
    "venues_annotated.to_csv(\"../_data/venues.csv\")"
   ]
  },
  {
   "cell_type": "code",
   "execution_count": 150,
   "metadata": {},
   "outputs": [
    {
     "name": "stdout",
     "output_type": "stream",
     "text": "{'client_id': 'E8847D1FA347C37248DEC90E1D21568E18FC5152', 'client_secret': '199C86117D183A9B6BCB3220098F34CFF81FD562', 'limit': 100, 'min_id': 849140778}\n{'count': 0, 'items': []}\n"
    }
   ],
   "source": [
    "fill_untappd.run()"
   ]
  },
  {
   "cell_type": "code",
   "execution_count": 158,
   "metadata": {},
   "outputs": [
    {
     "data": {
      "text/html": "<div>\n<style scoped>\n    .dataframe tbody tr th:only-of-type {\n        vertical-align: middle;\n    }\n\n    .dataframe tbody tr th {\n        vertical-align: top;\n    }\n\n    .dataframe thead th {\n        text-align: right;\n    }\n</style>\n<table border=\"1\" class=\"dataframe\">\n  <thead>\n    <tr style=\"text-align: right;\">\n      <th></th>\n      <th>venue_name</th>\n      <th>venue_slug</th>\n      <th>primary_category</th>\n      <th>contact</th>\n      <th>venue_id</th>\n      <th>lat</th>\n      <th>lng</th>\n      <th>venue_city</th>\n      <th>venue_address</th>\n      <th>venue_country</th>\n      <th>venue_city</th>\n      <th>venue_country</th>\n      <th>venue_state</th>\n      <th>venue_url</th>\n    </tr>\n  </thead>\n  <tbody>\n    <tr>\n      <td>0</td>\n      <td>Dorchester Brewing Company</td>\n      <td>dorchester-brewing-company</td>\n      <td>Nightlife Spot</td>\n      <td>{'twitter': '@dorchesterbrew', 'venue_url': 'h...</td>\n      <td>4367121</td>\n      <td>42.3220</td>\n      <td>-71.0626</td>\n      <td>Boston</td>\n      <td>1250 Massachusetts Ave</td>\n      <td>United States</td>\n      <td>Boston</td>\n      <td>United States</td>\n      <td>MA</td>\n      <td>http://www.dorchesterbrewing.com</td>\n    </tr>\n    <tr>\n      <td>1</td>\n      <td>Flatbread Company at Sacco's Bowl Haven</td>\n      <td>flatbread-company-at-saccos-bowl-haven</td>\n      <td>Food</td>\n      <td>{'twitter': '@flatbreadsville', 'venue_url': '...</td>\n      <td>12317</td>\n      <td>42.3957</td>\n      <td>-71.1237</td>\n      <td>Somerville</td>\n      <td>45 Day St</td>\n      <td>United States</td>\n      <td>Somerville</td>\n      <td>United States</td>\n      <td>MA</td>\n      <td>www.saccobowl.com</td>\n    </tr>\n    <tr>\n      <td>2</td>\n      <td>Flynn's Irish Pub - Mansfield</td>\n      <td>flynns-irish-pub</td>\n      <td>Food</td>\n      <td>{'twitter': '@FlynnsIrishPub', 'venue_url': 'h...</td>\n      <td>1265320</td>\n      <td>42.0297</td>\n      <td>-71.2180</td>\n      <td>Mansfield</td>\n      <td>219-223 N Main St</td>\n      <td>United States</td>\n      <td>Mansfield</td>\n      <td>United States</td>\n      <td>MA</td>\n      <td>http://www.gotoflynns.com/</td>\n    </tr>\n    <tr>\n      <td>3</td>\n      <td>Danvers, MA</td>\n      <td>danvers-ma</td>\n      <td>Outdoors &amp; Recreation</td>\n      <td>{'twitter': '', 'venue_url': 'http://www.danve...</td>\n      <td>95275</td>\n      <td>42.5751</td>\n      <td>-70.9301</td>\n      <td></td>\n      <td></td>\n      <td>United States</td>\n      <td></td>\n      <td>United States</td>\n      <td>MA</td>\n      <td>http://www.danvers.govoffice.com</td>\n    </tr>\n    <tr>\n      <td>4</td>\n      <td>Danvers, MA</td>\n      <td>danvers-ma</td>\n      <td>Outdoors &amp; Recreation</td>\n      <td>{'twitter': '', 'venue_url': 'http://www.danve...</td>\n      <td>95275</td>\n      <td>42.5751</td>\n      <td>-70.9301</td>\n      <td></td>\n      <td></td>\n      <td>United States</td>\n      <td></td>\n      <td>United States</td>\n      <td>MA</td>\n      <td>http://www.danvers.govoffice.com</td>\n    </tr>\n  </tbody>\n</table>\n</div>",
      "text/plain": "                                venue_name  \\\n0               Dorchester Brewing Company   \n1  Flatbread Company at Sacco's Bowl Haven   \n2            Flynn's Irish Pub - Mansfield   \n3                              Danvers, MA   \n4                              Danvers, MA   \n\n                               venue_slug       primary_category  \\\n0              dorchester-brewing-company         Nightlife Spot   \n1  flatbread-company-at-saccos-bowl-haven                   Food   \n2                        flynns-irish-pub                   Food   \n3                              danvers-ma  Outdoors & Recreation   \n4                              danvers-ma  Outdoors & Recreation   \n\n                                             contact  venue_id      lat  \\\n0  {'twitter': '@dorchesterbrew', 'venue_url': 'h...   4367121  42.3220   \n1  {'twitter': '@flatbreadsville', 'venue_url': '...     12317  42.3957   \n2  {'twitter': '@FlynnsIrishPub', 'venue_url': 'h...   1265320  42.0297   \n3  {'twitter': '', 'venue_url': 'http://www.danve...     95275  42.5751   \n4  {'twitter': '', 'venue_url': 'http://www.danve...     95275  42.5751   \n\n       lng  venue_city           venue_address  venue_country  venue_city  \\\n0 -71.0626      Boston  1250 Massachusetts Ave  United States      Boston   \n1 -71.1237  Somerville               45 Day St  United States  Somerville   \n2 -71.2180   Mansfield       219-223 N Main St  United States   Mansfield   \n3 -70.9301                                      United States               \n4 -70.9301                                      United States               \n\n   venue_country venue_state                         venue_url  \n0  United States          MA  http://www.dorchesterbrewing.com  \n1  United States          MA                 www.saccobowl.com  \n2  United States          MA        http://www.gotoflynns.com/  \n3  United States          MA  http://www.danvers.govoffice.com  \n4  United States          MA  http://www.danvers.govoffice.com  "
     },
     "execution_count": 158,
     "metadata": {},
     "output_type": "execute_result"
    }
   ],
   "source": [
    "\n",
    "venues_annotated"
   ]
  },
  {
   "cell_type": "code",
   "execution_count": 157,
   "metadata": {},
   "outputs": [
    {
     "data": {
      "text/plain": "0    http://www.dorchesterbrewing.com\n1                   www.saccobowl.com\n2          http://www.gotoflynns.com/\n3    http://www.danvers.govoffice.com\n4    http://www.danvers.govoffice.com\nName: venue_url, dtype: object"
     },
     "execution_count": 157,
     "metadata": {},
     "output_type": "execute_result"
    }
   ],
   "source": [
    "\n",
    "venues_annotated.venue_url"
   ]
  },
  {
   "cell_type": "code",
   "execution_count": 151,
   "metadata": {},
   "outputs": [],
   "source": [
    "\n",
    "conn = sqlite3.connect(\"untappd.db\")\n",
    "df = pd.read_sql_query(\"select * from checkins;\", conn)\n",
    "jsons  = df.json.apply(lambda j: json.loads(j))\n"
   ]
  },
  {
   "cell_type": "code",
   "execution_count": 154,
   "metadata": {},
   "outputs": [
    {
     "data": {
      "text/plain": "0     {'checkin_id': 838537272, 'created_at': 'Sat, ...\n1     {'checkin_id': 840159586, 'created_at': 'Wed, ...\n2     {'checkin_id': 843595254, 'created_at': 'Fri, ...\n3     {'checkin_id': 843598886, 'created_at': 'Fri, ...\n4     {'checkin_id': 844777755, 'created_at': 'Sun, ...\n5     {'checkin_id': 844837932, 'created_at': 'Sun, ...\n6     {'checkin_id': 845367612, 'created_at': 'Mon, ...\n7     {'checkin_id': 845370113, 'created_at': 'Mon, ...\n8     {'checkin_id': 845401472, 'created_at': 'Mon, ...\n9     {'checkin_id': 845483235, 'created_at': 'Mon, ...\n10    {'checkin_id': 845525446, 'created_at': 'Tue, ...\n11    {'checkin_id': 845563920, 'created_at': 'Tue, ...\n12    {'checkin_id': 845583146, 'created_at': 'Tue, ...\n13    {'checkin_id': 845584020, 'created_at': 'Tue, ...\n14    {'checkin_id': 845704440, 'created_at': 'Tue, ...\n15    {'checkin_id': 845977174, 'created_at': 'Tue, ...\n16    {'checkin_id': 846951051, 'created_at': 'Thu, ...\n17    {'checkin_id': 846979203, 'created_at': 'Thu, ...\n18    {'checkin_id': 847427278, 'created_at': 'Fri, ...\n19    {'checkin_id': 847716518, 'created_at': 'Fri, ...\n20    {'checkin_id': 847821849, 'created_at': 'Sat, ...\n21    {'checkin_id': 847871621, 'created_at': 'Sat, ...\n22    {'checkin_id': 848083976, 'created_at': 'Sat, ...\n23    {'checkin_id': 848279193, 'created_at': 'Sat, ...\n24    {'checkin_id': 848584794, 'created_at': 'Sun, ...\n25    {'checkin_id': 848589483, 'created_at': 'Sun, ...\n26    {'checkin_id': 848611370, 'created_at': 'Sun, ...\n27    {'checkin_id': 848626800, 'created_at': 'Sun, ...\n28    {'checkin_id': 848645030, 'created_at': 'Sun, ...\n29    {'checkin_id': 848679113, 'created_at': 'Sun, ...\n30    {'checkin_id': 848679431, 'created_at': 'Sun, ...\n31    {'checkin_id': 848685089, 'created_at': 'Sun, ...\n32    {'checkin_id': 848691248, 'created_at': 'Sun, ...\n33    {'checkin_id': 848762103, 'created_at': 'Sun, ...\n34    {'checkin_id': 848965546, 'created_at': 'Sun, ...\n35    {'checkin_id': 848999430, 'created_at': 'Sun, ...\n36    {'checkin_id': 848999685, 'created_at': 'Sun, ...\n37    {'checkin_id': 849077490, 'created_at': 'Sun, ...\n38    {'checkin_id': 849101395, 'created_at': 'Sun, ...\n39    {'checkin_id': 849115193, 'created_at': 'Sun, ...\n40    {'checkin_id': 849140778, 'created_at': 'Mon, ...\nName: json, dtype: object"
     },
     "execution_count": 154,
     "metadata": {},
     "output_type": "execute_result"
    }
   ],
   "source": []
  },
  {
   "cell_type": "code",
   "execution_count": 86,
   "metadata": {},
   "outputs": [
    {
     "data": {
      "text/html": "<div>\n<style scoped>\n    .dataframe tbody tr th:only-of-type {\n        vertical-align: middle;\n    }\n\n    .dataframe tbody tr th {\n        vertical-align: top;\n    }\n\n    .dataframe thead th {\n        text-align: right;\n    }\n</style>\n<table border=\"1\" class=\"dataframe\">\n  <thead>\n    <tr style=\"text-align: right;\">\n      <th></th>\n      <th>venue_name</th>\n      <th>venue_slug</th>\n      <th>primary_category</th>\n      <th>contact</th>\n      <th>venue_id</th>\n      <th>lat</th>\n      <th>lng</th>\n      <th>venue_city</th>\n      <th>venue_address</th>\n      <th>venue_country</th>\n      <th>venue_city</th>\n      <th>venue_country</th>\n      <th>venue_state</th>\n    </tr>\n  </thead>\n  <tbody>\n    <tr>\n      <td>0</td>\n      <td>Dorchester Brewing Company</td>\n      <td>dorchester-brewing-company</td>\n      <td>Nightlife Spot</td>\n      <td>{'twitter': '@dorchesterbrew', 'venue_url': 'h...</td>\n      <td>4367121</td>\n      <td>42.3220</td>\n      <td>-71.0626</td>\n      <td>Boston</td>\n      <td>1250 Massachusetts Ave</td>\n      <td>United States</td>\n      <td>Boston</td>\n      <td>United States</td>\n      <td>MA</td>\n    </tr>\n    <tr>\n      <td>1</td>\n      <td>Flatbread Company at Sacco's Bowl Haven</td>\n      <td>flatbread-company-at-saccos-bowl-haven</td>\n      <td>Food</td>\n      <td>{'twitter': '@flatbreadsville', 'venue_url': '...</td>\n      <td>12317</td>\n      <td>42.3957</td>\n      <td>-71.1237</td>\n      <td>Somerville</td>\n      <td>45 Day St</td>\n      <td>United States</td>\n      <td>Somerville</td>\n      <td>United States</td>\n      <td>MA</td>\n    </tr>\n    <tr>\n      <td>2</td>\n      <td>High Tor State Park</td>\n      <td>high-tor-state-park</td>\n      <td>Outdoors &amp; Recreation</td>\n      <td>{'twitter': '', 'venue_url': ''}</td>\n      <td>2006735</td>\n      <td>41.1911</td>\n      <td>-73.9891</td>\n      <td>New City</td>\n      <td>415 S Mountain Rd</td>\n      <td>United States</td>\n      <td>New City</td>\n      <td>United States</td>\n      <td>NY</td>\n    </tr>\n    <tr>\n      <td>3</td>\n      <td>Flynn's Irish Pub - Mansfield</td>\n      <td>flynns-irish-pub</td>\n      <td>Food</td>\n      <td>{'twitter': '@FlynnsIrishPub', 'venue_url': 'h...</td>\n      <td>1265320</td>\n      <td>42.0297</td>\n      <td>-71.2180</td>\n      <td>Mansfield</td>\n      <td>219-223 N Main St</td>\n      <td>United States</td>\n      <td>Mansfield</td>\n      <td>United States</td>\n      <td>MA</td>\n    </tr>\n    <tr>\n      <td>4</td>\n      <td>Connecticut River</td>\n      <td>connecticut-river</td>\n      <td>Outdoors &amp; Recreation</td>\n      <td>{'twitter': '', 'venue_url': ''}</td>\n      <td>1010984</td>\n      <td>42.2633</td>\n      <td>-72.6063</td>\n      <td>South Hadley</td>\n      <td></td>\n      <td>United States</td>\n      <td>South Hadley</td>\n      <td>United States</td>\n      <td>MA</td>\n    </tr>\n  </tbody>\n</table>\n</div>",
      "text/plain": "                                venue_name  \\\n0               Dorchester Brewing Company   \n1  Flatbread Company at Sacco's Bowl Haven   \n2                      High Tor State Park   \n3            Flynn's Irish Pub - Mansfield   \n4                        Connecticut River   \n\n                               venue_slug       primary_category  \\\n0              dorchester-brewing-company         Nightlife Spot   \n1  flatbread-company-at-saccos-bowl-haven                   Food   \n2                     high-tor-state-park  Outdoors & Recreation   \n3                        flynns-irish-pub                   Food   \n4                       connecticut-river  Outdoors & Recreation   \n\n                                             contact  venue_id      lat  \\\n0  {'twitter': '@dorchesterbrew', 'venue_url': 'h...   4367121  42.3220   \n1  {'twitter': '@flatbreadsville', 'venue_url': '...     12317  42.3957   \n2                   {'twitter': '', 'venue_url': ''}   2006735  41.1911   \n3  {'twitter': '@FlynnsIrishPub', 'venue_url': 'h...   1265320  42.0297   \n4                   {'twitter': '', 'venue_url': ''}   1010984  42.2633   \n\n       lng    venue_city           venue_address  venue_country    venue_city  \\\n0 -71.0626        Boston  1250 Massachusetts Ave  United States        Boston   \n1 -71.1237    Somerville               45 Day St  United States    Somerville   \n2 -73.9891      New City       415 S Mountain Rd  United States      New City   \n3 -71.2180     Mansfield       219-223 N Main St  United States     Mansfield   \n4 -72.6063  South Hadley                          United States  South Hadley   \n\n   venue_country venue_state  \n0  United States          MA  \n1  United States          MA  \n2  United States          NY  \n3  United States          MA  \n4  United States          MA  "
     },
     "execution_count": 86,
     "metadata": {},
     "output_type": "execute_result"
    }
   ],
   "source": [
    "\n",
    "venues_annotated"
   ]
  },
  {
   "cell_type": "code",
   "execution_count": 147,
   "metadata": {},
   "outputs": [
    {
     "name": "stdout",
     "output_type": "stream",
     "text": "The autoreload extension is already loaded. To reload it, use:\n  %reload_ext autoreload\n{'client_id': 'E8847D1FA347C37248DEC90E1D21568E18FC5152', 'client_secret': '199C86117D183A9B6BCB3220098F34CFF81FD562', 'limit': 100, 'min_id': 849140778}\n{'count': 0, 'items': []}\n"
    }
   ],
   "source": [
    "\n",
    "\n",
    "%load_ext autoreload\n",
    "%autoreload\n",
    "\n",
    "\n",
    "import fill_untappd\n",
    "import yaml, json\n",
    "import os\n",
    "from pprint import pprint\n",
    "from airtable import Airtable\n",
    "import pandas as pd\n",
    "\n",
    "\n",
    "\n",
    "import pandas as pd\n",
    "import sqlite3\n",
    "conn = sqlite3.connect(\"untappd.db\")\n",
    "df = pd.read_sql_query(\"select * from checkins;\", conn)\n",
    "jsons  = df.json.apply(lambda j: json.loads(j))\n",
    "\n",
    "venues = jsons.apply(\n",
    "    lambda x: \n",
    "    pd.concat([\n",
    "        pd.Series(x[\"venue\"]),\n",
    "        pd.Series(x[\"user\"])[[\"user_name\"]],\n",
    "        pd.Series(x[\"beer\"]),\n",
    "        pd.Series(x)[[\"checkin_id\",\"created_at\",\"rating_score\"]]\n",
    "        ])\n",
    "        )\n",
    "\n",
    "venues_info = pd.concat([venues, \n",
    "pd.concat([\n",
    "    venues['contact'].apply(lambda x: pd.Series(x)),\n",
    "    venues['location'].apply(lambda x: pd.Series(x)),\n",
    "], axis = 1)],axis=1).set_index([\"venue_slug\",\"beer_slug\"])\n",
    "\n",
    "venue_users = venues_info.groupby([\"venue_slug\",\"beer_slug\"]).user_name.apply(','.join).rename(\"user_names\")\n",
    "venue_rating = venues_info.groupby([\"venue_slug\",\"beer_slug\"]).rating_score.sum().rename(\"total_rating\")\n",
    "venue_counts = venues_info.groupby([\"venue_slug\",\"beer_slug\"]).size().rename(\"n_checkins\")\n",
    "\n",
    "venues_info_dedup = venues_info.loc[~venues_info.index.duplicated()]\n",
    "venues_annotated = venues_info_dedup.join(pd.concat([venue_users, venue_rating, venue_counts],axis=1))\n",
    "\n",
    "venues_annotated = venues_annotated.loc[ lambda x: x.venue_url != \"\"]\n",
    "venues_annotated = venues_annotated.loc[ venues_annotated.venue_url.notna()]\n",
    "\n",
    "cans = pd.read_csv(\"../_data/cans.csv\")\n",
    "cans[\"untappd_id\"] = cans.untappd.str.extract('(\\d*$)').astype(int)\n",
    "\n",
    "venue_beers_annotated = venues_annotated.loc[lambda x: x.venue_id.notna()]\n",
    "venue_beers_annotated = venue_beers_annotated.join(cans.set_index(\"untappd_id\")[[\"code\"]], on =\"bid\")\n",
    "venue_beers_annotated = venue_beers_annotated.rename({\"code\":\"can_code\"}, axis = \"columns\")\n",
    "\n"
   ]
  },
  {
   "cell_type": "code",
   "execution_count": 9,
   "metadata": {},
   "outputs": [],
   "source": [
    "import sqlite3\n",
    "conn = sqlite3.connect(\"untappd.db\")\n",
    "df = pd.read_sql_query(\"select * from checkins limit 100;\", conn)"
   ]
  }
 ],
 "metadata": {
  "file_extension": ".py",
  "kernelspec": {
   "display_name": "Python 3",
   "language": "python",
   "name": "python3"
  },
  "language_info": {
   "codemirror_mode": {
    "name": "ipython",
    "version": 3
   },
   "file_extension": ".py",
   "mimetype": "text/x-python",
   "name": "python",
   "nbconvert_exporter": "python",
   "pygments_lexer": "ipython3",
   "version": "3.7.3"
  },
  "mimetype": "text/x-python",
  "name": "python",
  "npconvert_exporter": "python",
  "pygments_lexer": "ipython3",
  "version": 3
 },
 "nbformat": 4,
 "nbformat_minor": 2
}