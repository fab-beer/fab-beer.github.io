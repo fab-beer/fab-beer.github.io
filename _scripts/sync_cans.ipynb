{
 "cells": [
  {
   "cell_type": "code",
   "execution_count": 15,
   "metadata": {},
   "outputs": [
    {
     "name": "stdout",
     "output_type": "stream",
     "text": [
      "/Users/ben/prj/fab/_scripts\n"
     ]
    }
   ],
   "source": [
    "%cd /Users/ben/prj/fab/_scripts"
   ]
  },
  {
   "cell_type": "code",
   "execution_count": 14,
   "metadata": {},
   "outputs": [],
   "source": [
    "## FROM SYNC_CANS.PY\n",
    "#!/usr/bin/env python\n",
    "\n",
    "import fill_untappd\n",
    "import yaml, json, sqlite3,  dateparser,os, sys\n",
    "from pprint import pprint\n",
    "from airtable import Airtable\n",
    "import pandas as pd\n",
    "\n",
    "\n",
    "def main():\n",
    "    fill_untappd.run()\n",
    "    conn = sqlite3.connect(\"untappd.db\")\n",
    "    df = pd.read_sql_query(\"select * from checkins;\", conn)\n",
    "    jsons  = df.json.apply(lambda j: json.loads(j))\n",
    "\n",
    "    venues = jsons.apply(\n",
    "        lambda x: \n",
    "        pd.concat([\n",
    "            pd.Series(x[\"venue\"]),\n",
    "            pd.Series(x[\"user\"])[[\"user_name\"]],\n",
    "            pd.Series(x[\"beer\"]),\n",
    "            pd.Series(x)[[\"checkin_id\",\"created_at\",\"rating_score\"]]\n",
    "            ])\n",
    "            )\n",
    "\n",
    "    venues_info = pd.concat([venues, \n",
    "    pd.concat([\n",
    "        venues['contact'].apply(lambda x: pd.Series(x)),\n",
    "        venues['location'].apply(lambda x: pd.Series(x)),\n",
    "    ], axis = 1)],axis=1).set_index([\"venue_slug\",\"beer_slug\"])\n",
    "\n",
    "    venue_users = venues_info.groupby([\"venue_slug\",\"beer_slug\"]).user_name.apply(','.join).rename(\"user_names\")\n",
    "    venue_rating = venues_info.groupby([\"venue_slug\",\"beer_slug\"]).rating_score.sum().rename(\"total_rating\")\n",
    "    venue_counts = venues_info.groupby([\"venue_slug\",\"beer_slug\"]).size().rename(\"n_checkins\").astype(int)\n",
    "    venue_last_checkin = venues_info.groupby([\"venue_slug\",\"beer_slug\"]).created_at.apply(lambda x: x.apply(lambda y:dateparser.parse(y)).max()).rename(\"last_checkin\")\n",
    "\n",
    "\n",
    "    venues_info_dedup = venues_info.loc[~venues_info.index.duplicated()]\n",
    "    venues_annotated = venues_info_dedup.join(pd.concat([venue_users, venue_rating, venue_counts,venue_last_checkin],axis=1))\n",
    "\n",
    "    venues_annotated = venues_annotated.loc[ lambda x: x.venue_url != \"\"]\n",
    "    venues_annotated = venues_annotated.loc[ venues_annotated.venue_url.notna()]\n",
    "    venues_annotated = venues_annotated.loc[ lambda x: x.venue_city != \"\"]\n",
    "    venues_annotated = venues_annotated.loc[ venues_annotated.venue_city.notna()]\n",
    "\n",
    "\n",
    "    cans = pd.read_csv(\"../_data/cans.csv\")\n",
    "    cans[\"untappd_id\"] = cans.untappd.str.extract('(\\d*$)').astype(int)\n",
    "\n",
    "    venue_beers_annotated = venues_annotated.loc[lambda x: x.venue_id.notna()]\n",
    "    venue_beers_annotated = venue_beers_annotated.join(cans.set_index(\"untappd_id\")[[\"code\"]], on =\"bid\")\n",
    "    venue_beers_annotated = venue_beers_annotated.rename({\"code\":\"can_code\"}, axis = \"columns\")\n",
    "    venue_beers_annotated[\"venue_id\"] = venue_beers_annotated[\"venue_id\"].astype(int)\n",
    "    venue_beers_annotated.n_checkins = venue_beers_annotated.n_checkins.astype(int)\n",
    "\n",
    "    venue_beers_annotated.to_csv(\"../_data/venue_beers.csv\")\n",
    "\n",
    "    venues_annotated = venue_beers_annotated.reset_index()[[\"venue_name\",\"venue_slug\",\"primary_category\",\"contact\",\"venue_id\",\"lat\",\"lng\",\"venue_city\" , \"venue_address\",\"venue_country\",\"venue_city\",\t\"venue_country\",\t\"venue_state\",'venue_url']]\n",
    "    venues_annotated.to_csv(\"../_data/venues.csv\")\n",
    "\n",
    "# if __name__ == \"__main__\":\n",
    "#     os.chdir(os.path.abspath(os.path.dirname(sys.argv[0])))\n",
    "#     main()"
   ]
  },
  {
   "cell_type": "code",
   "execution_count": 19,
   "metadata": {},
   "outputs": [
    {
     "name": "stdout",
     "output_type": "stream",
     "text": [
      "{'client_id': 'E8847D1FA347C37248DEC90E1D21568E18FC5152', 'client_secret': '199C86117D183A9B6BCB3220098F34CFF81FD562', 'limit': 100, 'min_id': 861551896}\n",
      "{'count': 0, 'items': []}\n"
     ]
    }
   ],
   "source": [
    "main()\n"
   ]
  },
  {
   "cell_type": "code",
   "execution_count": 27,
   "metadata": {},
   "outputs": [],
   "source": [
    "google_sheet_url_1 = \"https://docs.google.com/spreadsheets/d/1cozZyyhcIRuwhdi5Z056_-8LoHC_YR_k-498HTS0-u8/export?format=csv#gid=400302575\"\n",
    "partners_report =pd.read_csv(google_sheet_url,skiprows=0)"
   ]
  },
  {
   "cell_type": "code",
   "execution_count": 35,
   "metadata": {},
   "outputs": [],
   "source": [
    "google_sheet_url_2 = \"https://docs.google.com/spreadsheets/d/1cozZyyhcIRuwhdi5Z056_-8LoHC_YR_k-498HTS0-u8/export?format=csv&id=1cozZyyhcIRuwhdi5Z056_-8LoHC_YR_k-498HTS0-u8&gid=1966703241\"\n",
    "sales_report=pd.read_csv(google_sheet_url_2,skiprows=0)"
   ]
  },
  {
   "cell_type": "code",
   "execution_count": 65,
   "metadata": {},
   "outputs": [],
   "source": [
    "for i, r in cans_df.iterrows():\n",
    "    s = yaml.dump(r.to_dict(), default_flow_style=False)\n",
    "    with open(f\"../_cans/{r.code}.md\",\"w\") as f:\n",
    "        f.write(\"---\\n\"),\n",
    "        f.write(s)\n",
    "        f.write(\"\\n---\\n\")"
   ]
  },
  {
   "cell_type": "code",
   "execution_count": null,
   "metadata": {},
   "outputs": [],
   "source": []
  },
  {
   "cell_type": "code",
   "execution_count": 43,
   "metadata": {},
   "outputs": [],
   "source": []
  },
  {
   "cell_type": "code",
   "execution_count": 63,
   "metadata": {},
   "outputs": [],
   "source": [
    "#accesses can database on airtable\n",
    "#writes to cans.csv\n",
    "\n",
    "from airtable import Airtable\n",
    "base_key = 'appR312nFpbS1UbOH'\n",
    "table_name = 'Cans'\n",
    "airtable = Airtable(base_key, table_name, api_key=\"key78z9GoFTdaPlYd\")\n",
    "record_list = airtable.get_all()\n",
    "cans_df = pd.DataFrame([record['fields'] for record in record_list]).loc[lambda x: ~x.code.isna()]\n",
    "cans_df.to_csv(\"../_data/cans.csv\")"
   ]
  },
  {
   "cell_type": "code",
   "execution_count": 64,
   "metadata": {},
   "outputs": [],
   "source": [
    "# accesses off premises partners from google sheets\n",
    "# writes to offprem.csv\n",
    "\n",
    "google_sheet_url_3 = \"https://docs.google.com/spreadsheets/d/1cozZyyhcIRuwhdi5Z056_-8LoHC_YR_k-498HTS0-u8/export?format=csv&id=1cozZyyhcIRuwhdi5Z056_-8LoHC_YR_k-498HTS0-u8&gid=45430792\"\n",
    "map_partners = pd.read_csv(google_sheet_url_3, skiprows = 0)\n",
    "map_partners.to_csv(\"../_data/offprem_can_locations.csv\")"
   ]
  }
 ],
 "metadata": {
  "file_extension": ".py",
  "kernelspec": {
   "display_name": "Python 3",
   "language": "python",
   "name": "python3"
  },
  "language_info": {
   "codemirror_mode": {
    "name": "ipython",
    "version": 3
   },
   "file_extension": ".py",
   "mimetype": "text/x-python",
   "name": "python",
   "nbconvert_exporter": "python",
   "pygments_lexer": "ipython3",
   "version": "3.7.4"
  },
  "mimetype": "text/x-python",
  "name": "python",
  "npconvert_exporter": "python",
  "pygments_lexer": "ipython3",
  "version": 3
 },
 "nbformat": 4,
 "nbformat_minor": 2
}
