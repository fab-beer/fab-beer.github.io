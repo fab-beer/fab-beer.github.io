{
 "cells": [
  {
   "cell_type": "code",
   "execution_count": 1,
   "metadata": {},
   "outputs": [
    {
     "name": "stdout",
     "output_type": "stream",
     "text": "/Users/ben/prj/fab/_scripts\n"
    }
   ],
   "source": [
    "\n",
    "cd _scripts/"
   ]
  },
  {
   "cell_type": "code",
   "execution_count": 12,
   "metadata": {},
   "outputs": [
    {
     "name": "stdout",
     "output_type": "stream",
     "text": "The autoreload extension is already loaded. To reload it, use:\n  %reload_ext autoreload\n{'client_id': 'E8847D1FA347C37248DEC90E1D21568E18FC5152', 'client_secret': '199C86117D183A9B6BCB3220098F34CFF81FD562', 'limit': 100, 'min_id': 845704440}\n{'count': 0, 'items': []}\n"
    }
   ],
   "source": [
    "\n",
    "\n",
    "%load_ext autoreload\n",
    "%autoreload\n",
    "\n",
    "\n",
    "import fill_untappd\n",
    "import yaml, json\n",
    "import os\n",
    "from pprint import pprint\n",
    "from airtable import Airtable\n",
    "import pandas as pd\n",
    "\n",
    "fill_untappd.run()\n",
    "\n",
    "import pandas as pd\n",
    "import sqlite3\n",
    "conn = sqlite3.connect(\"untappd.db\")\n",
    "df = pd.read_sql_query(\"select * from checkins;\", conn)\n",
    "jsons  = df.json.apply(lambda j: json.loads(j))\n",
    "\n",
    "venues = jsons.apply(\n",
    "    lambda x: \n",
    "    pd.concat([\n",
    "        pd.Series(x[\"venue\"]),\n",
    "        pd.Series(x[\"user\"])[[\"user_name\"]],\n",
    "        pd.Series(x[\"beer\"]),\n",
    "        pd.Series(x)[[\"checkin_id\",\"created_at\",\"rating_score\"]]\n",
    "        ])\n",
    "        )\n",
    "\n",
    "venues_info = pd.concat([venues, \n",
    "pd.concat([\n",
    "    venues['contact'].apply(lambda x: pd.Series(x)),\n",
    "    venues['location'].apply(lambda x: pd.Series(x)),\n",
    "], axis = 1)],axis=1).set_index([\"venue_slug\",\"beer_slug\"])\n",
    "\n",
    "venue_users = venues_info.groupby([\"venue_slug\",\"beer_slug\"]).user_name.apply(','.join).rename(\"user_names\")\n",
    "venue_rating = venues_info.groupby([\"venue_slug\",\"beer_slug\"]).rating_score.sum().rename(\"total_rating\")\n",
    "venue_counts = venues_info.groupby([\"venue_slug\",\"beer_slug\"]).size().rename(\"n_checkins\")\n",
    "\n",
    "venues_info_dedup = venues_info.loc[~venues_info.index.duplicated()]\n",
    "venues_annotated = venues_info_dedup.join(pd.concat([venue_users, venue_rating, venue_counts],axis=1))\n",
    "\n",
    "venues_annotated.to_csv(\"../_data/venues.csv\")"
   ]
  },
  {
   "cell_type": "code",
   "execution_count": 6,
   "metadata": {},
   "outputs": [
    {
     "name": "stdout",
     "output_type": "stream",
     "text": "{'client_id': 'E8847D1FA347C37248DEC90E1D21568E18FC5152', 'client_secret': '199C86117D183A9B6BCB3220098F34CFF81FD562', 'limit': 100, 'min_id': 845704440}\n{'count': 0, 'items': []}\n"
    }
   ],
   "source": [
    "fill_untappd.run()\n"
   ]
  },
  {
   "cell_type": "code",
   "execution_count": 9,
   "metadata": {},
   "outputs": [],
   "source": [
    "import sqlite3\n",
    "conn = sqlite3.connect(\"untappd.db\")\n",
    "df = pd.read_sql_query(\"select * from checkins limit 100;\", conn)"
   ]
  },
  {
   "cell_type": "code",
   "execution_count": 10,
   "metadata": {},
   "outputs": [
    {
     "data": {
      "text/html": "<div>\n<style scoped>\n    .dataframe tbody tr th:only-of-type {\n        vertical-align: middle;\n    }\n\n    .dataframe tbody tr th {\n        vertical-align: top;\n    }\n\n    .dataframe thead th {\n        text-align: right;\n    }\n</style>\n<table border=\"1\" class=\"dataframe\">\n  <thead>\n    <tr style=\"text-align: right;\">\n      <th></th>\n      <th>cid</th>\n      <th>timestamp</th>\n      <th>beer</th>\n      <th>venue</th>\n      <th>json</th>\n    </tr>\n  </thead>\n  <tbody>\n    <tr>\n      <td>0</td>\n      <td>838537272</td>\n      <td>1575735296</td>\n      <td>Squid Pro Quo</td>\n      <td>Dorchester Brewing Company</td>\n      <td>{\"checkin_id\": 838537272, \"created_at\": \"Sat, ...</td>\n    </tr>\n    <tr>\n      <td>1</td>\n      <td>840159586</td>\n      <td>1576099768</td>\n      <td>Squid Pro Quo</td>\n      <td>Dorchester Brewing Company</td>\n      <td>{\"checkin_id\": 840159586, \"created_at\": \"Wed, ...</td>\n    </tr>\n    <tr>\n      <td>2</td>\n      <td>843595254</td>\n      <td>1576871652</td>\n      <td>Squid Pro Quo</td>\n      <td></td>\n      <td>{\"checkin_id\": 843595254, \"created_at\": \"Fri, ...</td>\n    </tr>\n    <tr>\n      <td>3</td>\n      <td>843598886</td>\n      <td>1576871947</td>\n      <td>Squid Pro Quo</td>\n      <td>Dorchester Brewing Company</td>\n      <td>{\"checkin_id\": 843598886, \"created_at\": \"Fri, ...</td>\n    </tr>\n    <tr>\n      <td>4</td>\n      <td>844777755</td>\n      <td>1577033160</td>\n      <td>Balloon Factory</td>\n      <td>Flatbread Company at Sacco's Bowl Haven</td>\n      <td>{\"checkin_id\": 844777755, \"created_at\": \"Sun, ...</td>\n    </tr>\n    <tr>\n      <td>5</td>\n      <td>844837932</td>\n      <td>1577039748</td>\n      <td>Squid Pro Quo</td>\n      <td>High Tor State Park</td>\n      <td>{\"checkin_id\": 844837932, \"created_at\": \"Sun, ...</td>\n    </tr>\n    <tr>\n      <td>6</td>\n      <td>845367612</td>\n      <td>1577132123</td>\n      <td>Balloon Factory</td>\n      <td></td>\n      <td>{\"checkin_id\": 845367612, \"created_at\": \"Mon, ...</td>\n    </tr>\n    <tr>\n      <td>7</td>\n      <td>845370113</td>\n      <td>1577132354</td>\n      <td>Squid Pro Quo</td>\n      <td></td>\n      <td>{\"checkin_id\": 845370113, \"created_at\": \"Mon, ...</td>\n    </tr>\n    <tr>\n      <td>8</td>\n      <td>845401472</td>\n      <td>1577135193</td>\n      <td>Squid Pro Quo</td>\n      <td></td>\n      <td>{\"checkin_id\": 845401472, \"created_at\": \"Mon, ...</td>\n    </tr>\n    <tr>\n      <td>9</td>\n      <td>845483235</td>\n      <td>1577142903</td>\n      <td>Squid Pro Quo</td>\n      <td></td>\n      <td>{\"checkin_id\": 845483235, \"created_at\": \"Mon, ...</td>\n    </tr>\n    <tr>\n      <td>10</td>\n      <td>845525446</td>\n      <td>1577147007</td>\n      <td>Balloon Factory</td>\n      <td>Flynn's Irish Pub - Mansfield</td>\n      <td>{\"checkin_id\": 845525446, \"created_at\": \"Tue, ...</td>\n    </tr>\n    <tr>\n      <td>11</td>\n      <td>845563920</td>\n      <td>1577150668</td>\n      <td>Squid Pro Quo</td>\n      <td></td>\n      <td>{\"checkin_id\": 845563920, \"created_at\": \"Tue, ...</td>\n    </tr>\n    <tr>\n      <td>12</td>\n      <td>845583146</td>\n      <td>1577152513</td>\n      <td>Balloon Factory</td>\n      <td></td>\n      <td>{\"checkin_id\": 845583146, \"created_at\": \"Tue, ...</td>\n    </tr>\n    <tr>\n      <td>13</td>\n      <td>845584020</td>\n      <td>1577152600</td>\n      <td>Balloon Factory</td>\n      <td></td>\n      <td>{\"checkin_id\": 845584020, \"created_at\": \"Tue, ...</td>\n    </tr>\n    <tr>\n      <td>14</td>\n      <td>845704440</td>\n      <td>1577191982</td>\n      <td>Squid Pro Quo</td>\n      <td>Connecticut River</td>\n      <td>{\"checkin_id\": 845704440, \"created_at\": \"Tue, ...</td>\n    </tr>\n  </tbody>\n</table>\n</div>",
      "text/plain": "          cid   timestamp             beer  \\\n0   838537272  1575735296    Squid Pro Quo   \n1   840159586  1576099768    Squid Pro Quo   \n2   843595254  1576871652    Squid Pro Quo   \n3   843598886  1576871947    Squid Pro Quo   \n4   844777755  1577033160  Balloon Factory   \n5   844837932  1577039748    Squid Pro Quo   \n6   845367612  1577132123  Balloon Factory   \n7   845370113  1577132354    Squid Pro Quo   \n8   845401472  1577135193    Squid Pro Quo   \n9   845483235  1577142903    Squid Pro Quo   \n10  845525446  1577147007  Balloon Factory   \n11  845563920  1577150668    Squid Pro Quo   \n12  845583146  1577152513  Balloon Factory   \n13  845584020  1577152600  Balloon Factory   \n14  845704440  1577191982    Squid Pro Quo   \n\n                                      venue  \\\n0                Dorchester Brewing Company   \n1                Dorchester Brewing Company   \n2                                             \n3                Dorchester Brewing Company   \n4   Flatbread Company at Sacco's Bowl Haven   \n5                       High Tor State Park   \n6                                             \n7                                             \n8                                             \n9                                             \n10            Flynn's Irish Pub - Mansfield   \n11                                            \n12                                            \n13                                            \n14                        Connecticut River   \n\n                                                 json  \n0   {\"checkin_id\": 838537272, \"created_at\": \"Sat, ...  \n1   {\"checkin_id\": 840159586, \"created_at\": \"Wed, ...  \n2   {\"checkin_id\": 843595254, \"created_at\": \"Fri, ...  \n3   {\"checkin_id\": 843598886, \"created_at\": \"Fri, ...  \n4   {\"checkin_id\": 844777755, \"created_at\": \"Sun, ...  \n5   {\"checkin_id\": 844837932, \"created_at\": \"Sun, ...  \n6   {\"checkin_id\": 845367612, \"created_at\": \"Mon, ...  \n7   {\"checkin_id\": 845370113, \"created_at\": \"Mon, ...  \n8   {\"checkin_id\": 845401472, \"created_at\": \"Mon, ...  \n9   {\"checkin_id\": 845483235, \"created_at\": \"Mon, ...  \n10  {\"checkin_id\": 845525446, \"created_at\": \"Tue, ...  \n11  {\"checkin_id\": 845563920, \"created_at\": \"Tue, ...  \n12  {\"checkin_id\": 845583146, \"created_at\": \"Tue, ...  \n13  {\"checkin_id\": 845584020, \"created_at\": \"Tue, ...  \n14  {\"checkin_id\": 845704440, \"created_at\": \"Tue, ...  "
     },
     "execution_count": 10,
     "metadata": {},
     "output_type": "execute_result"
    }
   ],
   "source": [
    "\n",
    "\n"
   ]
  }
 ],
 "metadata": {
  "file_extension": ".py",
  "kernelspec": {
   "display_name": "Python 3",
   "language": "python",
   "name": "python3"
  },
  "language_info": {
   "codemirror_mode": {
    "name": "ipython",
    "version": 3
   },
   "file_extension": ".py",
   "mimetype": "text/x-python",
   "name": "python",
   "nbconvert_exporter": "python",
   "pygments_lexer": "ipython3",
   "version": "3.7.3"
  },
  "mimetype": "text/x-python",
  "name": "python",
  "npconvert_exporter": "python",
  "pygments_lexer": "ipython3",
  "version": 3
 },
 "nbformat": 4,
 "nbformat_minor": 2
}