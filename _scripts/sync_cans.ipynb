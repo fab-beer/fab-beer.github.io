{
 "cells": [
  {
   "source": [
    "cd _scripts"
   ],
   "cell_type": "code",
   "outputs": [
    {
     "output_type": "stream",
     "name": "stdout",
     "text": "/Users/ben/prj/fab/_scripts\n"
    }
   ],
   "metadata": {},
   "execution_count": 4
  },
  {
   "source": [
    "\n",
    "\n",
    "%load_ext autoreload\n",
    "%autoreload\n",
    "\n",
    "\n",
    "import fill_untappd\n",
    "import yaml, json, sqlite3,  dateparser,os, sys\n",
    "from pprint import pprint\n",
    "from airtable import Airtable\n",
    "import pandas as pd\n",
    "\n",
    "fill_untappd.run()\n",
    "\n",
    "import pandas as pd\n",
    "\n",
    "conn = sqlite3.connect(\"untappd.db\")\n",
    "df = pd.read_sql_query(\"select * from checkins;\", conn)\n",
    "jsons  = df.json.apply(lambda j: json.loads(j))\n",
    "\n",
    "venues = jsons.apply(\n",
    "    lambda x: \n",
    "    pd.concat([\n",
    "        pd.Series(x[\"venue\"]),\n",
    "        pd.Series(x[\"user\"])[[\"user_name\"]],\n",
    "        pd.Series(x[\"beer\"]),\n",
    "        pd.Series(x)[[\"checkin_id\",\"created_at\",\"rating_score\"]]\n",
    "        ])\n",
    "        )\n",
    "\n",
    "venues_info = pd.concat([venues, \n",
    "pd.concat([\n",
    "    venues['contact'].apply(lambda x: pd.Series(x)),\n",
    "    venues['location'].apply(lambda x: pd.Series(x)),\n",
    "], axis = 1)],axis=1).set_index([\"venue_slug\",\"beer_slug\"])\n",
    "\n",
    "venue_users = venues_info.groupby([\"venue_slug\",\"beer_slug\"]).user_name.apply(','.join).rename(\"user_names\")\n",
    "venue_rating = venues_info.groupby([\"venue_slug\",\"beer_slug\"]).rating_score.sum().rename(\"total_rating\")\n",
    "venue_counts = venues_info.groupby([\"venue_slug\",\"beer_slug\"]).size().rename(\"n_checkins\").astype(int)\n",
    "venue_last_checkin = venues_info.groupby([\"venue_slug\",\"beer_slug\"]).created_at.apply(lambda x: x.apply(lambda y:dateparser.parse(y)).max()).rename(\"last_checkin\")\n",
    "\n",
    "\n",
    "venues_info_dedup = venues_info.loc[~venues_info.index.duplicated()]\n",
    "venues_annotated = venues_info_dedup.join(pd.concat([venue_users, venue_rating, venue_counts,venue_last_checkin],axis=1))\n",
    "\n",
    "venues_annotated = venues_annotated.loc[ lambda x: x.venue_url != \"\"]\n",
    "venues_annotated = venues_annotated.loc[ venues_annotated.venue_url.notna()]\n",
    "venues_annotated = venues_annotated.loc[ lambda x: x.venue_city != \"\"]\n",
    "venues_annotated = venues_annotated.loc[ venues_annotated.venue_city.notna()]\n",
    "\n",
    "\n",
    "cans = pd.read_csv(\"../_data/cans.csv\")\n",
    "cans[\"untappd_id\"] = cans.untappd.str.extract('(\\d*$)').astype(int)\n",
    "\n",
    "venue_beers_annotated = venues_annotated.loc[lambda x: x.venue_id.notna()]\n",
    "venue_beers_annotated = venue_beers_annotated.join(cans.set_index(\"untappd_id\")[[\"code\"]], on =\"bid\")\n",
    "venue_beers_annotated = venue_beers_annotated.rename({\"code\":\"can_code\"}, axis = \"columns\")\n",
    "venue_beers_annotated[\"venue_id\"] = venue_beers_annotated[\"venue_id\"].astype(int)\n",
    "venue_beers_annotated.n_checkins = venue_beers_annotated.n_checkins.astype(int)\n",
    "\n",
    "venue_beers_annotated.to_csv(\"../_data/venue_beers.csv\")\n",
    "\n",
    "venues_annotated = venue_beers_annotated.reset_index()[[\"venue_name\",\"venue_slug\",\"primary_category\",\"contact\",\"venue_id\",\"lat\",\"lng\",\"venue_city\" , \"venue_address\",\"venue_country\",\"venue_city\",\t\"venue_country\",\t\"venue_state\",'venue_url']]\n",
    "venues_annotated.to_csv(\"../_data/venues.csv\")"
   ],
   "cell_type": "code",
   "outputs": [
    {
     "output_type": "stream",
     "name": "stdout",
     "text": "The autoreload extension is already loaded. To reload it, use:\n  %reload_ext autoreload\n{'client_id': 'E8847D1FA347C37248DEC90E1D21568E18FC5152', 'client_secret': '199C86117D183A9B6BCB3220098F34CFF81FD562', 'limit': 100, 'min_id': 851113892}\n{'count': 0, 'items': []}\n"
    }
   ],
   "metadata": {},
   "execution_count": 9
  },
  {
   "source": [
    "\n",
    "venues_annotated"
   ],
   "cell_type": "code",
   "outputs": [
    {
     "output_type": "execute_result",
     "data": {
      "text/plain": "                                venue_name  \\\n0               Dorchester Brewing Company   \n1  Flatbread Company at Sacco's Bowl Haven   \n2            Flynn's Irish Pub - Mansfield   \n3                           Beat Brew Hall   \n4               Craft Beer Cellar Westford   \n5               Dorchester Brewing Company   \n\n                               venue_slug primary_category  \\\n0              dorchester-brewing-company   Nightlife Spot   \n1  flatbread-company-at-saccos-bowl-haven             Food   \n2                        flynns-irish-pub             Food   \n3                          beat-brew-hall   Nightlife Spot   \n4              craft-beer-cellar-westford   Shop & Service   \n5              dorchester-brewing-company   Nightlife Spot   \n\n                                             contact  venue_id      lat  \\\n0  {'twitter': '@dorchesterbrew', 'venue_url': 'h...   4367121  42.3220   \n1  {'twitter': '@flatbreadsville', 'venue_url': '...     12317  42.3957   \n2  {'twitter': '@FlynnsIrishPub', 'venue_url': 'h...   1265320  42.0297   \n3  {'twitter': '@beatcambridge', 'venue_url': 'Be...   1037506  42.3735   \n4  {'twitter': '@cbc_westford', 'venue_url': 'cra...   1055806  42.5692   \n5  {'twitter': '@dorchesterbrew', 'venue_url': 'h...   4367121  42.3220   \n\n       lng  venue_city           venue_address  venue_country  venue_city  \\\n0 -71.0626      Boston  1250 Massachusetts Ave  United States      Boston   \n1 -71.1237  Somerville               45 Day St  United States  Somerville   \n2 -71.2180   Mansfield       219-223 N Main St  United States   Mansfield   \n3 -71.1202   Cambridge           13 Brattle St  United States   Cambridge   \n4 -71.4183    Westford        142 Littleton Rd  United States    Westford   \n5 -71.0626      Boston  1250 Massachusetts Ave  United States      Boston   \n\n   venue_country venue_state                         venue_url  \n0  United States          MA  http://www.dorchesterbrewing.com  \n1  United States          MA                 www.saccobowl.com  \n2  United States          MA        http://www.gotoflynns.com/  \n3  United States          MA                  BeatBrewHall.com  \n4  United States          MA      craftbeercellar.com/westford  \n5  United States          MA  http://www.dorchesterbrewing.com  ",
      "text/html": "<div>\n<style scoped>\n    .dataframe tbody tr th:only-of-type {\n        vertical-align: middle;\n    }\n\n    .dataframe tbody tr th {\n        vertical-align: top;\n    }\n\n    .dataframe thead th {\n        text-align: right;\n    }\n</style>\n<table border=\"1\" class=\"dataframe\">\n  <thead>\n    <tr style=\"text-align: right;\">\n      <th></th>\n      <th>venue_name</th>\n      <th>venue_slug</th>\n      <th>primary_category</th>\n      <th>contact</th>\n      <th>venue_id</th>\n      <th>lat</th>\n      <th>lng</th>\n      <th>venue_city</th>\n      <th>venue_address</th>\n      <th>venue_country</th>\n      <th>venue_city</th>\n      <th>venue_country</th>\n      <th>venue_state</th>\n      <th>venue_url</th>\n    </tr>\n  </thead>\n  <tbody>\n    <tr>\n      <td>0</td>\n      <td>Dorchester Brewing Company</td>\n      <td>dorchester-brewing-company</td>\n      <td>Nightlife Spot</td>\n      <td>{'twitter': '@dorchesterbrew', 'venue_url': 'h...</td>\n      <td>4367121</td>\n      <td>42.3220</td>\n      <td>-71.0626</td>\n      <td>Boston</td>\n      <td>1250 Massachusetts Ave</td>\n      <td>United States</td>\n      <td>Boston</td>\n      <td>United States</td>\n      <td>MA</td>\n      <td>http://www.dorchesterbrewing.com</td>\n    </tr>\n    <tr>\n      <td>1</td>\n      <td>Flatbread Company at Sacco's Bowl Haven</td>\n      <td>flatbread-company-at-saccos-bowl-haven</td>\n      <td>Food</td>\n      <td>{'twitter': '@flatbreadsville', 'venue_url': '...</td>\n      <td>12317</td>\n      <td>42.3957</td>\n      <td>-71.1237</td>\n      <td>Somerville</td>\n      <td>45 Day St</td>\n      <td>United States</td>\n      <td>Somerville</td>\n      <td>United States</td>\n      <td>MA</td>\n      <td>www.saccobowl.com</td>\n    </tr>\n    <tr>\n      <td>2</td>\n      <td>Flynn's Irish Pub - Mansfield</td>\n      <td>flynns-irish-pub</td>\n      <td>Food</td>\n      <td>{'twitter': '@FlynnsIrishPub', 'venue_url': 'h...</td>\n      <td>1265320</td>\n      <td>42.0297</td>\n      <td>-71.2180</td>\n      <td>Mansfield</td>\n      <td>219-223 N Main St</td>\n      <td>United States</td>\n      <td>Mansfield</td>\n      <td>United States</td>\n      <td>MA</td>\n      <td>http://www.gotoflynns.com/</td>\n    </tr>\n    <tr>\n      <td>3</td>\n      <td>Beat Brew Hall</td>\n      <td>beat-brew-hall</td>\n      <td>Nightlife Spot</td>\n      <td>{'twitter': '@beatcambridge', 'venue_url': 'Be...</td>\n      <td>1037506</td>\n      <td>42.3735</td>\n      <td>-71.1202</td>\n      <td>Cambridge</td>\n      <td>13 Brattle St</td>\n      <td>United States</td>\n      <td>Cambridge</td>\n      <td>United States</td>\n      <td>MA</td>\n      <td>BeatBrewHall.com</td>\n    </tr>\n    <tr>\n      <td>4</td>\n      <td>Craft Beer Cellar Westford</td>\n      <td>craft-beer-cellar-westford</td>\n      <td>Shop &amp; Service</td>\n      <td>{'twitter': '@cbc_westford', 'venue_url': 'cra...</td>\n      <td>1055806</td>\n      <td>42.5692</td>\n      <td>-71.4183</td>\n      <td>Westford</td>\n      <td>142 Littleton Rd</td>\n      <td>United States</td>\n      <td>Westford</td>\n      <td>United States</td>\n      <td>MA</td>\n      <td>craftbeercellar.com/westford</td>\n    </tr>\n    <tr>\n      <td>5</td>\n      <td>Dorchester Brewing Company</td>\n      <td>dorchester-brewing-company</td>\n      <td>Nightlife Spot</td>\n      <td>{'twitter': '@dorchesterbrew', 'venue_url': 'h...</td>\n      <td>4367121</td>\n      <td>42.3220</td>\n      <td>-71.0626</td>\n      <td>Boston</td>\n      <td>1250 Massachusetts Ave</td>\n      <td>United States</td>\n      <td>Boston</td>\n      <td>United States</td>\n      <td>MA</td>\n      <td>http://www.dorchesterbrewing.com</td>\n    </tr>\n  </tbody>\n</table>\n</div>"
     },
     "metadata": {},
     "execution_count": 10
    }
   ],
   "metadata": {},
   "execution_count": 10
  },
  {
   "source": [
    "\n",
    "venues_annotated.venue_url"
   ],
   "cell_type": "code",
   "outputs": [],
   "metadata": {},
   "execution_count": 0
  },
  {
   "source": [
    "\n",
    "venues_annotated"
   ],
   "cell_type": "code",
   "outputs": [
    {
     "output_type": "execute_result",
     "data": {
      "text/plain": "                                venue_name  \\\n0               Dorchester Brewing Company   \n1  Flatbread Company at Sacco's Bowl Haven   \n2            Flynn's Irish Pub - Mansfield   \n3                           Beat Brew Hall   \n4               Craft Beer Cellar Westford   \n\n                               venue_slug primary_category  \\\n0              dorchester-brewing-company   Nightlife Spot   \n1  flatbread-company-at-saccos-bowl-haven             Food   \n2                        flynns-irish-pub             Food   \n3                          beat-brew-hall   Nightlife Spot   \n4              craft-beer-cellar-westford   Shop & Service   \n\n                                             contact  venue_id      lat  \\\n0  {'twitter': '@dorchesterbrew', 'venue_url': 'h...   4367121  42.3220   \n1  {'twitter': '@flatbreadsville', 'venue_url': '...     12317  42.3957   \n2  {'twitter': '@FlynnsIrishPub', 'venue_url': 'h...   1265320  42.0297   \n3  {'twitter': '@beatcambridge', 'venue_url': 'Be...   1037506  42.3735   \n4  {'twitter': '@cbc_westford', 'venue_url': 'cra...   1055806  42.5692   \n\n       lng  venue_city           venue_address  venue_country  venue_city  \\\n0 -71.0626      Boston  1250 Massachusetts Ave  United States      Boston   \n1 -71.1237  Somerville               45 Day St  United States  Somerville   \n2 -71.2180   Mansfield       219-223 N Main St  United States   Mansfield   \n3 -71.1202   Cambridge           13 Brattle St  United States   Cambridge   \n4 -71.4183    Westford        142 Littleton Rd  United States    Westford   \n\n   venue_country venue_state                         venue_url  \n0  United States          MA  http://www.dorchesterbrewing.com  \n1  United States          MA                 www.saccobowl.com  \n2  United States          MA        http://www.gotoflynns.com/  \n3  United States          MA                  BeatBrewHall.com  \n4  United States          MA      craftbeercellar.com/westford  ",
      "text/html": "<div>\n<style scoped>\n    .dataframe tbody tr th:only-of-type {\n        vertical-align: middle;\n    }\n\n    .dataframe tbody tr th {\n        vertical-align: top;\n    }\n\n    .dataframe thead th {\n        text-align: right;\n    }\n</style>\n<table border=\"1\" class=\"dataframe\">\n  <thead>\n    <tr style=\"text-align: right;\">\n      <th></th>\n      <th>venue_name</th>\n      <th>venue_slug</th>\n      <th>primary_category</th>\n      <th>contact</th>\n      <th>venue_id</th>\n      <th>lat</th>\n      <th>lng</th>\n      <th>venue_city</th>\n      <th>venue_address</th>\n      <th>venue_country</th>\n      <th>venue_city</th>\n      <th>venue_country</th>\n      <th>venue_state</th>\n      <th>venue_url</th>\n    </tr>\n  </thead>\n  <tbody>\n    <tr>\n      <td>0</td>\n      <td>Dorchester Brewing Company</td>\n      <td>dorchester-brewing-company</td>\n      <td>Nightlife Spot</td>\n      <td>{'twitter': '@dorchesterbrew', 'venue_url': 'h...</td>\n      <td>4367121</td>\n      <td>42.3220</td>\n      <td>-71.0626</td>\n      <td>Boston</td>\n      <td>1250 Massachusetts Ave</td>\n      <td>United States</td>\n      <td>Boston</td>\n      <td>United States</td>\n      <td>MA</td>\n      <td>http://www.dorchesterbrewing.com</td>\n    </tr>\n    <tr>\n      <td>1</td>\n      <td>Flatbread Company at Sacco's Bowl Haven</td>\n      <td>flatbread-company-at-saccos-bowl-haven</td>\n      <td>Food</td>\n      <td>{'twitter': '@flatbreadsville', 'venue_url': '...</td>\n      <td>12317</td>\n      <td>42.3957</td>\n      <td>-71.1237</td>\n      <td>Somerville</td>\n      <td>45 Day St</td>\n      <td>United States</td>\n      <td>Somerville</td>\n      <td>United States</td>\n      <td>MA</td>\n      <td>www.saccobowl.com</td>\n    </tr>\n    <tr>\n      <td>2</td>\n      <td>Flynn's Irish Pub - Mansfield</td>\n      <td>flynns-irish-pub</td>\n      <td>Food</td>\n      <td>{'twitter': '@FlynnsIrishPub', 'venue_url': 'h...</td>\n      <td>1265320</td>\n      <td>42.0297</td>\n      <td>-71.2180</td>\n      <td>Mansfield</td>\n      <td>219-223 N Main St</td>\n      <td>United States</td>\n      <td>Mansfield</td>\n      <td>United States</td>\n      <td>MA</td>\n      <td>http://www.gotoflynns.com/</td>\n    </tr>\n    <tr>\n      <td>3</td>\n      <td>Beat Brew Hall</td>\n      <td>beat-brew-hall</td>\n      <td>Nightlife Spot</td>\n      <td>{'twitter': '@beatcambridge', 'venue_url': 'Be...</td>\n      <td>1037506</td>\n      <td>42.3735</td>\n      <td>-71.1202</td>\n      <td>Cambridge</td>\n      <td>13 Brattle St</td>\n      <td>United States</td>\n      <td>Cambridge</td>\n      <td>United States</td>\n      <td>MA</td>\n      <td>BeatBrewHall.com</td>\n    </tr>\n    <tr>\n      <td>4</td>\n      <td>Craft Beer Cellar Westford</td>\n      <td>craft-beer-cellar-westford</td>\n      <td>Shop &amp; Service</td>\n      <td>{'twitter': '@cbc_westford', 'venue_url': 'cra...</td>\n      <td>1055806</td>\n      <td>42.5692</td>\n      <td>-71.4183</td>\n      <td>Westford</td>\n      <td>142 Littleton Rd</td>\n      <td>United States</td>\n      <td>Westford</td>\n      <td>United States</td>\n      <td>MA</td>\n      <td>craftbeercellar.com/westford</td>\n    </tr>\n  </tbody>\n</table>\n</div>"
     },
     "metadata": {},
     "execution_count": 6
    }
   ],
   "metadata": {},
   "execution_count": 6
  },
  {
   "cell_type": "code",
   "execution_count": 147,
   "metadata": {},
   "outputs": [
    {
     "name": "stdout",
     "output_type": "stream",
     "text": "The autoreload extension is already loaded. To reload it, use:\n  %reload_ext autoreload\n{'client_id': 'E8847D1FA347C37248DEC90E1D21568E18FC5152', 'client_secret': '199C86117D183A9B6BCB3220098F34CFF81FD562', 'limit': 100, 'min_id': 849140778}\n{'count': 0, 'items': []}\n"
    }
   ],
   "source": [
    "\n",
    "\n",
    "%load_ext autoreload\n",
    "%autoreload\n",
    "\n",
    "\n",
    "import fill_untappd\n",
    "import yaml, json\n",
    "import os\n",
    "from pprint import pprint\n",
    "from airtable import Airtable\n",
    "import pandas as pd\n",
    "\n",
    "\n",
    "\n",
    "import pandas as pd\n",
    "import sqlite3\n",
    "conn = sqlite3.connect(\"untappd.db\")\n",
    "df = pd.read_sql_query(\"select * from checkins;\", conn)\n",
    "jsons  = df.json.apply(lambda j: json.loads(j))\n",
    "\n",
    "venues = jsons.apply(\n",
    "    lambda x: \n",
    "    pd.concat([\n",
    "        pd.Series(x[\"venue\"]),\n",
    "        pd.Series(x[\"user\"])[[\"user_name\"]],\n",
    "        pd.Series(x[\"beer\"]),\n",
    "        pd.Series(x)[[\"checkin_id\",\"created_at\",\"rating_score\"]]\n",
    "        ])\n",
    "        )\n",
    "\n",
    "venues_info = pd.concat([venues, \n",
    "pd.concat([\n",
    "    venues['contact'].apply(lambda x: pd.Series(x)),\n",
    "    venues['location'].apply(lambda x: pd.Series(x)),\n",
    "], axis = 1)],axis=1).set_index([\"venue_slug\",\"beer_slug\"])\n",
    "\n",
    "venue_users = venues_info.groupby([\"venue_slug\",\"beer_slug\"]).user_name.apply(','.join).rename(\"user_names\")\n",
    "venue_rating = venues_info.groupby([\"venue_slug\",\"beer_slug\"]).rating_score.sum().rename(\"total_rating\")\n",
    "venue_counts = venues_info.groupby([\"venue_slug\",\"beer_slug\"]).size().rename(\"n_checkins\")\n",
    "\n",
    "venues_info_dedup = venues_info.loc[~venues_info.index.duplicated()]\n",
    "venues_annotated = venues_info_dedup.join(pd.concat([venue_users, venue_rating, venue_counts],axis=1))\n",
    "\n",
    "venues_annotated = venues_annotated.loc[ lambda x: x.venue_url != \"\"]\n",
    "venues_annotated = venues_annotated.loc[ venues_annotated.venue_url.notna()]\n",
    "\n",
    "cans = pd.read_csv(\"../_data/cans.csv\")\n",
    "cans[\"untappd_id\"] = cans.untappd.str.extract('(\\d*$)').astype(int)\n",
    "\n",
    "venue_beers_annotated = venues_annotated.loc[lambda x: x.venue_id.notna()]\n",
    "venue_beers_annotated = venue_beers_annotated.join(cans.set_index(\"untappd_id\")[[\"code\"]], on =\"bid\")\n",
    "venue_beers_annotated = venue_beers_annotated.rename({\"code\":\"can_code\"}, axis = \"columns\")\n",
    "\n"
   ]
  },
  {
   "cell_type": "code",
   "execution_count": 9,
   "metadata": {},
   "outputs": [],
   "source": [
    "import sqlite3\n",
    "conn = sqlite3.connect(\"untappd.db\")\n",
    "df = pd.read_sql_query(\"select * from checkins limit 100;\", conn)"
   ]
  }
 ],
 "metadata": {
  "file_extension": ".py",
  "kernelspec": {
   "display_name": "Python 3",
   "language": "python",
   "name": "python3"
  },
  "language_info": {
   "codemirror_mode": {
    "name": "ipython",
    "version": 3
   },
   "file_extension": ".py",
   "mimetype": "text/x-python",
   "name": "python",
   "nbconvert_exporter": "python",
   "pygments_lexer": "ipython3",
   "version": "3.7.3"
  },
  "mimetype": "text/x-python",
  "name": "python",
  "npconvert_exporter": "python",
  "pygments_lexer": "ipython3",
  "version": 3
 },
 "nbformat": 4,
 "nbformat_minor": 2
}