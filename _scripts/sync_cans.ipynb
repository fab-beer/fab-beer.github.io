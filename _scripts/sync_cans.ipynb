{
 "cells": [
  {
   "cell_type": "code",
   "execution_count": 3,
   "metadata": {},
   "outputs": [
    {
     "name": "stdout",
     "output_type": "stream",
     "text": "/Users/ben/prj/fab/_scripts\n"
    }
   ],
   "source": [
    "\n",
    "cd _scripts/"
   ]
  },
  {
   "cell_type": "code",
   "execution_count": 107,
   "metadata": {},
   "outputs": [
    {
     "ename": "TypeError",
     "evalue": "an integer is required (got type str)",
     "output_type": "error",
     "traceback": [
      "\u001b[0;31m---------------------------------------------------------------------------\u001b[0m",
      "\u001b[0;31mTypeError\u001b[0m                                 Traceback (most recent call last)",
      "\u001b[0;32m<ipython-input-107-454702457ce2>\u001b[0m in \u001b[0;36m<module>\u001b[0;34m\u001b[0m\n\u001b[1;32m      1\u001b[0m \u001b[0;32mimport\u001b[0m \u001b[0mdatetime\u001b[0m\u001b[0;34m\u001b[0m\u001b[0;34m\u001b[0m\u001b[0m\n\u001b[0;32m----> 2\u001b[0;31m \u001b[0mvenues\u001b[0m\u001b[0;34m.\u001b[0m\u001b[0mcreated_at\u001b[0m\u001b[0;34m.\u001b[0m\u001b[0mapply\u001b[0m\u001b[0;34m(\u001b[0m\u001b[0;32mlambda\u001b[0m \u001b[0mx\u001b[0m\u001b[0;34m:\u001b[0m \u001b[0mdatetime\u001b[0m\u001b[0;34m.\u001b[0m\u001b[0mdatetime\u001b[0m\u001b[0;34m(\u001b[0m\u001b[0mx\u001b[0m\u001b[0;34m)\u001b[0m\u001b[0;34m)\u001b[0m\u001b[0;34m\u001b[0m\u001b[0;34m\u001b[0m\u001b[0m\n\u001b[0m",
      "\u001b[0;32m/usr/local/Caskroom/miniconda/base/lib/python3.7/site-packages/pandas/core/series.py\u001b[0m in \u001b[0;36mapply\u001b[0;34m(self, func, convert_dtype, args, **kwds)\u001b[0m\n\u001b[1;32m   4040\u001b[0m             \u001b[0;32melse\u001b[0m\u001b[0;34m:\u001b[0m\u001b[0;34m\u001b[0m\u001b[0;34m\u001b[0m\u001b[0m\n\u001b[1;32m   4041\u001b[0m                 \u001b[0mvalues\u001b[0m \u001b[0;34m=\u001b[0m \u001b[0mself\u001b[0m\u001b[0;34m.\u001b[0m\u001b[0mastype\u001b[0m\u001b[0;34m(\u001b[0m\u001b[0mobject\u001b[0m\u001b[0;34m)\u001b[0m\u001b[0;34m.\u001b[0m\u001b[0mvalues\u001b[0m\u001b[0;34m\u001b[0m\u001b[0;34m\u001b[0m\u001b[0m\n\u001b[0;32m-> 4042\u001b[0;31m                 \u001b[0mmapped\u001b[0m \u001b[0;34m=\u001b[0m \u001b[0mlib\u001b[0m\u001b[0;34m.\u001b[0m\u001b[0mmap_infer\u001b[0m\u001b[0;34m(\u001b[0m\u001b[0mvalues\u001b[0m\u001b[0;34m,\u001b[0m \u001b[0mf\u001b[0m\u001b[0;34m,\u001b[0m \u001b[0mconvert\u001b[0m\u001b[0;34m=\u001b[0m\u001b[0mconvert_dtype\u001b[0m\u001b[0;34m)\u001b[0m\u001b[0;34m\u001b[0m\u001b[0;34m\u001b[0m\u001b[0m\n\u001b[0m\u001b[1;32m   4043\u001b[0m \u001b[0;34m\u001b[0m\u001b[0m\n\u001b[1;32m   4044\u001b[0m         \u001b[0;32mif\u001b[0m \u001b[0mlen\u001b[0m\u001b[0;34m(\u001b[0m\u001b[0mmapped\u001b[0m\u001b[0;34m)\u001b[0m \u001b[0;32mand\u001b[0m \u001b[0misinstance\u001b[0m\u001b[0;34m(\u001b[0m\u001b[0mmapped\u001b[0m\u001b[0;34m[\u001b[0m\u001b[0;36m0\u001b[0m\u001b[0;34m]\u001b[0m\u001b[0;34m,\u001b[0m \u001b[0mSeries\u001b[0m\u001b[0;34m)\u001b[0m\u001b[0;34m:\u001b[0m\u001b[0;34m\u001b[0m\u001b[0;34m\u001b[0m\u001b[0m\n",
      "\u001b[0;32mpandas/_libs/lib.pyx\u001b[0m in \u001b[0;36mpandas._libs.lib.map_infer\u001b[0;34m()\u001b[0m\n",
      "\u001b[0;32m<ipython-input-107-454702457ce2>\u001b[0m in \u001b[0;36m<lambda>\u001b[0;34m(x)\u001b[0m\n\u001b[1;32m      1\u001b[0m \u001b[0;32mimport\u001b[0m \u001b[0mdatetime\u001b[0m\u001b[0;34m\u001b[0m\u001b[0;34m\u001b[0m\u001b[0m\n\u001b[0;32m----> 2\u001b[0;31m \u001b[0mvenues\u001b[0m\u001b[0;34m.\u001b[0m\u001b[0mcreated_at\u001b[0m\u001b[0;34m.\u001b[0m\u001b[0mapply\u001b[0m\u001b[0;34m(\u001b[0m\u001b[0;32mlambda\u001b[0m \u001b[0mx\u001b[0m\u001b[0;34m:\u001b[0m \u001b[0mdatetime\u001b[0m\u001b[0;34m.\u001b[0m\u001b[0mdatetime\u001b[0m\u001b[0;34m(\u001b[0m\u001b[0mx\u001b[0m\u001b[0;34m)\u001b[0m\u001b[0;34m)\u001b[0m\u001b[0;34m\u001b[0m\u001b[0;34m\u001b[0m\u001b[0m\n\u001b[0m",
      "\u001b[0;31mTypeError\u001b[0m: an integer is required (got type str)"
     ]
    }
   ],
   "source": [
    "import datetime\n",
    "venues.created_at.apply(lambda x: datetime.datetime(x))"
   ]
  },
  {
   "cell_type": "code",
   "execution_count": 111,
   "metadata": {},
   "outputs": [],
   "source": [
    "t0 = venues.created_at.iloc[0]"
   ]
  },
  {
   "cell_type": "code",
   "execution_count": 123,
   "metadata": {},
   "outputs": [],
   "source": [
    "\n",
    "\n",
    "\n"
   ]
  },
  {
   "cell_type": "code",
   "execution_count": 124,
   "metadata": {},
   "outputs": [
    {
     "data": {
      "text/plain": "datetime.datetime(2019, 12, 24, 21, 26, 50, tzinfo=<StaticTzInfo 'UTC\\+00:00'>)"
     },
     "execution_count": 124,
     "metadata": {},
     "output_type": "execute_result"
    }
   ],
   "source": [
    "\n",
    "items"
   ]
  },
  {
   "cell_type": "code",
   "execution_count": null,
   "metadata": {},
   "outputs": [],
   "source": []
  },
  {
   "cell_type": "code",
   "execution_count": 0,
   "metadata": {},
   "outputs": [],
   "source": [
    "\n",
    "venues.created_at.apply(lambda x: datetime.datetime(x))"
   ]
  },
  {
   "cell_type": "code",
   "execution_count": 125,
   "metadata": {},
   "outputs": [
    {
     "name": "stdout",
     "output_type": "stream",
     "text": "The autoreload extension is already loaded. To reload it, use:\n  %reload_ext autoreload\n{'client_id': 'E8847D1FA347C37248DEC90E1D21568E18FC5152', 'client_secret': '199C86117D183A9B6BCB3220098F34CFF81FD562', 'limit': 100, 'min_id': 845977174}\n{'count': 0, 'items': []}\n"
    },
    {
     "ename": "TypeError",
     "evalue": "Input type must be str or unicode",
     "output_type": "error",
     "traceback": [
      "\u001b[0;31m---------------------------------------------------------------------------\u001b[0m",
      "\u001b[0;31mTypeError\u001b[0m                                 Traceback (most recent call last)",
      "\u001b[0;32m/usr/local/Caskroom/miniconda/base/lib/python3.7/site-packages/pandas/core/groupby/groupby.py\u001b[0m in \u001b[0;36mapply\u001b[0;34m(self, func, *args, **kwargs)\u001b[0m\n\u001b[1;32m    724\u001b[0m             \u001b[0;32mtry\u001b[0m\u001b[0;34m:\u001b[0m\u001b[0;34m\u001b[0m\u001b[0;34m\u001b[0m\u001b[0m\n\u001b[0;32m--> 725\u001b[0;31m                 \u001b[0mresult\u001b[0m \u001b[0;34m=\u001b[0m \u001b[0mself\u001b[0m\u001b[0;34m.\u001b[0m\u001b[0m_python_apply_general\u001b[0m\u001b[0;34m(\u001b[0m\u001b[0mf\u001b[0m\u001b[0;34m)\u001b[0m\u001b[0;34m\u001b[0m\u001b[0;34m\u001b[0m\u001b[0m\n\u001b[0m\u001b[1;32m    726\u001b[0m             \u001b[0;32mexcept\u001b[0m \u001b[0mException\u001b[0m\u001b[0;34m:\u001b[0m\u001b[0;34m\u001b[0m\u001b[0;34m\u001b[0m\u001b[0m\n",
      "\u001b[0;32m/usr/local/Caskroom/miniconda/base/lib/python3.7/site-packages/pandas/core/groupby/groupby.py\u001b[0m in \u001b[0;36m_python_apply_general\u001b[0;34m(self, f)\u001b[0m\n\u001b[1;32m    741\u001b[0m     \u001b[0;32mdef\u001b[0m \u001b[0m_python_apply_general\u001b[0m\u001b[0;34m(\u001b[0m\u001b[0mself\u001b[0m\u001b[0;34m,\u001b[0m \u001b[0mf\u001b[0m\u001b[0;34m)\u001b[0m\u001b[0;34m:\u001b[0m\u001b[0;34m\u001b[0m\u001b[0;34m\u001b[0m\u001b[0m\n\u001b[0;32m--> 742\u001b[0;31m         \u001b[0mkeys\u001b[0m\u001b[0;34m,\u001b[0m \u001b[0mvalues\u001b[0m\u001b[0;34m,\u001b[0m \u001b[0mmutated\u001b[0m \u001b[0;34m=\u001b[0m \u001b[0mself\u001b[0m\u001b[0;34m.\u001b[0m\u001b[0mgrouper\u001b[0m\u001b[0;34m.\u001b[0m\u001b[0mapply\u001b[0m\u001b[0;34m(\u001b[0m\u001b[0mf\u001b[0m\u001b[0;34m,\u001b[0m \u001b[0mself\u001b[0m\u001b[0;34m.\u001b[0m\u001b[0m_selected_obj\u001b[0m\u001b[0;34m,\u001b[0m \u001b[0mself\u001b[0m\u001b[0;34m.\u001b[0m\u001b[0maxis\u001b[0m\u001b[0;34m)\u001b[0m\u001b[0;34m\u001b[0m\u001b[0;34m\u001b[0m\u001b[0m\n\u001b[0m\u001b[1;32m    743\u001b[0m \u001b[0;34m\u001b[0m\u001b[0m\n",
      "\u001b[0;32m/usr/local/Caskroom/miniconda/base/lib/python3.7/site-packages/pandas/core/groupby/ops.py\u001b[0m in \u001b[0;36mapply\u001b[0;34m(self, f, data, axis)\u001b[0m\n\u001b[1;32m    236\u001b[0m             \u001b[0mgroup_axes\u001b[0m \u001b[0;34m=\u001b[0m \u001b[0m_get_axes\u001b[0m\u001b[0;34m(\u001b[0m\u001b[0mgroup\u001b[0m\u001b[0;34m)\u001b[0m\u001b[0;34m\u001b[0m\u001b[0;34m\u001b[0m\u001b[0m\n\u001b[0;32m--> 237\u001b[0;31m             \u001b[0mres\u001b[0m \u001b[0;34m=\u001b[0m \u001b[0mf\u001b[0m\u001b[0;34m(\u001b[0m\u001b[0mgroup\u001b[0m\u001b[0;34m)\u001b[0m\u001b[0;34m\u001b[0m\u001b[0;34m\u001b[0m\u001b[0m\n\u001b[0m\u001b[1;32m    238\u001b[0m             \u001b[0;32mif\u001b[0m \u001b[0;32mnot\u001b[0m \u001b[0m_is_indexed_like\u001b[0m\u001b[0;34m(\u001b[0m\u001b[0mres\u001b[0m\u001b[0;34m,\u001b[0m \u001b[0mgroup_axes\u001b[0m\u001b[0;34m)\u001b[0m\u001b[0;34m:\u001b[0m\u001b[0;34m\u001b[0m\u001b[0;34m\u001b[0m\u001b[0m\n",
      "\u001b[0;32m<ipython-input-125-57a709a20d27>\u001b[0m in \u001b[0;36m<lambda>\u001b[0;34m(x)\u001b[0m\n\u001b[1;32m     38\u001b[0m \u001b[0mvenue_counts\u001b[0m \u001b[0;34m=\u001b[0m \u001b[0mvenues_info\u001b[0m\u001b[0;34m.\u001b[0m\u001b[0mgroupby\u001b[0m\u001b[0;34m(\u001b[0m\u001b[0;34m[\u001b[0m\u001b[0;34m\"venue_slug\"\u001b[0m\u001b[0;34m,\u001b[0m\u001b[0;34m\"beer_slug\"\u001b[0m\u001b[0;34m]\u001b[0m\u001b[0;34m)\u001b[0m\u001b[0;34m.\u001b[0m\u001b[0msize\u001b[0m\u001b[0;34m(\u001b[0m\u001b[0;34m)\u001b[0m\u001b[0;34m.\u001b[0m\u001b[0mrename\u001b[0m\u001b[0;34m(\u001b[0m\u001b[0;34m\"n_checkins\"\u001b[0m\u001b[0;34m)\u001b[0m\u001b[0;34m.\u001b[0m\u001b[0mastype\u001b[0m\u001b[0;34m(\u001b[0m\u001b[0mint\u001b[0m\u001b[0;34m)\u001b[0m\u001b[0;34m\u001b[0m\u001b[0;34m\u001b[0m\u001b[0m\n\u001b[0;32m---> 39\u001b[0;31m \u001b[0mvenue_last_checkin\u001b[0m \u001b[0;34m=\u001b[0m \u001b[0mvenues_info\u001b[0m\u001b[0;34m.\u001b[0m\u001b[0mgroupby\u001b[0m\u001b[0;34m(\u001b[0m\u001b[0;34m[\u001b[0m\u001b[0;34m\"venue_slug\"\u001b[0m\u001b[0;34m,\u001b[0m\u001b[0;34m\"beer_slug\"\u001b[0m\u001b[0;34m]\u001b[0m\u001b[0;34m)\u001b[0m\u001b[0;34m.\u001b[0m\u001b[0mcreated_at\u001b[0m\u001b[0;34m.\u001b[0m\u001b[0mapply\u001b[0m\u001b[0;34m(\u001b[0m\u001b[0;32mlambda\u001b[0m \u001b[0mx\u001b[0m\u001b[0;34m:\u001b[0m \u001b[0mdateparser\u001b[0m\u001b[0;34m.\u001b[0m\u001b[0mparse\u001b[0m\u001b[0;34m(\u001b[0m\u001b[0mx\u001b[0m\u001b[0;34m)\u001b[0m\u001b[0;34m)\u001b[0m\u001b[0;34m.\u001b[0m\u001b[0mmax\u001b[0m\u001b[0;34m(\u001b[0m\u001b[0;34m)\u001b[0m\u001b[0;34m\u001b[0m\u001b[0;34m\u001b[0m\u001b[0m\n\u001b[0m\u001b[1;32m     40\u001b[0m \u001b[0;34m\u001b[0m\u001b[0m\n",
      "\u001b[0;32m/usr/local/Caskroom/miniconda/base/lib/python3.7/site-packages/dateparser/conf.py\u001b[0m in \u001b[0;36mwrapper\u001b[0;34m(*args, **kwargs)\u001b[0m\n\u001b[1;32m     82\u001b[0m \u001b[0;34m\u001b[0m\u001b[0m\n\u001b[0;32m---> 83\u001b[0;31m         \u001b[0;32mreturn\u001b[0m \u001b[0mf\u001b[0m\u001b[0;34m(\u001b[0m\u001b[0;34m*\u001b[0m\u001b[0margs\u001b[0m\u001b[0;34m,\u001b[0m \u001b[0;34m**\u001b[0m\u001b[0mkwargs\u001b[0m\u001b[0;34m)\u001b[0m\u001b[0;34m\u001b[0m\u001b[0;34m\u001b[0m\u001b[0m\n\u001b[0m\u001b[1;32m     84\u001b[0m     \u001b[0;32mreturn\u001b[0m \u001b[0mwrapper\u001b[0m\u001b[0;34m\u001b[0m\u001b[0;34m\u001b[0m\u001b[0m\n",
      "\u001b[0;32m/usr/local/Caskroom/miniconda/base/lib/python3.7/site-packages/dateparser/__init__.py\u001b[0m in \u001b[0;36mparse\u001b[0;34m(date_string, date_formats, languages, locales, region, settings)\u001b[0m\n\u001b[1;32m     52\u001b[0m \u001b[0;34m\u001b[0m\u001b[0m\n\u001b[0;32m---> 53\u001b[0;31m     \u001b[0mdata\u001b[0m \u001b[0;34m=\u001b[0m \u001b[0mparser\u001b[0m\u001b[0;34m.\u001b[0m\u001b[0mget_date_data\u001b[0m\u001b[0;34m(\u001b[0m\u001b[0mdate_string\u001b[0m\u001b[0;34m,\u001b[0m \u001b[0mdate_formats\u001b[0m\u001b[0;34m)\u001b[0m\u001b[0;34m\u001b[0m\u001b[0;34m\u001b[0m\u001b[0m\n\u001b[0m\u001b[1;32m     54\u001b[0m \u001b[0;34m\u001b[0m\u001b[0m\n",
      "\u001b[0;32m/usr/local/Caskroom/miniconda/base/lib/python3.7/site-packages/dateparser/date.py\u001b[0m in \u001b[0;36mget_date_data\u001b[0;34m(self, date_string, date_formats)\u001b[0m\n\u001b[1;32m    403\u001b[0m         \u001b[0;32mif\u001b[0m \u001b[0;32mnot\u001b[0m\u001b[0;34m(\u001b[0m\u001b[0misinstance\u001b[0m\u001b[0;34m(\u001b[0m\u001b[0mdate_string\u001b[0m\u001b[0;34m,\u001b[0m \u001b[0msix\u001b[0m\u001b[0;34m.\u001b[0m\u001b[0mtext_type\u001b[0m\u001b[0;34m)\u001b[0m \u001b[0;32mor\u001b[0m \u001b[0misinstance\u001b[0m\u001b[0;34m(\u001b[0m\u001b[0mdate_string\u001b[0m\u001b[0;34m,\u001b[0m \u001b[0msix\u001b[0m\u001b[0;34m.\u001b[0m\u001b[0mstring_types\u001b[0m\u001b[0;34m)\u001b[0m\u001b[0;34m)\u001b[0m\u001b[0;34m:\u001b[0m\u001b[0;34m\u001b[0m\u001b[0;34m\u001b[0m\u001b[0m\n\u001b[0;32m--> 404\u001b[0;31m             \u001b[0;32mraise\u001b[0m \u001b[0mTypeError\u001b[0m\u001b[0;34m(\u001b[0m\u001b[0;34m'Input type must be str or unicode'\u001b[0m\u001b[0;34m)\u001b[0m\u001b[0;34m\u001b[0m\u001b[0;34m\u001b[0m\u001b[0m\n\u001b[0m\u001b[1;32m    405\u001b[0m \u001b[0;34m\u001b[0m\u001b[0m\n",
      "\u001b[0;31mTypeError\u001b[0m: Input type must be str or unicode",
      "\nDuring handling of the above exception, another exception occurred:\n",
      "\u001b[0;31mTypeError\u001b[0m                                 Traceback (most recent call last)",
      "\u001b[0;32m<ipython-input-125-57a709a20d27>\u001b[0m in \u001b[0;36m<module>\u001b[0;34m\u001b[0m\n\u001b[1;32m     37\u001b[0m \u001b[0mvenue_rating\u001b[0m \u001b[0;34m=\u001b[0m \u001b[0mvenues_info\u001b[0m\u001b[0;34m.\u001b[0m\u001b[0mgroupby\u001b[0m\u001b[0;34m(\u001b[0m\u001b[0;34m[\u001b[0m\u001b[0;34m\"venue_slug\"\u001b[0m\u001b[0;34m,\u001b[0m\u001b[0;34m\"beer_slug\"\u001b[0m\u001b[0;34m]\u001b[0m\u001b[0;34m)\u001b[0m\u001b[0;34m.\u001b[0m\u001b[0mrating_score\u001b[0m\u001b[0;34m.\u001b[0m\u001b[0msum\u001b[0m\u001b[0;34m(\u001b[0m\u001b[0;34m)\u001b[0m\u001b[0;34m.\u001b[0m\u001b[0mrename\u001b[0m\u001b[0;34m(\u001b[0m\u001b[0;34m\"total_rating\"\u001b[0m\u001b[0;34m)\u001b[0m\u001b[0;34m\u001b[0m\u001b[0;34m\u001b[0m\u001b[0m\n\u001b[1;32m     38\u001b[0m \u001b[0mvenue_counts\u001b[0m \u001b[0;34m=\u001b[0m \u001b[0mvenues_info\u001b[0m\u001b[0;34m.\u001b[0m\u001b[0mgroupby\u001b[0m\u001b[0;34m(\u001b[0m\u001b[0;34m[\u001b[0m\u001b[0;34m\"venue_slug\"\u001b[0m\u001b[0;34m,\u001b[0m\u001b[0;34m\"beer_slug\"\u001b[0m\u001b[0;34m]\u001b[0m\u001b[0;34m)\u001b[0m\u001b[0;34m.\u001b[0m\u001b[0msize\u001b[0m\u001b[0;34m(\u001b[0m\u001b[0;34m)\u001b[0m\u001b[0;34m.\u001b[0m\u001b[0mrename\u001b[0m\u001b[0;34m(\u001b[0m\u001b[0;34m\"n_checkins\"\u001b[0m\u001b[0;34m)\u001b[0m\u001b[0;34m.\u001b[0m\u001b[0mastype\u001b[0m\u001b[0;34m(\u001b[0m\u001b[0mint\u001b[0m\u001b[0;34m)\u001b[0m\u001b[0;34m\u001b[0m\u001b[0;34m\u001b[0m\u001b[0m\n\u001b[0;32m---> 39\u001b[0;31m \u001b[0mvenue_last_checkin\u001b[0m \u001b[0;34m=\u001b[0m \u001b[0mvenues_info\u001b[0m\u001b[0;34m.\u001b[0m\u001b[0mgroupby\u001b[0m\u001b[0;34m(\u001b[0m\u001b[0;34m[\u001b[0m\u001b[0;34m\"venue_slug\"\u001b[0m\u001b[0;34m,\u001b[0m\u001b[0;34m\"beer_slug\"\u001b[0m\u001b[0;34m]\u001b[0m\u001b[0;34m)\u001b[0m\u001b[0;34m.\u001b[0m\u001b[0mcreated_at\u001b[0m\u001b[0;34m.\u001b[0m\u001b[0mapply\u001b[0m\u001b[0;34m(\u001b[0m\u001b[0;32mlambda\u001b[0m \u001b[0mx\u001b[0m\u001b[0;34m:\u001b[0m \u001b[0mdateparser\u001b[0m\u001b[0;34m.\u001b[0m\u001b[0mparse\u001b[0m\u001b[0;34m(\u001b[0m\u001b[0mx\u001b[0m\u001b[0;34m)\u001b[0m\u001b[0;34m)\u001b[0m\u001b[0;34m.\u001b[0m\u001b[0mmax\u001b[0m\u001b[0;34m(\u001b[0m\u001b[0;34m)\u001b[0m\u001b[0;34m\u001b[0m\u001b[0;34m\u001b[0m\u001b[0m\n\u001b[0m\u001b[1;32m     40\u001b[0m \u001b[0;34m\u001b[0m\u001b[0m\n\u001b[1;32m     41\u001b[0m \u001b[0;34m\u001b[0m\u001b[0m\n",
      "\u001b[0;32m/usr/local/Caskroom/miniconda/base/lib/python3.7/site-packages/pandas/core/groupby/generic.py\u001b[0m in \u001b[0;36mapply\u001b[0;34m(self, func, *args, **kwargs)\u001b[0m\n\u001b[1;32m    813\u001b[0m     )\n\u001b[1;32m    814\u001b[0m     \u001b[0;32mdef\u001b[0m \u001b[0mapply\u001b[0m\u001b[0;34m(\u001b[0m\u001b[0mself\u001b[0m\u001b[0;34m,\u001b[0m \u001b[0mfunc\u001b[0m\u001b[0;34m,\u001b[0m \u001b[0;34m*\u001b[0m\u001b[0margs\u001b[0m\u001b[0;34m,\u001b[0m \u001b[0;34m**\u001b[0m\u001b[0mkwargs\u001b[0m\u001b[0;34m)\u001b[0m\u001b[0;34m:\u001b[0m\u001b[0;34m\u001b[0m\u001b[0;34m\u001b[0m\u001b[0m\n\u001b[0;32m--> 815\u001b[0;31m         \u001b[0;32mreturn\u001b[0m \u001b[0msuper\u001b[0m\u001b[0;34m(\u001b[0m\u001b[0;34m)\u001b[0m\u001b[0;34m.\u001b[0m\u001b[0mapply\u001b[0m\u001b[0;34m(\u001b[0m\u001b[0mfunc\u001b[0m\u001b[0;34m,\u001b[0m \u001b[0;34m*\u001b[0m\u001b[0margs\u001b[0m\u001b[0;34m,\u001b[0m \u001b[0;34m**\u001b[0m\u001b[0mkwargs\u001b[0m\u001b[0;34m)\u001b[0m\u001b[0;34m\u001b[0m\u001b[0;34m\u001b[0m\u001b[0m\n\u001b[0m\u001b[1;32m    816\u001b[0m \u001b[0;34m\u001b[0m\u001b[0m\n\u001b[1;32m    817\u001b[0m     @Substitution(\n",
      "\u001b[0;32m/usr/local/Caskroom/miniconda/base/lib/python3.7/site-packages/pandas/core/groupby/groupby.py\u001b[0m in \u001b[0;36mapply\u001b[0;34m(self, func, *args, **kwargs)\u001b[0m\n\u001b[1;32m    735\u001b[0m \u001b[0;34m\u001b[0m\u001b[0m\n\u001b[1;32m    736\u001b[0m                 \u001b[0;32mwith\u001b[0m \u001b[0m_group_selection_context\u001b[0m\u001b[0;34m(\u001b[0m\u001b[0mself\u001b[0m\u001b[0;34m)\u001b[0m\u001b[0;34m:\u001b[0m\u001b[0;34m\u001b[0m\u001b[0;34m\u001b[0m\u001b[0m\n\u001b[0;32m--> 737\u001b[0;31m                     \u001b[0;32mreturn\u001b[0m \u001b[0mself\u001b[0m\u001b[0;34m.\u001b[0m\u001b[0m_python_apply_general\u001b[0m\u001b[0;34m(\u001b[0m\u001b[0mf\u001b[0m\u001b[0;34m)\u001b[0m\u001b[0;34m\u001b[0m\u001b[0;34m\u001b[0m\u001b[0m\n\u001b[0m\u001b[1;32m    738\u001b[0m \u001b[0;34m\u001b[0m\u001b[0m\n\u001b[1;32m    739\u001b[0m         \u001b[0;32mreturn\u001b[0m \u001b[0mresult\u001b[0m\u001b[0;34m\u001b[0m\u001b[0;34m\u001b[0m\u001b[0m\n",
      "\u001b[0;32m/usr/local/Caskroom/miniconda/base/lib/python3.7/site-packages/pandas/core/groupby/groupby.py\u001b[0m in \u001b[0;36m_python_apply_general\u001b[0;34m(self, f)\u001b[0m\n\u001b[1;32m    740\u001b[0m \u001b[0;34m\u001b[0m\u001b[0m\n\u001b[1;32m    741\u001b[0m     \u001b[0;32mdef\u001b[0m \u001b[0m_python_apply_general\u001b[0m\u001b[0;34m(\u001b[0m\u001b[0mself\u001b[0m\u001b[0;34m,\u001b[0m \u001b[0mf\u001b[0m\u001b[0;34m)\u001b[0m\u001b[0;34m:\u001b[0m\u001b[0;34m\u001b[0m\u001b[0;34m\u001b[0m\u001b[0m\n\u001b[0;32m--> 742\u001b[0;31m         \u001b[0mkeys\u001b[0m\u001b[0;34m,\u001b[0m \u001b[0mvalues\u001b[0m\u001b[0;34m,\u001b[0m \u001b[0mmutated\u001b[0m \u001b[0;34m=\u001b[0m \u001b[0mself\u001b[0m\u001b[0;34m.\u001b[0m\u001b[0mgrouper\u001b[0m\u001b[0;34m.\u001b[0m\u001b[0mapply\u001b[0m\u001b[0;34m(\u001b[0m\u001b[0mf\u001b[0m\u001b[0;34m,\u001b[0m \u001b[0mself\u001b[0m\u001b[0;34m.\u001b[0m\u001b[0m_selected_obj\u001b[0m\u001b[0;34m,\u001b[0m \u001b[0mself\u001b[0m\u001b[0;34m.\u001b[0m\u001b[0maxis\u001b[0m\u001b[0;34m)\u001b[0m\u001b[0;34m\u001b[0m\u001b[0;34m\u001b[0m\u001b[0m\n\u001b[0m\u001b[1;32m    743\u001b[0m \u001b[0;34m\u001b[0m\u001b[0m\n\u001b[1;32m    744\u001b[0m         return self._wrap_applied_output(\n",
      "\u001b[0;32m/usr/local/Caskroom/miniconda/base/lib/python3.7/site-packages/pandas/core/groupby/ops.py\u001b[0m in \u001b[0;36mapply\u001b[0;34m(self, f, data, axis)\u001b[0m\n\u001b[1;32m    235\u001b[0m             \u001b[0;31m# group might be modified\u001b[0m\u001b[0;34m\u001b[0m\u001b[0;34m\u001b[0m\u001b[0;34m\u001b[0m\u001b[0m\n\u001b[1;32m    236\u001b[0m             \u001b[0mgroup_axes\u001b[0m \u001b[0;34m=\u001b[0m \u001b[0m_get_axes\u001b[0m\u001b[0;34m(\u001b[0m\u001b[0mgroup\u001b[0m\u001b[0;34m)\u001b[0m\u001b[0;34m\u001b[0m\u001b[0;34m\u001b[0m\u001b[0m\n\u001b[0;32m--> 237\u001b[0;31m             \u001b[0mres\u001b[0m \u001b[0;34m=\u001b[0m \u001b[0mf\u001b[0m\u001b[0;34m(\u001b[0m\u001b[0mgroup\u001b[0m\u001b[0;34m)\u001b[0m\u001b[0;34m\u001b[0m\u001b[0;34m\u001b[0m\u001b[0m\n\u001b[0m\u001b[1;32m    238\u001b[0m             \u001b[0;32mif\u001b[0m \u001b[0;32mnot\u001b[0m \u001b[0m_is_indexed_like\u001b[0m\u001b[0;34m(\u001b[0m\u001b[0mres\u001b[0m\u001b[0;34m,\u001b[0m \u001b[0mgroup_axes\u001b[0m\u001b[0;34m)\u001b[0m\u001b[0;34m:\u001b[0m\u001b[0;34m\u001b[0m\u001b[0;34m\u001b[0m\u001b[0m\n\u001b[1;32m    239\u001b[0m                 \u001b[0mmutated\u001b[0m \u001b[0;34m=\u001b[0m \u001b[0;32mTrue\u001b[0m\u001b[0;34m\u001b[0m\u001b[0;34m\u001b[0m\u001b[0m\n",
      "\u001b[0;32m<ipython-input-125-57a709a20d27>\u001b[0m in \u001b[0;36m<lambda>\u001b[0;34m(x)\u001b[0m\n\u001b[1;32m     37\u001b[0m \u001b[0mvenue_rating\u001b[0m \u001b[0;34m=\u001b[0m \u001b[0mvenues_info\u001b[0m\u001b[0;34m.\u001b[0m\u001b[0mgroupby\u001b[0m\u001b[0;34m(\u001b[0m\u001b[0;34m[\u001b[0m\u001b[0;34m\"venue_slug\"\u001b[0m\u001b[0;34m,\u001b[0m\u001b[0;34m\"beer_slug\"\u001b[0m\u001b[0;34m]\u001b[0m\u001b[0;34m)\u001b[0m\u001b[0;34m.\u001b[0m\u001b[0mrating_score\u001b[0m\u001b[0;34m.\u001b[0m\u001b[0msum\u001b[0m\u001b[0;34m(\u001b[0m\u001b[0;34m)\u001b[0m\u001b[0;34m.\u001b[0m\u001b[0mrename\u001b[0m\u001b[0;34m(\u001b[0m\u001b[0;34m\"total_rating\"\u001b[0m\u001b[0;34m)\u001b[0m\u001b[0;34m\u001b[0m\u001b[0;34m\u001b[0m\u001b[0m\n\u001b[1;32m     38\u001b[0m \u001b[0mvenue_counts\u001b[0m \u001b[0;34m=\u001b[0m \u001b[0mvenues_info\u001b[0m\u001b[0;34m.\u001b[0m\u001b[0mgroupby\u001b[0m\u001b[0;34m(\u001b[0m\u001b[0;34m[\u001b[0m\u001b[0;34m\"venue_slug\"\u001b[0m\u001b[0;34m,\u001b[0m\u001b[0;34m\"beer_slug\"\u001b[0m\u001b[0;34m]\u001b[0m\u001b[0;34m)\u001b[0m\u001b[0;34m.\u001b[0m\u001b[0msize\u001b[0m\u001b[0;34m(\u001b[0m\u001b[0;34m)\u001b[0m\u001b[0;34m.\u001b[0m\u001b[0mrename\u001b[0m\u001b[0;34m(\u001b[0m\u001b[0;34m\"n_checkins\"\u001b[0m\u001b[0;34m)\u001b[0m\u001b[0;34m.\u001b[0m\u001b[0mastype\u001b[0m\u001b[0;34m(\u001b[0m\u001b[0mint\u001b[0m\u001b[0;34m)\u001b[0m\u001b[0;34m\u001b[0m\u001b[0;34m\u001b[0m\u001b[0m\n\u001b[0;32m---> 39\u001b[0;31m \u001b[0mvenue_last_checkin\u001b[0m \u001b[0;34m=\u001b[0m \u001b[0mvenues_info\u001b[0m\u001b[0;34m.\u001b[0m\u001b[0mgroupby\u001b[0m\u001b[0;34m(\u001b[0m\u001b[0;34m[\u001b[0m\u001b[0;34m\"venue_slug\"\u001b[0m\u001b[0;34m,\u001b[0m\u001b[0;34m\"beer_slug\"\u001b[0m\u001b[0;34m]\u001b[0m\u001b[0;34m)\u001b[0m\u001b[0;34m.\u001b[0m\u001b[0mcreated_at\u001b[0m\u001b[0;34m.\u001b[0m\u001b[0mapply\u001b[0m\u001b[0;34m(\u001b[0m\u001b[0;32mlambda\u001b[0m \u001b[0mx\u001b[0m\u001b[0;34m:\u001b[0m \u001b[0mdateparser\u001b[0m\u001b[0;34m.\u001b[0m\u001b[0mparse\u001b[0m\u001b[0;34m(\u001b[0m\u001b[0mx\u001b[0m\u001b[0;34m)\u001b[0m\u001b[0;34m)\u001b[0m\u001b[0;34m.\u001b[0m\u001b[0mmax\u001b[0m\u001b[0;34m(\u001b[0m\u001b[0;34m)\u001b[0m\u001b[0;34m\u001b[0m\u001b[0;34m\u001b[0m\u001b[0m\n\u001b[0m\u001b[1;32m     40\u001b[0m \u001b[0;34m\u001b[0m\u001b[0m\n\u001b[1;32m     41\u001b[0m \u001b[0;34m\u001b[0m\u001b[0m\n",
      "\u001b[0;32m/usr/local/Caskroom/miniconda/base/lib/python3.7/site-packages/dateparser/conf.py\u001b[0m in \u001b[0;36mwrapper\u001b[0;34m(*args, **kwargs)\u001b[0m\n\u001b[1;32m     81\u001b[0m                 \"settings can only be either dict or instance of Settings class\")\n\u001b[1;32m     82\u001b[0m \u001b[0;34m\u001b[0m\u001b[0m\n\u001b[0;32m---> 83\u001b[0;31m         \u001b[0;32mreturn\u001b[0m \u001b[0mf\u001b[0m\u001b[0;34m(\u001b[0m\u001b[0;34m*\u001b[0m\u001b[0margs\u001b[0m\u001b[0;34m,\u001b[0m \u001b[0;34m**\u001b[0m\u001b[0mkwargs\u001b[0m\u001b[0;34m)\u001b[0m\u001b[0;34m\u001b[0m\u001b[0;34m\u001b[0m\u001b[0m\n\u001b[0m\u001b[1;32m     84\u001b[0m     \u001b[0;32mreturn\u001b[0m \u001b[0mwrapper\u001b[0m\u001b[0;34m\u001b[0m\u001b[0;34m\u001b[0m\u001b[0m\n",
      "\u001b[0;32m/usr/local/Caskroom/miniconda/base/lib/python3.7/site-packages/dateparser/__init__.py\u001b[0m in \u001b[0;36mparse\u001b[0;34m(date_string, date_formats, languages, locales, region, settings)\u001b[0m\n\u001b[1;32m     51\u001b[0m                                 region=region, settings=settings)\n\u001b[1;32m     52\u001b[0m \u001b[0;34m\u001b[0m\u001b[0m\n\u001b[0;32m---> 53\u001b[0;31m     \u001b[0mdata\u001b[0m \u001b[0;34m=\u001b[0m \u001b[0mparser\u001b[0m\u001b[0;34m.\u001b[0m\u001b[0mget_date_data\u001b[0m\u001b[0;34m(\u001b[0m\u001b[0mdate_string\u001b[0m\u001b[0;34m,\u001b[0m \u001b[0mdate_formats\u001b[0m\u001b[0;34m)\u001b[0m\u001b[0;34m\u001b[0m\u001b[0;34m\u001b[0m\u001b[0m\n\u001b[0m\u001b[1;32m     54\u001b[0m \u001b[0;34m\u001b[0m\u001b[0m\n\u001b[1;32m     55\u001b[0m     \u001b[0;32mif\u001b[0m \u001b[0mdata\u001b[0m\u001b[0;34m:\u001b[0m\u001b[0;34m\u001b[0m\u001b[0;34m\u001b[0m\u001b[0m\n",
      "\u001b[0;32m/usr/local/Caskroom/miniconda/base/lib/python3.7/site-packages/dateparser/date.py\u001b[0m in \u001b[0;36mget_date_data\u001b[0;34m(self, date_string, date_formats)\u001b[0m\n\u001b[1;32m    402\u001b[0m         \"\"\"\n\u001b[1;32m    403\u001b[0m         \u001b[0;32mif\u001b[0m \u001b[0;32mnot\u001b[0m\u001b[0;34m(\u001b[0m\u001b[0misinstance\u001b[0m\u001b[0;34m(\u001b[0m\u001b[0mdate_string\u001b[0m\u001b[0;34m,\u001b[0m \u001b[0msix\u001b[0m\u001b[0;34m.\u001b[0m\u001b[0mtext_type\u001b[0m\u001b[0;34m)\u001b[0m \u001b[0;32mor\u001b[0m \u001b[0misinstance\u001b[0m\u001b[0;34m(\u001b[0m\u001b[0mdate_string\u001b[0m\u001b[0;34m,\u001b[0m \u001b[0msix\u001b[0m\u001b[0;34m.\u001b[0m\u001b[0mstring_types\u001b[0m\u001b[0;34m)\u001b[0m\u001b[0;34m)\u001b[0m\u001b[0;34m:\u001b[0m\u001b[0;34m\u001b[0m\u001b[0;34m\u001b[0m\u001b[0m\n\u001b[0;32m--> 404\u001b[0;31m             \u001b[0;32mraise\u001b[0m \u001b[0mTypeError\u001b[0m\u001b[0;34m(\u001b[0m\u001b[0;34m'Input type must be str or unicode'\u001b[0m\u001b[0;34m)\u001b[0m\u001b[0;34m\u001b[0m\u001b[0;34m\u001b[0m\u001b[0m\n\u001b[0m\u001b[1;32m    405\u001b[0m \u001b[0;34m\u001b[0m\u001b[0m\n\u001b[1;32m    406\u001b[0m         \u001b[0;32mif\u001b[0m \u001b[0misinstance\u001b[0m\u001b[0;34m(\u001b[0m\u001b[0mdate_string\u001b[0m\u001b[0;34m,\u001b[0m \u001b[0mbytes\u001b[0m\u001b[0;34m)\u001b[0m\u001b[0;34m:\u001b[0m\u001b[0;34m\u001b[0m\u001b[0;34m\u001b[0m\u001b[0m\n",
      "\u001b[0;31mTypeError\u001b[0m: Input type must be str or unicode"
     ]
    }
   ],
   "source": [
    "\n",
    "\n",
    "%load_ext autoreload\n",
    "%autoreload\n",
    "\n",
    "\n",
    "import fill_untappd\n",
    "import yaml, json, sqlite3,  dateparser,os, sys\n",
    "from pprint import pprint\n",
    "from airtable import Airtable\n",
    "import pandas as pd\n",
    "\n",
    "fill_untappd.run()\n",
    "\n",
    "import pandas as pd\n",
    "\n",
    "conn = sqlite3.connect(\"untappd.db\")\n",
    "df = pd.read_sql_query(\"select * from checkins;\", conn)\n",
    "jsons  = df.json.apply(lambda j: json.loads(j))\n",
    "\n",
    "venues = jsons.apply(\n",
    "    lambda x: \n",
    "    pd.concat([\n",
    "        pd.Series(x[\"venue\"]),\n",
    "        pd.Series(x[\"user\"])[[\"user_name\"]],\n",
    "        pd.Series(x[\"beer\"]),\n",
    "        pd.Series(x)[[\"checkin_id\",\"created_at\",\"rating_score\"]]\n",
    "        ])\n",
    "        )\n",
    "\n",
    "venues_info = pd.concat([venues, \n",
    "pd.concat([\n",
    "    venues['contact'].apply(lambda x: pd.Series(x)),\n",
    "    venues['location'].apply(lambda x: pd.Series(x)),\n",
    "], axis = 1)],axis=1).set_index([\"venue_slug\",\"beer_slug\"])\n",
    "\n",
    "venue_users = venues_info.groupby([\"venue_slug\",\"beer_slug\"]).user_name.apply(','.join).rename(\"user_names\")\n",
    "venue_rating = venues_info.groupby([\"venue_slug\",\"beer_slug\"]).rating_score.sum().rename(\"total_rating\")\n",
    "venue_counts = venues_info.groupby([\"venue_slug\",\"beer_slug\"]).size().rename(\"n_checkins\").astype(int)\n",
    "venue_last_checkin = venues_info.groupby([\"venue_slug\",\"beer_slug\"]).created_at.apply(lambda x: dateparser.parse(x)).max()\n",
    "\n",
    "\n",
    "venues_info_dedup = venues_info.loc[~venues_info.index.duplicated()]\n",
    "venues_annotated = venues_info_dedup.join(pd.concat([venue_users, venue_rating, venue_counts,venue_last_checkin],axis=1))\n",
    "\n",
    "\n",
    "cans = pd.read_csv(\"../_data/cans.csv\")\n",
    "cans[\"untappd_id\"] = cans.untappd.str.extract('(\\d*$)').astype(int)\n",
    "\n",
    "venue_beers_annotated = venues_annotated.loc[lambda x: x.venue_id.notna()]\n",
    "venue_beers_annotated = venue_beers_annotated.join(cans.set_index(\"untappd_id\")[[\"code\"]], on =\"bid\")\n",
    "venue_beers_annotated = venue_beers_annotated.rename({\"code\":\"can_code\"}, axis = \"columns\")\n",
    "venue_beers_annotated[\"venue_id\"] = venue_beers_annotated[\"venue_id\"].astype(int)\n",
    "venue_beers_annotated.n_checkins = venue_beers_annotated.n_checkins.astype(int)\n",
    "\n",
    "venue_beers_annotated.to_csv(\"../_data/venue_beers.csv\")\n",
    "\n",
    "venues_annotated = venue_beers_annotated.reset_index()[[\"venue_name\",\"venue_slug\",\"primary_category\",\"contact\",\"venue_id\",\"lat\",\"lng\",\"venue_city\" , \"venue_address\",\"venue_country\",\"venue_city\",\t\"venue_country\",\t\"venue_state\",'venue_url']]\n",
    "venues_annotated.to_csv(\"../_data/venues.csv\")"
   ]
  },
  {
   "cell_type": "code",
   "execution_count": 103,
   "metadata": {},
   "outputs": [
    {
     "data": {
      "text/plain": "Index([            'venue_id',           'venue_name', 'primary_category_key',\n           'primary_category',   'parent_category_id',           'categories',\n                   'location',              'contact',           'foursquare',\n                 'venue_icon',          'is_verified',            'user_name',\n                        'bid',            'beer_name',           'beer_label',\n                   'beer_abv',             'beer_ibu',     'beer_description',\n                 'beer_style',              'has_had',          'beer_active',\n                 'checkin_id',           'created_at',         'rating_score',\n                            0,              'twitter',            'venue_url',\n                            0,                  'lat',                  'lng',\n              'venue_address',           'venue_city',        'venue_country',\n                'venue_state',           'user_names',         'total_rating',\n                 'n_checkins',             'can_code'],\n      dtype='object')"
     },
     "execution_count": 103,
     "metadata": {},
     "output_type": "execute_result"
    }
   ],
   "source": [
    "venue_beers_annotated.columns"
   ]
  },
  {
   "cell_type": "code",
   "execution_count": 86,
   "metadata": {},
   "outputs": [
    {
     "data": {
      "text/html": "<div>\n<style scoped>\n    .dataframe tbody tr th:only-of-type {\n        vertical-align: middle;\n    }\n\n    .dataframe tbody tr th {\n        vertical-align: top;\n    }\n\n    .dataframe thead th {\n        text-align: right;\n    }\n</style>\n<table border=\"1\" class=\"dataframe\">\n  <thead>\n    <tr style=\"text-align: right;\">\n      <th></th>\n      <th>venue_name</th>\n      <th>venue_slug</th>\n      <th>primary_category</th>\n      <th>contact</th>\n      <th>venue_id</th>\n      <th>lat</th>\n      <th>lng</th>\n      <th>venue_city</th>\n      <th>venue_address</th>\n      <th>venue_country</th>\n      <th>venue_city</th>\n      <th>venue_country</th>\n      <th>venue_state</th>\n    </tr>\n  </thead>\n  <tbody>\n    <tr>\n      <td>0</td>\n      <td>Dorchester Brewing Company</td>\n      <td>dorchester-brewing-company</td>\n      <td>Nightlife Spot</td>\n      <td>{'twitter': '@dorchesterbrew', 'venue_url': 'h...</td>\n      <td>4367121</td>\n      <td>42.3220</td>\n      <td>-71.0626</td>\n      <td>Boston</td>\n      <td>1250 Massachusetts Ave</td>\n      <td>United States</td>\n      <td>Boston</td>\n      <td>United States</td>\n      <td>MA</td>\n    </tr>\n    <tr>\n      <td>1</td>\n      <td>Flatbread Company at Sacco's Bowl Haven</td>\n      <td>flatbread-company-at-saccos-bowl-haven</td>\n      <td>Food</td>\n      <td>{'twitter': '@flatbreadsville', 'venue_url': '...</td>\n      <td>12317</td>\n      <td>42.3957</td>\n      <td>-71.1237</td>\n      <td>Somerville</td>\n      <td>45 Day St</td>\n      <td>United States</td>\n      <td>Somerville</td>\n      <td>United States</td>\n      <td>MA</td>\n    </tr>\n    <tr>\n      <td>2</td>\n      <td>High Tor State Park</td>\n      <td>high-tor-state-park</td>\n      <td>Outdoors &amp; Recreation</td>\n      <td>{'twitter': '', 'venue_url': ''}</td>\n      <td>2006735</td>\n      <td>41.1911</td>\n      <td>-73.9891</td>\n      <td>New City</td>\n      <td>415 S Mountain Rd</td>\n      <td>United States</td>\n      <td>New City</td>\n      <td>United States</td>\n      <td>NY</td>\n    </tr>\n    <tr>\n      <td>3</td>\n      <td>Flynn's Irish Pub - Mansfield</td>\n      <td>flynns-irish-pub</td>\n      <td>Food</td>\n      <td>{'twitter': '@FlynnsIrishPub', 'venue_url': 'h...</td>\n      <td>1265320</td>\n      <td>42.0297</td>\n      <td>-71.2180</td>\n      <td>Mansfield</td>\n      <td>219-223 N Main St</td>\n      <td>United States</td>\n      <td>Mansfield</td>\n      <td>United States</td>\n      <td>MA</td>\n    </tr>\n    <tr>\n      <td>4</td>\n      <td>Connecticut River</td>\n      <td>connecticut-river</td>\n      <td>Outdoors &amp; Recreation</td>\n      <td>{'twitter': '', 'venue_url': ''}</td>\n      <td>1010984</td>\n      <td>42.2633</td>\n      <td>-72.6063</td>\n      <td>South Hadley</td>\n      <td></td>\n      <td>United States</td>\n      <td>South Hadley</td>\n      <td>United States</td>\n      <td>MA</td>\n    </tr>\n  </tbody>\n</table>\n</div>",
      "text/plain": "                                venue_name  \\\n0               Dorchester Brewing Company   \n1  Flatbread Company at Sacco's Bowl Haven   \n2                      High Tor State Park   \n3            Flynn's Irish Pub - Mansfield   \n4                        Connecticut River   \n\n                               venue_slug       primary_category  \\\n0              dorchester-brewing-company         Nightlife Spot   \n1  flatbread-company-at-saccos-bowl-haven                   Food   \n2                     high-tor-state-park  Outdoors & Recreation   \n3                        flynns-irish-pub                   Food   \n4                       connecticut-river  Outdoors & Recreation   \n\n                                             contact  venue_id      lat  \\\n0  {'twitter': '@dorchesterbrew', 'venue_url': 'h...   4367121  42.3220   \n1  {'twitter': '@flatbreadsville', 'venue_url': '...     12317  42.3957   \n2                   {'twitter': '', 'venue_url': ''}   2006735  41.1911   \n3  {'twitter': '@FlynnsIrishPub', 'venue_url': 'h...   1265320  42.0297   \n4                   {'twitter': '', 'venue_url': ''}   1010984  42.2633   \n\n       lng    venue_city           venue_address  venue_country    venue_city  \\\n0 -71.0626        Boston  1250 Massachusetts Ave  United States        Boston   \n1 -71.1237    Somerville               45 Day St  United States    Somerville   \n2 -73.9891      New City       415 S Mountain Rd  United States      New City   \n3 -71.2180     Mansfield       219-223 N Main St  United States     Mansfield   \n4 -72.6063  South Hadley                          United States  South Hadley   \n\n   venue_country venue_state  \n0  United States          MA  \n1  United States          MA  \n2  United States          NY  \n3  United States          MA  \n4  United States          MA  "
     },
     "execution_count": 86,
     "metadata": {},
     "output_type": "execute_result"
    }
   ],
   "source": [
    "\n",
    "venues_annotated"
   ]
  },
  {
   "cell_type": "code",
   "execution_count": 68,
   "metadata": {},
   "outputs": [
    {
     "name": "stdout",
     "output_type": "stream",
     "text": "The autoreload extension is already loaded. To reload it, use:\n  %reload_ext autoreload\n{'client_id': 'E8847D1FA347C37248DEC90E1D21568E18FC5152', 'client_secret': '199C86117D183A9B6BCB3220098F34CFF81FD562', 'limit': 100, 'min_id': 845977174}\n{'count': 0, 'items': []}\n"
    }
   ],
   "source": [
    "\n",
    "\n",
    "%load_ext autoreload\n",
    "%autoreload\n",
    "\n",
    "\n",
    "import fill_untappd\n",
    "import yaml, json\n",
    "import os\n",
    "from pprint import pprint\n",
    "from airtable import Airtable\n",
    "import pandas as pd\n",
    "\n",
    "fill_untappd.run()\n",
    "\n",
    "import pandas as pd\n",
    "import sqlite3\n",
    "conn = sqlite3.connect(\"untappd.db\")\n",
    "df = pd.read_sql_query(\"select * from checkins;\", conn)\n",
    "jsons  = df.json.apply(lambda j: json.loads(j))\n",
    "\n",
    "venues = jsons.apply(\n",
    "    lambda x: \n",
    "    pd.concat([\n",
    "        pd.Series(x[\"venue\"]),\n",
    "        pd.Series(x[\"user\"])[[\"user_name\"]],\n",
    "        pd.Series(x[\"beer\"]),\n",
    "        pd.Series(x)[[\"checkin_id\",\"created_at\",\"rating_score\"]]\n",
    "        ])\n",
    "        )\n",
    "\n",
    "venues_info = pd.concat([venues, \n",
    "pd.concat([\n",
    "    venues['contact'].apply(lambda x: pd.Series(x)),\n",
    "    venues['location'].apply(lambda x: pd.Series(x)),\n",
    "], axis = 1)],axis=1).set_index([\"venue_slug\",\"beer_slug\"])\n",
    "\n",
    "venue_users = venues_info.groupby([\"venue_slug\",\"beer_slug\"]).user_name.apply(','.join).rename(\"user_names\")\n",
    "venue_rating = venues_info.groupby([\"venue_slug\",\"beer_slug\"]).rating_score.sum().rename(\"total_rating\")\n",
    "venue_counts = venues_info.groupby([\"venue_slug\",\"beer_slug\"]).size().rename(\"n_checkins\")\n",
    "\n",
    "venues_info_dedup = venues_info.loc[~venues_info.index.duplicated()]\n",
    "venues_annotated = venues_info_dedup.join(pd.concat([venue_users, venue_rating, venue_counts],axis=1))\n",
    "\n",
    "\n",
    "cans = pd.read_csv(\"../_data/cans.csv\")\n",
    "cans[\"untappd_id\"] = cans.untappd.str.extract('(\\d*$)').astype(int)\n",
    "\n",
    "venue_beers_annotated = venues_annotated.loc[lambda x: x.venue_id.notna()]\n",
    "venue_beers_annotated = venue_beers_annotated.join(cans.set_index(\"untappd_id\")[[\"code\"]], on =\"bid\")\n",
    "venue_beers_annotated = venue_beers_annotated.rename({\"code\":\"can_code\"}, axis = \"columns\")\n",
    "\n"
   ]
  },
  {
   "cell_type": "code",
   "execution_count": 72,
   "metadata": {},
   "outputs": [
    {
     "data": {
      "text/plain": "venue_slug                              beer_slug                            \ndorchester-brewing-company              fab-fermentation-arts-squid-pro-quo      sqp\nflatbread-company-at-saccos-bowl-haven  fab-fermentation-arts-balloon-factory     bf\nhigh-tor-state-park                     fab-fermentation-arts-squid-pro-quo      sqp\nflynns-irish-pub                        fab-fermentation-arts-balloon-factory     bf\nconnecticut-river                       fab-fermentation-arts-squid-pro-quo      sqp\nName: can_code, dtype: object"
     },
     "execution_count": 72,
     "metadata": {},
     "output_type": "execute_result"
    }
   ],
   "source": [
    "venue_beers_annotated.can_code"
   ]
  },
  {
   "cell_type": "code",
   "execution_count": 48,
   "metadata": {},
   "outputs": [
    {
     "ename": "AttributeError",
     "evalue": "'DataFrame' object has no attribute 'can_code'",
     "output_type": "error",
     "traceback": [
      "\u001b[0;31m---------------------------------------------------------------------------\u001b[0m",
      "\u001b[0;31mAttributeError\u001b[0m                            Traceback (most recent call last)",
      "\u001b[0;32m<ipython-input-48-f36bbb140d9b>\u001b[0m in \u001b[0;36m<module>\u001b[0;34m\u001b[0m\n\u001b[0;32m----> 1\u001b[0;31m \u001b[0mvenue_beers_annotated\u001b[0m\u001b[0;34m.\u001b[0m\u001b[0mcan_code\u001b[0m\u001b[0;34m\u001b[0m\u001b[0;34m\u001b[0m\u001b[0m\n\u001b[0m",
      "\u001b[0;32m/usr/local/Caskroom/miniconda/base/lib/python3.7/site-packages/pandas/core/generic.py\u001b[0m in \u001b[0;36m__getattr__\u001b[0;34m(self, name)\u001b[0m\n\u001b[1;32m   5177\u001b[0m             \u001b[0;32mif\u001b[0m \u001b[0mself\u001b[0m\u001b[0;34m.\u001b[0m\u001b[0m_info_axis\u001b[0m\u001b[0;34m.\u001b[0m\u001b[0m_can_hold_identifiers_and_holds_name\u001b[0m\u001b[0;34m(\u001b[0m\u001b[0mname\u001b[0m\u001b[0;34m)\u001b[0m\u001b[0;34m:\u001b[0m\u001b[0;34m\u001b[0m\u001b[0;34m\u001b[0m\u001b[0m\n\u001b[1;32m   5178\u001b[0m                 \u001b[0;32mreturn\u001b[0m \u001b[0mself\u001b[0m\u001b[0;34m[\u001b[0m\u001b[0mname\u001b[0m\u001b[0;34m]\u001b[0m\u001b[0;34m\u001b[0m\u001b[0;34m\u001b[0m\u001b[0m\n\u001b[0;32m-> 5179\u001b[0;31m             \u001b[0;32mreturn\u001b[0m \u001b[0mobject\u001b[0m\u001b[0;34m.\u001b[0m\u001b[0m__getattribute__\u001b[0m\u001b[0;34m(\u001b[0m\u001b[0mself\u001b[0m\u001b[0;34m,\u001b[0m \u001b[0mname\u001b[0m\u001b[0;34m)\u001b[0m\u001b[0;34m\u001b[0m\u001b[0;34m\u001b[0m\u001b[0m\n\u001b[0m\u001b[1;32m   5180\u001b[0m \u001b[0;34m\u001b[0m\u001b[0m\n\u001b[1;32m   5181\u001b[0m     \u001b[0;32mdef\u001b[0m \u001b[0m__setattr__\u001b[0m\u001b[0;34m(\u001b[0m\u001b[0mself\u001b[0m\u001b[0;34m,\u001b[0m \u001b[0mname\u001b[0m\u001b[0;34m,\u001b[0m \u001b[0mvalue\u001b[0m\u001b[0;34m)\u001b[0m\u001b[0;34m:\u001b[0m\u001b[0;34m\u001b[0m\u001b[0;34m\u001b[0m\u001b[0m\n",
      "\u001b[0;31mAttributeError\u001b[0m: 'DataFrame' object has no attribute 'can_code'"
     ]
    }
   ],
   "source": [
    "venue_beers_annotated.can_code"
   ]
  },
  {
   "cell_type": "code",
   "execution_count": 33,
   "metadata": {},
   "outputs": [
    {
     "data": {
      "text/html": "<div>\n<style scoped>\n    .dataframe tbody tr th:only-of-type {\n        vertical-align: middle;\n    }\n\n    .dataframe tbody tr th {\n        vertical-align: top;\n    }\n\n    .dataframe thead th {\n        text-align: right;\n    }\n</style>\n<table border=\"1\" class=\"dataframe\">\n  <thead>\n    <tr style=\"text-align: right;\">\n      <th></th>\n      <th>0</th>\n    </tr>\n  </thead>\n  <tbody>\n    <tr>\n      <td>0</td>\n      <td>3568228</td>\n    </tr>\n    <tr>\n      <td>1</td>\n      <td>3589306</td>\n    </tr>\n  </tbody>\n</table>\n</div>",
      "text/plain": "         0\n0  3568228\n1  3589306"
     },
     "execution_count": 33,
     "metadata": {},
     "output_type": "execute_result"
    }
   ],
   "source": [
    "\n",
    "\n"
   ]
  },
  {
   "cell_type": "code",
   "execution_count": 39,
   "metadata": {},
   "outputs": [],
   "source": []
  },
  {
   "cell_type": "code",
   "execution_count": 41,
   "metadata": {},
   "outputs": [
    {
     "data": {
      "text/html": "<div>\n<style scoped>\n    .dataframe tbody tr th:only-of-type {\n        vertical-align: middle;\n    }\n\n    .dataframe tbody tr th {\n        vertical-align: top;\n    }\n\n    .dataframe thead th {\n        text-align: right;\n    }\n</style>\n<table border=\"1\" class=\"dataframe\">\n  <thead>\n    <tr style=\"text-align: right;\">\n      <th></th>\n      <th>Unnamed: 0</th>\n      <th>code</th>\n      <th>ad_feature_type</th>\n      <th>layout</th>\n      <th>collection_id</th>\n      <th>untappd</th>\n      <th>abv</th>\n      <th>description</th>\n      <th>merch_types</th>\n      <th>beer_style</th>\n      <th>name</th>\n      <th>ad_feature_id</th>\n      <th>statement</th>\n      <th>ad_feature_html</th>\n      <th>head_graphic</th>\n      <th>artist_id</th>\n      <th>last_brewed</th>\n      <th>untappd_id</th>\n    </tr>\n  </thead>\n  <tbody>\n    <tr>\n      <td>0</td>\n      <td>1</td>\n      <td>sqp</td>\n      <td>prints</td>\n      <td>can</td>\n      <td>156883058772</td>\n      <td>https://untappd.com/b/fab-squid-pro-quo/3568228</td>\n      <td>7.5</td>\n      <td>&lt;em class=\"sqp-text fancy\"&gt;SQUID PRO QUO&lt;/em&gt; ...</td>\n      <td>museum quality prints, hoodies and stickers</td>\n      <td>DOUBLE IPA</td>\n      <td>Squid Pro Quo</td>\n      <td>4405538553940</td>\n      <td>\"I imagined him floating over a psychedelic su...</td>\n      <td>&lt;div class=\"print-circle-image\"    style=\"back...</td>\n      <td>/assets/story/squid_head_only.png</td>\n      <td>andy</td>\n      <td>12/4/2019</td>\n      <td>3568228</td>\n    </tr>\n    <tr>\n      <td>1</td>\n      <td>2</td>\n      <td>bf</td>\n      <td>artwork</td>\n      <td>can</td>\n      <td>156883124308</td>\n      <td>https://untappd.com/b/fab-fermentation-arts-ba...</td>\n      <td>6.1</td>\n      <td>&lt;em class=\"bf-text fancy\"&gt;BALLOON FACTORY&lt;/em&gt;...</td>\n      <td>the original artwork, T-shirts and stickers</td>\n      <td>AMERICAN IPA</td>\n      <td>Balloon Factory</td>\n      <td>4405832253524</td>\n      <td>“This baby Trump balloon is a very orange Geor...</td>\n      <td>&lt;button type=\"button\" class=\"btn \" data-toggle...</td>\n      <td>/assets/story/just_peach.png</td>\n      <td>adam</td>\n      <td>12/3/2019</td>\n      <td>3589306</td>\n    </tr>\n  </tbody>\n</table>\n</div>",
      "text/plain": "   Unnamed: 0 code ad_feature_type layout  collection_id  \\\n0           1  sqp          prints    can   156883058772   \n1           2   bf         artwork    can   156883124308   \n\n                                             untappd  abv  \\\n0    https://untappd.com/b/fab-squid-pro-quo/3568228  7.5   \n1  https://untappd.com/b/fab-fermentation-arts-ba...  6.1   \n\n                                         description  \\\n0  <em class=\"sqp-text fancy\">SQUID PRO QUO</em> ...   \n1  <em class=\"bf-text fancy\">BALLOON FACTORY</em>...   \n\n                                   merch_types    beer_style             name  \\\n0  museum quality prints, hoodies and stickers    DOUBLE IPA    Squid Pro Quo   \n1  the original artwork, T-shirts and stickers  AMERICAN IPA  Balloon Factory   \n\n   ad_feature_id                                          statement  \\\n0  4405538553940  \"I imagined him floating over a psychedelic su...   \n1  4405832253524  “This baby Trump balloon is a very orange Geor...   \n\n                                     ad_feature_html  \\\n0  <div class=\"print-circle-image\"    style=\"back...   \n1  <button type=\"button\" class=\"btn \" data-toggle...   \n\n                        head_graphic artist_id last_brewed  untappd_id  \n0  /assets/story/squid_head_only.png      andy   12/4/2019     3568228  \n1       /assets/story/just_peach.png      adam   12/3/2019     3589306  "
     },
     "execution_count": 41,
     "metadata": {},
     "output_type": "execute_result"
    }
   ],
   "source": [
    "\n",
    "cans"
   ]
  },
  {
   "cell_type": "code",
   "execution_count": 42,
   "metadata": {},
   "outputs": [
    {
     "data": {
      "text/html": "<div>\n<style scoped>\n    .dataframe tbody tr th:only-of-type {\n        vertical-align: middle;\n    }\n\n    .dataframe tbody tr th {\n        vertical-align: top;\n    }\n\n    .dataframe thead th {\n        text-align: right;\n    }\n</style>\n<table border=\"1\" class=\"dataframe\">\n  <thead>\n    <tr style=\"text-align: right;\">\n      <th></th>\n      <th>venue_slug</th>\n      <th>beer_slug</th>\n      <th>venue_id</th>\n      <th>venue_name</th>\n      <th>primary_category_key</th>\n      <th>primary_category</th>\n      <th>parent_category_id</th>\n      <th>categories</th>\n      <th>location</th>\n      <th>contact</th>\n      <th>...</th>\n      <th>lat</th>\n      <th>lng</th>\n      <th>venue_address</th>\n      <th>venue_city</th>\n      <th>venue_country</th>\n      <th>venue_state</th>\n      <th>user_names</th>\n      <th>total_rating</th>\n      <th>n_checkins</th>\n      <th>code</th>\n    </tr>\n  </thead>\n  <tbody>\n    <tr>\n      <td>0</td>\n      <td>dorchester-brewing-company</td>\n      <td>fab-fermentation-arts-squid-pro-quo</td>\n      <td>4367121.0</td>\n      <td>Dorchester Brewing Company</td>\n      <td>Nightlife Spot</td>\n      <td>Nightlife Spot</td>\n      <td>4d4b7105d754a06376d81259</td>\n      <td>{'count': 2, 'items': [{'category_key': 'brewe...</td>\n      <td>{'venue_address': '1250 Massachusetts Ave', 'v...</td>\n      <td>{'twitter': '@dorchesterbrew', 'venue_url': 'h...</td>\n      <td>...</td>\n      <td>42.3220</td>\n      <td>-71.0626</td>\n      <td>1250 Massachusetts Ave</td>\n      <td>Boston</td>\n      <td>United States</td>\n      <td>MA</td>\n      <td>fab_ben,fab_ben,fab_ben</td>\n      <td>5.00</td>\n      <td>3.0</td>\n      <td>sqp</td>\n    </tr>\n    <tr>\n      <td>2</td>\n      <td>flatbread-company-at-saccos-bowl-haven</td>\n      <td>fab-fermentation-arts-balloon-factory</td>\n      <td>12317.0</td>\n      <td>Flatbread Company at Sacco's Bowl Haven</td>\n      <td>Food</td>\n      <td>Food</td>\n      <td>4d4b7105d754a06374d81259</td>\n      <td>{'count': 1, 'items': [{'category_key': 'pizza...</td>\n      <td>{'venue_address': '45 Day St', 'venue_city': '...</td>\n      <td>{'twitter': '@flatbreadsville', 'venue_url': '...</td>\n      <td>...</td>\n      <td>42.3957</td>\n      <td>-71.1237</td>\n      <td>45 Day St</td>\n      <td>Somerville</td>\n      <td>United States</td>\n      <td>MA</td>\n      <td>dgerzofsky</td>\n      <td>0.00</td>\n      <td>1.0</td>\n      <td>bf</td>\n    </tr>\n    <tr>\n      <td>3</td>\n      <td>high-tor-state-park</td>\n      <td>fab-fermentation-arts-squid-pro-quo</td>\n      <td>2006735.0</td>\n      <td>High Tor State Park</td>\n      <td>Outdoors &amp; Recreation</td>\n      <td>Outdoors &amp; Recreation</td>\n      <td>4d4b7105d754a06377d81259</td>\n      <td>{'count': 3, 'items': [{'category_key': 'state...</td>\n      <td>{'venue_address': '415 S Mountain Rd', 'venue_...</td>\n      <td>{'twitter': '', 'venue_url': ''}</td>\n      <td>...</td>\n      <td>41.1911</td>\n      <td>-73.9891</td>\n      <td>415 S Mountain Rd</td>\n      <td>New City</td>\n      <td>United States</td>\n      <td>NY</td>\n      <td>fab_ben</td>\n      <td>0.00</td>\n      <td>1.0</td>\n      <td>sqp</td>\n    </tr>\n    <tr>\n      <td>5</td>\n      <td>flynns-irish-pub</td>\n      <td>fab-fermentation-arts-balloon-factory</td>\n      <td>1265320.0</td>\n      <td>Flynn's Irish Pub - Mansfield</td>\n      <td>Food</td>\n      <td>Food</td>\n      <td>4d4b7105d754a06374d81259</td>\n      <td>{'count': 1, 'items': [{'category_key': 'irish...</td>\n      <td>{'venue_address': '219-223 N Main St', 'venue_...</td>\n      <td>{'twitter': '@FlynnsIrishPub', 'venue_url': 'h...</td>\n      <td>...</td>\n      <td>42.0297</td>\n      <td>-71.2180</td>\n      <td>219-223 N Main St</td>\n      <td>Mansfield</td>\n      <td>United States</td>\n      <td>MA</td>\n      <td>hoppybeachbum</td>\n      <td>3.25</td>\n      <td>1.0</td>\n      <td>bf</td>\n    </tr>\n    <tr>\n      <td>6</td>\n      <td>connecticut-river</td>\n      <td>fab-fermentation-arts-squid-pro-quo</td>\n      <td>1010984.0</td>\n      <td>Connecticut River</td>\n      <td>Outdoors &amp; Recreation</td>\n      <td>Outdoors &amp; Recreation</td>\n      <td>4d4b7105d754a06377d81259</td>\n      <td>{'count': 1, 'items': [{'category_key': 'river...</td>\n      <td>{'venue_address': '', 'venue_city': 'South Had...</td>\n      <td>{'twitter': '', 'venue_url': ''}</td>\n      <td>...</td>\n      <td>42.2633</td>\n      <td>-72.6063</td>\n      <td></td>\n      <td>South Hadley</td>\n      <td>United States</td>\n      <td>MA</td>\n      <td>CatamountGold</td>\n      <td>4.00</td>\n      <td>1.0</td>\n      <td>sqp</td>\n    </tr>\n  </tbody>\n</table>\n<p>5 rows × 40 columns</p>\n</div>",
      "text/plain": "                               venue_slug  \\\n0              dorchester-brewing-company   \n2  flatbread-company-at-saccos-bowl-haven   \n3                     high-tor-state-park   \n5                        flynns-irish-pub   \n6                       connecticut-river   \n\n                               beer_slug   venue_id  \\\n0    fab-fermentation-arts-squid-pro-quo  4367121.0   \n2  fab-fermentation-arts-balloon-factory    12317.0   \n3    fab-fermentation-arts-squid-pro-quo  2006735.0   \n5  fab-fermentation-arts-balloon-factory  1265320.0   \n6    fab-fermentation-arts-squid-pro-quo  1010984.0   \n\n                                venue_name   primary_category_key  \\\n0               Dorchester Brewing Company         Nightlife Spot   \n2  Flatbread Company at Sacco's Bowl Haven                   Food   \n3                      High Tor State Park  Outdoors & Recreation   \n5            Flynn's Irish Pub - Mansfield                   Food   \n6                        Connecticut River  Outdoors & Recreation   \n\n        primary_category        parent_category_id  \\\n0         Nightlife Spot  4d4b7105d754a06376d81259   \n2                   Food  4d4b7105d754a06374d81259   \n3  Outdoors & Recreation  4d4b7105d754a06377d81259   \n5                   Food  4d4b7105d754a06374d81259   \n6  Outdoors & Recreation  4d4b7105d754a06377d81259   \n\n                                          categories  \\\n0  {'count': 2, 'items': [{'category_key': 'brewe...   \n2  {'count': 1, 'items': [{'category_key': 'pizza...   \n3  {'count': 3, 'items': [{'category_key': 'state...   \n5  {'count': 1, 'items': [{'category_key': 'irish...   \n6  {'count': 1, 'items': [{'category_key': 'river...   \n\n                                            location  \\\n0  {'venue_address': '1250 Massachusetts Ave', 'v...   \n2  {'venue_address': '45 Day St', 'venue_city': '...   \n3  {'venue_address': '415 S Mountain Rd', 'venue_...   \n5  {'venue_address': '219-223 N Main St', 'venue_...   \n6  {'venue_address': '', 'venue_city': 'South Had...   \n\n                                             contact  ...      lat      lng  \\\n0  {'twitter': '@dorchesterbrew', 'venue_url': 'h...  ...  42.3220 -71.0626   \n2  {'twitter': '@flatbreadsville', 'venue_url': '...  ...  42.3957 -71.1237   \n3                   {'twitter': '', 'venue_url': ''}  ...  41.1911 -73.9891   \n5  {'twitter': '@FlynnsIrishPub', 'venue_url': 'h...  ...  42.0297 -71.2180   \n6                   {'twitter': '', 'venue_url': ''}  ...  42.2633 -72.6063   \n\n            venue_address    venue_city  venue_country venue_state  \\\n0  1250 Massachusetts Ave        Boston  United States          MA   \n2               45 Day St    Somerville  United States          MA   \n3       415 S Mountain Rd      New City  United States          NY   \n5       219-223 N Main St     Mansfield  United States          MA   \n6                          South Hadley  United States          MA   \n\n                user_names  total_rating  n_checkins code  \n0  fab_ben,fab_ben,fab_ben          5.00         3.0  sqp  \n2               dgerzofsky          0.00         1.0   bf  \n3                  fab_ben          0.00         1.0  sqp  \n5            hoppybeachbum          3.25         1.0   bf  \n6            CatamountGold          4.00         1.0  sqp  \n\n[5 rows x 40 columns]"
     },
     "execution_count": 42,
     "metadata": {},
     "output_type": "execute_result"
    }
   ],
   "source": [
    "\n"
   ]
  },
  {
   "cell_type": "code",
   "execution_count": 26,
   "metadata": {},
   "outputs": [],
   "source": []
  },
  {
   "cell_type": "code",
   "execution_count": 24,
   "metadata": {},
   "outputs": [
    {
     "data": {
      "text/plain": "0    4367121\n2      12317\n3    2006735\n5    1265320\n6    1010984\nName: venue_id, dtype: int64"
     },
     "execution_count": 24,
     "metadata": {},
     "output_type": "execute_result"
    }
   ],
   "source": [
    "venues_annotated.venue_id.astype(int)"
   ]
  },
  {
   "cell_type": "code",
   "execution_count": 9,
   "metadata": {},
   "outputs": [],
   "source": [
    "import sqlite3\n",
    "conn = sqlite3.connect(\"untappd.db\")\n",
    "df = pd.read_sql_query(\"select * from checkins limit 100;\", conn)"
   ]
  },
  {
   "cell_type": "code",
   "execution_count": 10,
   "metadata": {},
   "outputs": [
    {
     "data": {
      "text/html": "<div>\n<style scoped>\n    .dataframe tbody tr th:only-of-type {\n        vertical-align: middle;\n    }\n\n    .dataframe tbody tr th {\n        vertical-align: top;\n    }\n\n    .dataframe thead th {\n        text-align: right;\n    }\n</style>\n<table border=\"1\" class=\"dataframe\">\n  <thead>\n    <tr style=\"text-align: right;\">\n      <th></th>\n      <th>cid</th>\n      <th>timestamp</th>\n      <th>beer</th>\n      <th>venue</th>\n      <th>json</th>\n    </tr>\n  </thead>\n  <tbody>\n    <tr>\n      <td>0</td>\n      <td>838537272</td>\n      <td>1575735296</td>\n      <td>Squid Pro Quo</td>\n      <td>Dorchester Brewing Company</td>\n      <td>{\"checkin_id\": 838537272, \"created_at\": \"Sat, ...</td>\n    </tr>\n    <tr>\n      <td>1</td>\n      <td>840159586</td>\n      <td>1576099768</td>\n      <td>Squid Pro Quo</td>\n      <td>Dorchester Brewing Company</td>\n      <td>{\"checkin_id\": 840159586, \"created_at\": \"Wed, ...</td>\n    </tr>\n    <tr>\n      <td>2</td>\n      <td>843595254</td>\n      <td>1576871652</td>\n      <td>Squid Pro Quo</td>\n      <td></td>\n      <td>{\"checkin_id\": 843595254, \"created_at\": \"Fri, ...</td>\n    </tr>\n    <tr>\n      <td>3</td>\n      <td>843598886</td>\n      <td>1576871947</td>\n      <td>Squid Pro Quo</td>\n      <td>Dorchester Brewing Company</td>\n      <td>{\"checkin_id\": 843598886, \"created_at\": \"Fri, ...</td>\n    </tr>\n    <tr>\n      <td>4</td>\n      <td>844777755</td>\n      <td>1577033160</td>\n      <td>Balloon Factory</td>\n      <td>Flatbread Company at Sacco's Bowl Haven</td>\n      <td>{\"checkin_id\": 844777755, \"created_at\": \"Sun, ...</td>\n    </tr>\n    <tr>\n      <td>5</td>\n      <td>844837932</td>\n      <td>1577039748</td>\n      <td>Squid Pro Quo</td>\n      <td>High Tor State Park</td>\n      <td>{\"checkin_id\": 844837932, \"created_at\": \"Sun, ...</td>\n    </tr>\n    <tr>\n      <td>6</td>\n      <td>845367612</td>\n      <td>1577132123</td>\n      <td>Balloon Factory</td>\n      <td></td>\n      <td>{\"checkin_id\": 845367612, \"created_at\": \"Mon, ...</td>\n    </tr>\n    <tr>\n      <td>7</td>\n      <td>845370113</td>\n      <td>1577132354</td>\n      <td>Squid Pro Quo</td>\n      <td></td>\n      <td>{\"checkin_id\": 845370113, \"created_at\": \"Mon, ...</td>\n    </tr>\n    <tr>\n      <td>8</td>\n      <td>845401472</td>\n      <td>1577135193</td>\n      <td>Squid Pro Quo</td>\n      <td></td>\n      <td>{\"checkin_id\": 845401472, \"created_at\": \"Mon, ...</td>\n    </tr>\n    <tr>\n      <td>9</td>\n      <td>845483235</td>\n      <td>1577142903</td>\n      <td>Squid Pro Quo</td>\n      <td></td>\n      <td>{\"checkin_id\": 845483235, \"created_at\": \"Mon, ...</td>\n    </tr>\n    <tr>\n      <td>10</td>\n      <td>845525446</td>\n      <td>1577147007</td>\n      <td>Balloon Factory</td>\n      <td>Flynn's Irish Pub - Mansfield</td>\n      <td>{\"checkin_id\": 845525446, \"created_at\": \"Tue, ...</td>\n    </tr>\n    <tr>\n      <td>11</td>\n      <td>845563920</td>\n      <td>1577150668</td>\n      <td>Squid Pro Quo</td>\n      <td></td>\n      <td>{\"checkin_id\": 845563920, \"created_at\": \"Tue, ...</td>\n    </tr>\n    <tr>\n      <td>12</td>\n      <td>845583146</td>\n      <td>1577152513</td>\n      <td>Balloon Factory</td>\n      <td></td>\n      <td>{\"checkin_id\": 845583146, \"created_at\": \"Tue, ...</td>\n    </tr>\n    <tr>\n      <td>13</td>\n      <td>845584020</td>\n      <td>1577152600</td>\n      <td>Balloon Factory</td>\n      <td></td>\n      <td>{\"checkin_id\": 845584020, \"created_at\": \"Tue, ...</td>\n    </tr>\n    <tr>\n      <td>14</td>\n      <td>845704440</td>\n      <td>1577191982</td>\n      <td>Squid Pro Quo</td>\n      <td>Connecticut River</td>\n      <td>{\"checkin_id\": 845704440, \"created_at\": \"Tue, ...</td>\n    </tr>\n  </tbody>\n</table>\n</div>",
      "text/plain": "          cid   timestamp             beer  \\\n0   838537272  1575735296    Squid Pro Quo   \n1   840159586  1576099768    Squid Pro Quo   \n2   843595254  1576871652    Squid Pro Quo   \n3   843598886  1576871947    Squid Pro Quo   \n4   844777755  1577033160  Balloon Factory   \n5   844837932  1577039748    Squid Pro Quo   \n6   845367612  1577132123  Balloon Factory   \n7   845370113  1577132354    Squid Pro Quo   \n8   845401472  1577135193    Squid Pro Quo   \n9   845483235  1577142903    Squid Pro Quo   \n10  845525446  1577147007  Balloon Factory   \n11  845563920  1577150668    Squid Pro Quo   \n12  845583146  1577152513  Balloon Factory   \n13  845584020  1577152600  Balloon Factory   \n14  845704440  1577191982    Squid Pro Quo   \n\n                                      venue  \\\n0                Dorchester Brewing Company   \n1                Dorchester Brewing Company   \n2                                             \n3                Dorchester Brewing Company   \n4   Flatbread Company at Sacco's Bowl Haven   \n5                       High Tor State Park   \n6                                             \n7                                             \n8                                             \n9                                             \n10            Flynn's Irish Pub - Mansfield   \n11                                            \n12                                            \n13                                            \n14                        Connecticut River   \n\n                                                 json  \n0   {\"checkin_id\": 838537272, \"created_at\": \"Sat, ...  \n1   {\"checkin_id\": 840159586, \"created_at\": \"Wed, ...  \n2   {\"checkin_id\": 843595254, \"created_at\": \"Fri, ...  \n3   {\"checkin_id\": 843598886, \"created_at\": \"Fri, ...  \n4   {\"checkin_id\": 844777755, \"created_at\": \"Sun, ...  \n5   {\"checkin_id\": 844837932, \"created_at\": \"Sun, ...  \n6   {\"checkin_id\": 845367612, \"created_at\": \"Mon, ...  \n7   {\"checkin_id\": 845370113, \"created_at\": \"Mon, ...  \n8   {\"checkin_id\": 845401472, \"created_at\": \"Mon, ...  \n9   {\"checkin_id\": 845483235, \"created_at\": \"Mon, ...  \n10  {\"checkin_id\": 845525446, \"created_at\": \"Tue, ...  \n11  {\"checkin_id\": 845563920, \"created_at\": \"Tue, ...  \n12  {\"checkin_id\": 845583146, \"created_at\": \"Tue, ...  \n13  {\"checkin_id\": 845584020, \"created_at\": \"Tue, ...  \n14  {\"checkin_id\": 845704440, \"created_at\": \"Tue, ...  "
     },
     "execution_count": 10,
     "metadata": {},
     "output_type": "execute_result"
    }
   ],
   "source": [
    "\n",
    "\n"
   ]
  }
 ],
 "metadata": {
  "file_extension": ".py",
  "kernelspec": {
   "display_name": "Python 3",
   "language": "python",
   "name": "python3"
  },
  "language_info": {
   "codemirror_mode": {
    "name": "ipython",
    "version": 3
   },
   "file_extension": ".py",
   "mimetype": "text/x-python",
   "name": "python",
   "nbconvert_exporter": "python",
   "pygments_lexer": "ipython3",
   "version": "3.7.3"
  },
  "mimetype": "text/x-python",
  "name": "python",
  "npconvert_exporter": "python",
  "pygments_lexer": "ipython3",
  "version": 3
 },
 "nbformat": 4,
 "nbformat_minor": 2
}