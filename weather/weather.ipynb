{
 "cells": [
  {
   "cell_type": "code",
   "execution_count": 2,
   "metadata": {},
   "outputs": [],
   "source": [
    "import pandas as pd\n",
    "from urllib.request import urlopen\n",
    "import json\n",
    "import numpy as np\n"
   ]
  },
  {
   "cell_type": "code",
   "execution_count": 179,
   "metadata": {},
   "outputs": [],
   "source": [
    "# complete_noaa_weather_grid = pd.read_csv(\n",
    "#     \"https://www.ncei.noaa.gov/access/services/data/v1?dataset=global-marine&dataTypes=WIND_DIR,WIND_SPEED&startDate=2019-12-21&endDate=2019-12-22&boundingBox=42,-72,40,-70\"\n",
    "# )\n",
    "\n",
    "\n",
    "\n",
    "#THIS CODE HAS BEEN FULLY TRANSFERRED TO WEATHER.PY\n",
    "#FROM NOW ON, LOAD THESE RESULTS FROM _data/weather.csv \n",
    "\n",
    "\n",
    "# WIND_SPEED = \"wind_speed\"\n",
    "# WIND_DEG = \"wind_deg\"\n",
    "# SPEED = \"speed\"\n",
    "# DEG = \"deg\"\n",
    "\n",
    "# WIND_RAD = \"wind_rad\"\n",
    "# WIND_DEG = \"wind_deg\"\n",
    "# LAT = \"lat\"\n",
    "# LON = \"lon\"\n",
    "\n",
    "\n",
    "# API_KEY = \"638cafd5f78c877a2169df3f20322a7a\"\n",
    "# lat0 = 42.3\n",
    "# lon0 = -71\n",
    "# delta = 1\n",
    "\n",
    "\n",
    "# #open weather map grid query\n",
    "# grid = pd.DataFrame()\n",
    "# lat0 = 42\n",
    "# lon0 = -71\n",
    "# inc = .5\n",
    "# for delta in inc*np.array( [-2,-1,0,1,2]):\n",
    "#     for delta2 in inc*np.array( [-2,-1,0,1,2]):\n",
    "        \n",
    "#             url = f\"https://api.openweathermap.org/data/2.5/onecall?lat={delta+lat0}&lon={delta2+lon0}&appid={API_KEY}\"\n",
    "\n",
    "  \n",
    "#             # store the response of URL\n",
    "#             response = urlopen(url)\n",
    "\n",
    "\n",
    "#             # storing the JSON response \n",
    "#             # from url in data\n",
    "#             data_json = json.loads(response.read())\n",
    "#             grid = pd.concat([grid,pd.DataFrame(\n",
    "#                 pd.Series(data_json[\"current\"]).append(pd.Series(data_json))\n",
    "#             ).T])\n",
    "\n",
    "            \n",
    "            \n",
    "# # open weather map cities query\n",
    "# cities = [\n",
    "# \"Quincy\",\n",
    "# \"South Boston\",\n",
    "# \"Boston\",\n",
    "# \"Jamaica Plain\",\n",
    "# \"Cambridge\",\n",
    "# \"Newton\",\n",
    "# \"Brockton\",\n",
    "# \"Hanover\",\n",
    "# \"Peabody\",\n",
    "# \"Framingham\",\n",
    "# \"Ashland\",\n",
    "# \"Tewksbury\",\n",
    "# \"Gloucester\",\n",
    "# \"Taunton\",\n",
    "# \"Marlborough\",\n",
    "# \"Lowell\",\n",
    "# \"Attleboro\",\n",
    "# \"Milford\",\n",
    "# \"Lawrence\",\n",
    "# \"Woonsocket\",\n",
    "# \"Somerset\",\n",
    "# \"Amesbury\",\n",
    "# \"Providence\",\n",
    "# \"Nashua\",\n",
    "# \"Worcester\",\n",
    "# \"Leominster\",\n",
    "# \"Fall River\",\n",
    "# \"Derry Village\",\n",
    "# \"New Bedford\",\n",
    "# \"Warwick\",\n",
    "# \"Manchester\",\n",
    "# \"Gardner\",\n",
    "# # \"Portsmouth\",\n",
    "# \"Killingly Center\",\n",
    "# \"Barnstable\",\n",
    "# \"Yarmouth\",\n",
    "# \"North Kingstown\",\n",
    "# \"Dover\",\n",
    "# # \"Plainfield\",\n",
    "# \"Concord\",\n",
    "# # \"East Concord\",\n",
    "# \"Westerly\",\n",
    "#     \"Provincetown\",\n",
    "#     \"Springfield\",\n",
    "# ]\n",
    "\n",
    "\n",
    "\n",
    "# city_grid = pd.DataFrame()\n",
    "\n",
    "# for c in cities:\n",
    "#         url = f'https://api.openweathermap.org/data/2.5/weather?q={c.replace(\" \",\"%20\")},MA,US&appid={API_KEY}'\n",
    "#         response = urlopen(url)\n",
    "\n",
    "#         data_json = json.loads(response.read())\n",
    "\n",
    "\n",
    "#         city_grid = pd.concat([city_grid,pd.DataFrame(\n",
    "#                 pd.Series(data_json[\"wind\"]\n",
    "#                          ).append(pd.Series(data_json[\"coord\"])).append(pd.Series(data_json))\n",
    "#             ).T.assign(**{\"name\":c})],ignore_index=True)\n",
    "\n",
    "        \n",
    "        \n",
    "# #grid combination and output\n",
    "# both_grids =     pd.concat([\n",
    "#         city_grid,\n",
    "#         grid.rename({WIND_DEG:DEG,WIND_SPEED:SPEED},axis=1).assign(**{\"name\":\"station\"})])\n",
    "# both_grids[SPEED] = both_grids[SPEED].astype(float)\n",
    "# both_grids[DEG] = both_grids[DEG].astype(float)\n",
    "# # both_grids[RAD] = both_grids[DEG].astype(float)/180 *np.pi\n",
    "\n",
    "# both_grids.set_index(\"name\")[[LAT,LON,DEG,SPEED]].rename(\n",
    "#     {\n",
    "#         LAT:\"Lat\",\n",
    "#         LON:\"Lon\"\n",
    "#     }\n",
    "# ).to_csv(\"../_data/weather.csv\")\n",
    "\n",
    "\n",
    "\n"
   ]
  },
  {
   "cell_type": "code",
   "execution_count": null,
   "metadata": {},
   "outputs": [],
   "source": []
  },
  {
   "cell_type": "code",
   "execution_count": 181,
   "metadata": {},
   "outputs": [
    {
     "data": {
      "text/html": [
       "<div>\n",
       "<style scoped>\n",
       "    .dataframe tbody tr th:only-of-type {\n",
       "        vertical-align: middle;\n",
       "    }\n",
       "\n",
       "    .dataframe tbody tr th {\n",
       "        vertical-align: top;\n",
       "    }\n",
       "\n",
       "    .dataframe thead th {\n",
       "        text-align: right;\n",
       "    }\n",
       "</style>\n",
       "<table border=\"1\" class=\"dataframe\">\n",
       "  <thead>\n",
       "    <tr style=\"text-align: right;\">\n",
       "      <th></th>\n",
       "      <th>name</th>\n",
       "      <th>lat</th>\n",
       "      <th>lon</th>\n",
       "      <th>deg</th>\n",
       "      <th>speed</th>\n",
       "    </tr>\n",
       "  </thead>\n",
       "  <tbody>\n",
       "    <tr>\n",
       "      <th>0</th>\n",
       "      <td>Quincy</td>\n",
       "      <td>42.2529</td>\n",
       "      <td>-71.0023</td>\n",
       "      <td>90.0</td>\n",
       "      <td>0.45</td>\n",
       "    </tr>\n",
       "    <tr>\n",
       "      <th>1</th>\n",
       "      <td>South Boston</td>\n",
       "      <td>42.3334</td>\n",
       "      <td>-71.0495</td>\n",
       "      <td>355.0</td>\n",
       "      <td>4.92</td>\n",
       "    </tr>\n",
       "    <tr>\n",
       "      <th>2</th>\n",
       "      <td>Boston</td>\n",
       "      <td>42.3584</td>\n",
       "      <td>-71.0598</td>\n",
       "      <td>355.0</td>\n",
       "      <td>4.92</td>\n",
       "    </tr>\n",
       "    <tr>\n",
       "      <th>3</th>\n",
       "      <td>Jamaica Plain</td>\n",
       "      <td>42.3098</td>\n",
       "      <td>-71.1203</td>\n",
       "      <td>257.0</td>\n",
       "      <td>1.79</td>\n",
       "    </tr>\n",
       "    <tr>\n",
       "      <th>4</th>\n",
       "      <td>Cambridge</td>\n",
       "      <td>42.3751</td>\n",
       "      <td>-71.1056</td>\n",
       "      <td>225.0</td>\n",
       "      <td>1.79</td>\n",
       "    </tr>\n",
       "    <tr>\n",
       "      <th>...</th>\n",
       "      <td>...</td>\n",
       "      <td>...</td>\n",
       "      <td>...</td>\n",
       "      <td>...</td>\n",
       "      <td>...</td>\n",
       "    </tr>\n",
       "    <tr>\n",
       "      <th>61</th>\n",
       "      <td>station</td>\n",
       "      <td>43.0000</td>\n",
       "      <td>-72.0000</td>\n",
       "      <td>274.0</td>\n",
       "      <td>2.68</td>\n",
       "    </tr>\n",
       "    <tr>\n",
       "      <th>62</th>\n",
       "      <td>station</td>\n",
       "      <td>43.0000</td>\n",
       "      <td>-71.5000</td>\n",
       "      <td>284.0</td>\n",
       "      <td>1.34</td>\n",
       "    </tr>\n",
       "    <tr>\n",
       "      <th>63</th>\n",
       "      <td>station</td>\n",
       "      <td>43.0000</td>\n",
       "      <td>-71.0000</td>\n",
       "      <td>260.0</td>\n",
       "      <td>3.58</td>\n",
       "    </tr>\n",
       "    <tr>\n",
       "      <th>64</th>\n",
       "      <td>station</td>\n",
       "      <td>43.0000</td>\n",
       "      <td>-70.5000</td>\n",
       "      <td>288.0</td>\n",
       "      <td>11.78</td>\n",
       "    </tr>\n",
       "    <tr>\n",
       "      <th>65</th>\n",
       "      <td>station</td>\n",
       "      <td>43.0000</td>\n",
       "      <td>-70.0000</td>\n",
       "      <td>284.0</td>\n",
       "      <td>9.50</td>\n",
       "    </tr>\n",
       "  </tbody>\n",
       "</table>\n",
       "<p>66 rows × 5 columns</p>\n",
       "</div>"
      ],
      "text/plain": [
       "             name      lat      lon    deg  speed\n",
       "0          Quincy  42.2529 -71.0023   90.0   0.45\n",
       "1    South Boston  42.3334 -71.0495  355.0   4.92\n",
       "2          Boston  42.3584 -71.0598  355.0   4.92\n",
       "3   Jamaica Plain  42.3098 -71.1203  257.0   1.79\n",
       "4       Cambridge  42.3751 -71.1056  225.0   1.79\n",
       "..            ...      ...      ...    ...    ...\n",
       "61        station  43.0000 -72.0000  274.0   2.68\n",
       "62        station  43.0000 -71.5000  284.0   1.34\n",
       "63        station  43.0000 -71.0000  260.0   3.58\n",
       "64        station  43.0000 -70.5000  288.0  11.78\n",
       "65        station  43.0000 -70.0000  284.0   9.50\n",
       "\n",
       "[66 rows x 5 columns]"
      ]
     },
     "execution_count": 181,
     "metadata": {},
     "output_type": "execute_result"
    }
   ],
   "source": [
    "both_grids"
   ]
  },
  {
   "cell_type": "code",
   "execution_count": 182,
   "metadata": {},
   "outputs": [
    {
     "data": {
      "text/html": [
       "<div>\n",
       "<style scoped>\n",
       "    .dataframe tbody tr th:only-of-type {\n",
       "        vertical-align: middle;\n",
       "    }\n",
       "\n",
       "    .dataframe tbody tr th {\n",
       "        vertical-align: top;\n",
       "    }\n",
       "\n",
       "    .dataframe thead th {\n",
       "        text-align: right;\n",
       "    }\n",
       "</style>\n",
       "<table border=\"1\" class=\"dataframe\">\n",
       "  <thead>\n",
       "    <tr style=\"text-align: right;\">\n",
       "      <th></th>\n",
       "      <th>name</th>\n",
       "      <th>lat</th>\n",
       "      <th>lon</th>\n",
       "      <th>deg</th>\n",
       "      <th>speed</th>\n",
       "    </tr>\n",
       "  </thead>\n",
       "  <tbody>\n",
       "    <tr>\n",
       "      <th>0</th>\n",
       "      <td>Quincy</td>\n",
       "      <td>42.2529</td>\n",
       "      <td>-71.0023</td>\n",
       "      <td>90.0</td>\n",
       "      <td>0.45</td>\n",
       "    </tr>\n",
       "    <tr>\n",
       "      <th>1</th>\n",
       "      <td>South Boston</td>\n",
       "      <td>42.3334</td>\n",
       "      <td>-71.0495</td>\n",
       "      <td>355.0</td>\n",
       "      <td>4.92</td>\n",
       "    </tr>\n",
       "    <tr>\n",
       "      <th>2</th>\n",
       "      <td>Boston</td>\n",
       "      <td>42.3584</td>\n",
       "      <td>-71.0598</td>\n",
       "      <td>355.0</td>\n",
       "      <td>4.92</td>\n",
       "    </tr>\n",
       "    <tr>\n",
       "      <th>3</th>\n",
       "      <td>Jamaica Plain</td>\n",
       "      <td>42.3098</td>\n",
       "      <td>-71.1203</td>\n",
       "      <td>257.0</td>\n",
       "      <td>1.79</td>\n",
       "    </tr>\n",
       "    <tr>\n",
       "      <th>4</th>\n",
       "      <td>Cambridge</td>\n",
       "      <td>42.3751</td>\n",
       "      <td>-71.1056</td>\n",
       "      <td>225.0</td>\n",
       "      <td>1.79</td>\n",
       "    </tr>\n",
       "    <tr>\n",
       "      <th>...</th>\n",
       "      <td>...</td>\n",
       "      <td>...</td>\n",
       "      <td>...</td>\n",
       "      <td>...</td>\n",
       "      <td>...</td>\n",
       "    </tr>\n",
       "    <tr>\n",
       "      <th>61</th>\n",
       "      <td>station</td>\n",
       "      <td>43.0000</td>\n",
       "      <td>-72.0000</td>\n",
       "      <td>274.0</td>\n",
       "      <td>2.68</td>\n",
       "    </tr>\n",
       "    <tr>\n",
       "      <th>62</th>\n",
       "      <td>station</td>\n",
       "      <td>43.0000</td>\n",
       "      <td>-71.5000</td>\n",
       "      <td>284.0</td>\n",
       "      <td>1.34</td>\n",
       "    </tr>\n",
       "    <tr>\n",
       "      <th>63</th>\n",
       "      <td>station</td>\n",
       "      <td>43.0000</td>\n",
       "      <td>-71.0000</td>\n",
       "      <td>260.0</td>\n",
       "      <td>3.58</td>\n",
       "    </tr>\n",
       "    <tr>\n",
       "      <th>64</th>\n",
       "      <td>station</td>\n",
       "      <td>43.0000</td>\n",
       "      <td>-70.5000</td>\n",
       "      <td>288.0</td>\n",
       "      <td>11.78</td>\n",
       "    </tr>\n",
       "    <tr>\n",
       "      <th>65</th>\n",
       "      <td>station</td>\n",
       "      <td>43.0000</td>\n",
       "      <td>-70.0000</td>\n",
       "      <td>284.0</td>\n",
       "      <td>9.50</td>\n",
       "    </tr>\n",
       "  </tbody>\n",
       "</table>\n",
       "<p>66 rows × 5 columns</p>\n",
       "</div>"
      ],
      "text/plain": [
       "             name      lat      lon    deg  speed\n",
       "0          Quincy  42.2529 -71.0023   90.0   0.45\n",
       "1    South Boston  42.3334 -71.0495  355.0   4.92\n",
       "2          Boston  42.3584 -71.0598  355.0   4.92\n",
       "3   Jamaica Plain  42.3098 -71.1203  257.0   1.79\n",
       "4       Cambridge  42.3751 -71.1056  225.0   1.79\n",
       "..            ...      ...      ...    ...    ...\n",
       "61        station  43.0000 -72.0000  274.0   2.68\n",
       "62        station  43.0000 -71.5000  284.0   1.34\n",
       "63        station  43.0000 -71.0000  260.0   3.58\n",
       "64        station  43.0000 -70.5000  288.0  11.78\n",
       "65        station  43.0000 -70.0000  284.0   9.50\n",
       "\n",
       "[66 rows x 5 columns]"
      ]
     },
     "execution_count": 182,
     "metadata": {},
     "output_type": "execute_result"
    }
   ],
   "source": [
    "both_grids"
   ]
  },
  {
   "cell_type": "code",
   "execution_count": 185,
   "metadata": {},
   "outputs": [
    {
     "data": {
      "application/vnd.plotly.v1+json": {
       "config": {
        "plotlyServerURL": "https://plot.ly"
       },
       "data": [
        {
         "coloraxis": "coloraxis",
         "histfunc": "max",
         "hovertemplate": "Lon=%{x}<br>Lat=%{y}<br>max of speed=%{z}<extra></extra>",
         "name": "",
         "nbinsx": 10,
         "nbinsy": 10,
         "type": "histogram2d",
         "x": [
          -71.0023,
          -71.0495,
          -71.0598,
          -71.1203,
          -71.1056,
          -71.2092,
          -71.0184,
          -70.812,
          -70.9287,
          -71.4162,
          -71.4634,
          -71.2342,
          -70.662,
          -71.0898,
          -71.5455,
          -71.3162,
          -71.2856,
          -71.5162,
          -71.1631,
          -71.5148,
          -71.1287,
          -70.9301,
          -71.4128,
          -71.4676,
          -71.8328,
          -71.7598,
          -71.1551,
          -71.3124,
          -70.9342,
          -71.4161,
          -71.4548,
          -71.9981,
          -71.8692,
          -70.2995,
          -70.2286,
          -71.4694,
          -71.2828,
          -71.349,
          -71.8273,
          -70.1786,
          -72.5898,
          -72,
          -71.5,
          -71,
          -70.5,
          -70,
          -72,
          -71.5,
          -71,
          -70.5,
          -70,
          -72,
          -71.5,
          -71,
          -70.5,
          -70,
          -72,
          -71.5,
          -71,
          -70.5,
          -70,
          -72,
          -71.5,
          -71,
          -70.5,
          -70
         ],
         "xaxis": "x",
         "xbingroup": "x",
         "y": [
          42.2529,
          42.3334,
          42.3584,
          42.3098,
          42.3751,
          42.337,
          42.0834,
          42.1132,
          42.5279,
          42.2793,
          42.2612,
          42.6106,
          42.6159,
          41.9001,
          42.3491,
          42.6334,
          41.9445,
          42.1398,
          42.707,
          42.0029,
          41.7696,
          42.8584,
          41.824,
          42.7654,
          42.3334,
          42.5251,
          41.7015,
          42.8923,
          41.6362,
          41.7002,
          42.9956,
          42.5751,
          41.8387,
          41.7001,
          41.7057,
          41.5514,
          42.2459,
          42.4604,
          41.3776,
          42.0584,
          42.1015,
          41,
          41,
          41,
          41,
          41,
          41.5,
          41.5,
          41.5,
          41.5,
          41.5,
          42,
          42,
          42,
          42,
          42,
          42.5,
          42.5,
          42.5,
          42.5,
          42.5,
          43,
          43,
          43,
          43,
          43
         ],
         "yaxis": "y",
         "ybingroup": "y",
         "z": [
          0.45,
          4.92,
          4.92,
          1.79,
          1.79,
          2.68,
          2.24,
          0.45,
          2.68,
          0.45,
          0.45,
          2.24,
          4.02,
          1.34,
          1.34,
          1.34,
          1.79,
          1.79,
          1.79,
          2.68,
          1.34,
          1.34,
          1.34,
          3.13,
          0.89,
          6.69,
          2.68,
          0.89,
          3.13,
          7.72,
          2.24,
          6.69,
          1.34,
          6.69,
          6.69,
          1.34,
          2.24,
          6.69,
          4.12,
          8.94,
          0.45,
          5.66,
          10.27,
          10.66,
          10.51,
          10.16,
          6.69,
          5.81,
          5.14,
          6.69,
          8.74,
          1.34,
          2.68,
          1.79,
          6.26,
          6.26,
          5.25,
          0.45,
          1.34,
          11.08,
          12.32,
          1.79,
          1.34,
          4.92,
          11.78,
          9.5
         ]
        },
        {
         "hovertemplate": "Lon=%{x}<br>Lat=%{y}<extra></extra>",
         "legendgroup": "",
         "marker": {
          "color": "white",
          "symbol": "circle"
         },
         "mode": "markers",
         "name": "",
         "orientation": "v",
         "showlegend": false,
         "type": "scatter",
         "x": [
          -71.0023,
          -71.0495,
          -71.0598,
          -71.1203,
          -71.1056,
          -71.2092,
          -71.0184,
          -70.812,
          -70.9287,
          -71.4162,
          -71.4634,
          -71.2342,
          -70.662,
          -71.0898,
          -71.5455,
          -71.3162,
          -71.2856,
          -71.5162,
          -71.1631,
          -71.5148,
          -71.1287,
          -70.9301,
          -71.4128,
          -71.4676,
          -71.8328,
          -71.7598,
          -71.1551,
          -71.3124,
          -70.9342,
          -71.4161,
          -71.4548,
          -71.9981,
          -71.8692,
          -70.2995,
          -70.2286,
          -71.4694,
          -71.2828,
          -71.349,
          -71.8273,
          -70.1786,
          -72.5898,
          -72,
          -71.5,
          -71,
          -70.5,
          -70,
          -72,
          -71.5,
          -71,
          -70.5,
          -70,
          -72,
          -71.5,
          -71,
          -70.5,
          -70,
          -72,
          -71.5,
          -71,
          -70.5,
          -70,
          -72,
          -71.5,
          -71,
          -70.5,
          -70
         ],
         "xaxis": "x",
         "y": [
          42.2529,
          42.3334,
          42.3584,
          42.3098,
          42.3751,
          42.337,
          42.0834,
          42.1132,
          42.5279,
          42.2793,
          42.2612,
          42.6106,
          42.6159,
          41.9001,
          42.3491,
          42.6334,
          41.9445,
          42.1398,
          42.707,
          42.0029,
          41.7696,
          42.8584,
          41.824,
          42.7654,
          42.3334,
          42.5251,
          41.7015,
          42.8923,
          41.6362,
          41.7002,
          42.9956,
          42.5751,
          41.8387,
          41.7001,
          41.7057,
          41.5514,
          42.2459,
          42.4604,
          41.3776,
          42.0584,
          42.1015,
          41,
          41,
          41,
          41,
          41,
          41.5,
          41.5,
          41.5,
          41.5,
          41.5,
          42,
          42,
          42,
          42,
          42,
          42.5,
          42.5,
          42.5,
          42.5,
          42.5,
          43,
          43,
          43,
          43,
          43
         ],
         "yaxis": "y"
        }
       ],
       "layout": {
        "coloraxis": {
         "colorbar": {
          "title": {
           "text": "max of speed"
          }
         },
         "colorscale": [
          [
           0,
           "#0d0887"
          ],
          [
           0.1111111111111111,
           "#46039f"
          ],
          [
           0.2222222222222222,
           "#7201a8"
          ],
          [
           0.3333333333333333,
           "#9c179e"
          ],
          [
           0.4444444444444444,
           "#bd3786"
          ],
          [
           0.5555555555555556,
           "#d8576b"
          ],
          [
           0.6666666666666666,
           "#ed7953"
          ],
          [
           0.7777777777777778,
           "#fb9f3a"
          ],
          [
           0.8888888888888888,
           "#fdca26"
          ],
          [
           1,
           "#f0f921"
          ]
         ]
        },
        "legend": {
         "tracegroupgap": 0
        },
        "margin": {
         "t": 60
        },
        "template": {
         "data": {
          "bar": [
           {
            "error_x": {
             "color": "#2a3f5f"
            },
            "error_y": {
             "color": "#2a3f5f"
            },
            "marker": {
             "line": {
              "color": "#E5ECF6",
              "width": 0.5
             },
             "pattern": {
              "fillmode": "overlay",
              "size": 10,
              "solidity": 0.2
             }
            },
            "type": "bar"
           }
          ],
          "barpolar": [
           {
            "marker": {
             "line": {
              "color": "#E5ECF6",
              "width": 0.5
             },
             "pattern": {
              "fillmode": "overlay",
              "size": 10,
              "solidity": 0.2
             }
            },
            "type": "barpolar"
           }
          ],
          "carpet": [
           {
            "aaxis": {
             "endlinecolor": "#2a3f5f",
             "gridcolor": "white",
             "linecolor": "white",
             "minorgridcolor": "white",
             "startlinecolor": "#2a3f5f"
            },
            "baxis": {
             "endlinecolor": "#2a3f5f",
             "gridcolor": "white",
             "linecolor": "white",
             "minorgridcolor": "white",
             "startlinecolor": "#2a3f5f"
            },
            "type": "carpet"
           }
          ],
          "choropleth": [
           {
            "colorbar": {
             "outlinewidth": 0,
             "ticks": ""
            },
            "type": "choropleth"
           }
          ],
          "contour": [
           {
            "colorbar": {
             "outlinewidth": 0,
             "ticks": ""
            },
            "colorscale": [
             [
              0,
              "#0d0887"
             ],
             [
              0.1111111111111111,
              "#46039f"
             ],
             [
              0.2222222222222222,
              "#7201a8"
             ],
             [
              0.3333333333333333,
              "#9c179e"
             ],
             [
              0.4444444444444444,
              "#bd3786"
             ],
             [
              0.5555555555555556,
              "#d8576b"
             ],
             [
              0.6666666666666666,
              "#ed7953"
             ],
             [
              0.7777777777777778,
              "#fb9f3a"
             ],
             [
              0.8888888888888888,
              "#fdca26"
             ],
             [
              1,
              "#f0f921"
             ]
            ],
            "type": "contour"
           }
          ],
          "contourcarpet": [
           {
            "colorbar": {
             "outlinewidth": 0,
             "ticks": ""
            },
            "type": "contourcarpet"
           }
          ],
          "heatmap": [
           {
            "colorbar": {
             "outlinewidth": 0,
             "ticks": ""
            },
            "colorscale": [
             [
              0,
              "#0d0887"
             ],
             [
              0.1111111111111111,
              "#46039f"
             ],
             [
              0.2222222222222222,
              "#7201a8"
             ],
             [
              0.3333333333333333,
              "#9c179e"
             ],
             [
              0.4444444444444444,
              "#bd3786"
             ],
             [
              0.5555555555555556,
              "#d8576b"
             ],
             [
              0.6666666666666666,
              "#ed7953"
             ],
             [
              0.7777777777777778,
              "#fb9f3a"
             ],
             [
              0.8888888888888888,
              "#fdca26"
             ],
             [
              1,
              "#f0f921"
             ]
            ],
            "type": "heatmap"
           }
          ],
          "heatmapgl": [
           {
            "colorbar": {
             "outlinewidth": 0,
             "ticks": ""
            },
            "colorscale": [
             [
              0,
              "#0d0887"
             ],
             [
              0.1111111111111111,
              "#46039f"
             ],
             [
              0.2222222222222222,
              "#7201a8"
             ],
             [
              0.3333333333333333,
              "#9c179e"
             ],
             [
              0.4444444444444444,
              "#bd3786"
             ],
             [
              0.5555555555555556,
              "#d8576b"
             ],
             [
              0.6666666666666666,
              "#ed7953"
             ],
             [
              0.7777777777777778,
              "#fb9f3a"
             ],
             [
              0.8888888888888888,
              "#fdca26"
             ],
             [
              1,
              "#f0f921"
             ]
            ],
            "type": "heatmapgl"
           }
          ],
          "histogram": [
           {
            "marker": {
             "pattern": {
              "fillmode": "overlay",
              "size": 10,
              "solidity": 0.2
             }
            },
            "type": "histogram"
           }
          ],
          "histogram2d": [
           {
            "colorbar": {
             "outlinewidth": 0,
             "ticks": ""
            },
            "colorscale": [
             [
              0,
              "#0d0887"
             ],
             [
              0.1111111111111111,
              "#46039f"
             ],
             [
              0.2222222222222222,
              "#7201a8"
             ],
             [
              0.3333333333333333,
              "#9c179e"
             ],
             [
              0.4444444444444444,
              "#bd3786"
             ],
             [
              0.5555555555555556,
              "#d8576b"
             ],
             [
              0.6666666666666666,
              "#ed7953"
             ],
             [
              0.7777777777777778,
              "#fb9f3a"
             ],
             [
              0.8888888888888888,
              "#fdca26"
             ],
             [
              1,
              "#f0f921"
             ]
            ],
            "type": "histogram2d"
           }
          ],
          "histogram2dcontour": [
           {
            "colorbar": {
             "outlinewidth": 0,
             "ticks": ""
            },
            "colorscale": [
             [
              0,
              "#0d0887"
             ],
             [
              0.1111111111111111,
              "#46039f"
             ],
             [
              0.2222222222222222,
              "#7201a8"
             ],
             [
              0.3333333333333333,
              "#9c179e"
             ],
             [
              0.4444444444444444,
              "#bd3786"
             ],
             [
              0.5555555555555556,
              "#d8576b"
             ],
             [
              0.6666666666666666,
              "#ed7953"
             ],
             [
              0.7777777777777778,
              "#fb9f3a"
             ],
             [
              0.8888888888888888,
              "#fdca26"
             ],
             [
              1,
              "#f0f921"
             ]
            ],
            "type": "histogram2dcontour"
           }
          ],
          "mesh3d": [
           {
            "colorbar": {
             "outlinewidth": 0,
             "ticks": ""
            },
            "type": "mesh3d"
           }
          ],
          "parcoords": [
           {
            "line": {
             "colorbar": {
              "outlinewidth": 0,
              "ticks": ""
             }
            },
            "type": "parcoords"
           }
          ],
          "pie": [
           {
            "automargin": true,
            "type": "pie"
           }
          ],
          "scatter": [
           {
            "marker": {
             "colorbar": {
              "outlinewidth": 0,
              "ticks": ""
             }
            },
            "type": "scatter"
           }
          ],
          "scatter3d": [
           {
            "line": {
             "colorbar": {
              "outlinewidth": 0,
              "ticks": ""
             }
            },
            "marker": {
             "colorbar": {
              "outlinewidth": 0,
              "ticks": ""
             }
            },
            "type": "scatter3d"
           }
          ],
          "scattercarpet": [
           {
            "marker": {
             "colorbar": {
              "outlinewidth": 0,
              "ticks": ""
             }
            },
            "type": "scattercarpet"
           }
          ],
          "scattergeo": [
           {
            "marker": {
             "colorbar": {
              "outlinewidth": 0,
              "ticks": ""
             }
            },
            "type": "scattergeo"
           }
          ],
          "scattergl": [
           {
            "marker": {
             "colorbar": {
              "outlinewidth": 0,
              "ticks": ""
             }
            },
            "type": "scattergl"
           }
          ],
          "scattermapbox": [
           {
            "marker": {
             "colorbar": {
              "outlinewidth": 0,
              "ticks": ""
             }
            },
            "type": "scattermapbox"
           }
          ],
          "scatterpolar": [
           {
            "marker": {
             "colorbar": {
              "outlinewidth": 0,
              "ticks": ""
             }
            },
            "type": "scatterpolar"
           }
          ],
          "scatterpolargl": [
           {
            "marker": {
             "colorbar": {
              "outlinewidth": 0,
              "ticks": ""
             }
            },
            "type": "scatterpolargl"
           }
          ],
          "scatterternary": [
           {
            "marker": {
             "colorbar": {
              "outlinewidth": 0,
              "ticks": ""
             }
            },
            "type": "scatterternary"
           }
          ],
          "surface": [
           {
            "colorbar": {
             "outlinewidth": 0,
             "ticks": ""
            },
            "colorscale": [
             [
              0,
              "#0d0887"
             ],
             [
              0.1111111111111111,
              "#46039f"
             ],
             [
              0.2222222222222222,
              "#7201a8"
             ],
             [
              0.3333333333333333,
              "#9c179e"
             ],
             [
              0.4444444444444444,
              "#bd3786"
             ],
             [
              0.5555555555555556,
              "#d8576b"
             ],
             [
              0.6666666666666666,
              "#ed7953"
             ],
             [
              0.7777777777777778,
              "#fb9f3a"
             ],
             [
              0.8888888888888888,
              "#fdca26"
             ],
             [
              1,
              "#f0f921"
             ]
            ],
            "type": "surface"
           }
          ],
          "table": [
           {
            "cells": {
             "fill": {
              "color": "#EBF0F8"
             },
             "line": {
              "color": "white"
             }
            },
            "header": {
             "fill": {
              "color": "#C8D4E3"
             },
             "line": {
              "color": "white"
             }
            },
            "type": "table"
           }
          ]
         },
         "layout": {
          "annotationdefaults": {
           "arrowcolor": "#2a3f5f",
           "arrowhead": 0,
           "arrowwidth": 1
          },
          "autotypenumbers": "strict",
          "coloraxis": {
           "colorbar": {
            "outlinewidth": 0,
            "ticks": ""
           }
          },
          "colorscale": {
           "diverging": [
            [
             0,
             "#8e0152"
            ],
            [
             0.1,
             "#c51b7d"
            ],
            [
             0.2,
             "#de77ae"
            ],
            [
             0.3,
             "#f1b6da"
            ],
            [
             0.4,
             "#fde0ef"
            ],
            [
             0.5,
             "#f7f7f7"
            ],
            [
             0.6,
             "#e6f5d0"
            ],
            [
             0.7,
             "#b8e186"
            ],
            [
             0.8,
             "#7fbc41"
            ],
            [
             0.9,
             "#4d9221"
            ],
            [
             1,
             "#276419"
            ]
           ],
           "sequential": [
            [
             0,
             "#0d0887"
            ],
            [
             0.1111111111111111,
             "#46039f"
            ],
            [
             0.2222222222222222,
             "#7201a8"
            ],
            [
             0.3333333333333333,
             "#9c179e"
            ],
            [
             0.4444444444444444,
             "#bd3786"
            ],
            [
             0.5555555555555556,
             "#d8576b"
            ],
            [
             0.6666666666666666,
             "#ed7953"
            ],
            [
             0.7777777777777778,
             "#fb9f3a"
            ],
            [
             0.8888888888888888,
             "#fdca26"
            ],
            [
             1,
             "#f0f921"
            ]
           ],
           "sequentialminus": [
            [
             0,
             "#0d0887"
            ],
            [
             0.1111111111111111,
             "#46039f"
            ],
            [
             0.2222222222222222,
             "#7201a8"
            ],
            [
             0.3333333333333333,
             "#9c179e"
            ],
            [
             0.4444444444444444,
             "#bd3786"
            ],
            [
             0.5555555555555556,
             "#d8576b"
            ],
            [
             0.6666666666666666,
             "#ed7953"
            ],
            [
             0.7777777777777778,
             "#fb9f3a"
            ],
            [
             0.8888888888888888,
             "#fdca26"
            ],
            [
             1,
             "#f0f921"
            ]
           ]
          },
          "colorway": [
           "#636efa",
           "#EF553B",
           "#00cc96",
           "#ab63fa",
           "#FFA15A",
           "#19d3f3",
           "#FF6692",
           "#B6E880",
           "#FF97FF",
           "#FECB52"
          ],
          "font": {
           "color": "#2a3f5f"
          },
          "geo": {
           "bgcolor": "white",
           "lakecolor": "white",
           "landcolor": "#E5ECF6",
           "showlakes": true,
           "showland": true,
           "subunitcolor": "white"
          },
          "hoverlabel": {
           "align": "left"
          },
          "hovermode": "closest",
          "mapbox": {
           "style": "light"
          },
          "paper_bgcolor": "white",
          "plot_bgcolor": "#E5ECF6",
          "polar": {
           "angularaxis": {
            "gridcolor": "white",
            "linecolor": "white",
            "ticks": ""
           },
           "bgcolor": "#E5ECF6",
           "radialaxis": {
            "gridcolor": "white",
            "linecolor": "white",
            "ticks": ""
           }
          },
          "scene": {
           "xaxis": {
            "backgroundcolor": "#E5ECF6",
            "gridcolor": "white",
            "gridwidth": 2,
            "linecolor": "white",
            "showbackground": true,
            "ticks": "",
            "zerolinecolor": "white"
           },
           "yaxis": {
            "backgroundcolor": "#E5ECF6",
            "gridcolor": "white",
            "gridwidth": 2,
            "linecolor": "white",
            "showbackground": true,
            "ticks": "",
            "zerolinecolor": "white"
           },
           "zaxis": {
            "backgroundcolor": "#E5ECF6",
            "gridcolor": "white",
            "gridwidth": 2,
            "linecolor": "white",
            "showbackground": true,
            "ticks": "",
            "zerolinecolor": "white"
           }
          },
          "shapedefaults": {
           "line": {
            "color": "#2a3f5f"
           }
          },
          "ternary": {
           "aaxis": {
            "gridcolor": "white",
            "linecolor": "white",
            "ticks": ""
           },
           "baxis": {
            "gridcolor": "white",
            "linecolor": "white",
            "ticks": ""
           },
           "bgcolor": "#E5ECF6",
           "caxis": {
            "gridcolor": "white",
            "linecolor": "white",
            "ticks": ""
           }
          },
          "title": {
           "x": 0.05
          },
          "xaxis": {
           "automargin": true,
           "gridcolor": "white",
           "linecolor": "white",
           "ticks": "",
           "title": {
            "standoff": 15
           },
           "zerolinecolor": "white",
           "zerolinewidth": 2
          },
          "yaxis": {
           "automargin": true,
           "gridcolor": "white",
           "linecolor": "white",
           "ticks": "",
           "title": {
            "standoff": 15
           },
           "zerolinecolor": "white",
           "zerolinewidth": 2
          }
         }
        },
        "xaxis": {
         "anchor": "y",
         "domain": [
          0,
          1
         ],
         "title": {
          "text": "Lon"
         }
        },
        "yaxis": {
         "anchor": "x",
         "domain": [
          0,
          1
         ],
         "title": {
          "text": "Lat"
         }
        }
       }
      },
      "text/html": [
       "<div>                            <div id=\"f572090a-eb16-482a-8785-1c3b8cf40f97\" class=\"plotly-graph-div\" style=\"height:525px; width:100%;\"></div>            <script type=\"text/javascript\">                require([\"plotly\"], function(Plotly) {                    window.PLOTLYENV=window.PLOTLYENV || {};                                    if (document.getElementById(\"f572090a-eb16-482a-8785-1c3b8cf40f97\")) {                    Plotly.newPlot(                        \"f572090a-eb16-482a-8785-1c3b8cf40f97\",                        [{\"coloraxis\":\"coloraxis\",\"histfunc\":\"max\",\"hovertemplate\":\"Lon=%{x}<br>Lat=%{y}<br>max of speed=%{z}<extra></extra>\",\"name\":\"\",\"nbinsx\":10,\"nbinsy\":10,\"x\":[-71.0023,-71.0495,-71.0598,-71.1203,-71.1056,-71.2092,-71.0184,-70.812,-70.9287,-71.4162,-71.4634,-71.2342,-70.662,-71.0898,-71.5455,-71.3162,-71.2856,-71.5162,-71.1631,-71.5148,-71.1287,-70.9301,-71.4128,-71.4676,-71.8328,-71.7598,-71.1551,-71.3124,-70.9342,-71.4161,-71.4548,-71.9981,-71.8692,-70.2995,-70.2286,-71.4694,-71.2828,-71.349,-71.8273,-70.1786,-72.5898,-72.0,-71.5,-71.0,-70.5,-70.0,-72.0,-71.5,-71.0,-70.5,-70.0,-72.0,-71.5,-71.0,-70.5,-70.0,-72.0,-71.5,-71.0,-70.5,-70.0,-72.0,-71.5,-71.0,-70.5,-70.0],\"xaxis\":\"x\",\"xbingroup\":\"x\",\"y\":[42.2529,42.3334,42.3584,42.3098,42.3751,42.337,42.0834,42.1132,42.5279,42.2793,42.2612,42.6106,42.6159,41.9001,42.3491,42.6334,41.9445,42.1398,42.707,42.0029,41.7696,42.8584,41.824,42.7654,42.3334,42.5251,41.7015,42.8923,41.6362,41.7002,42.9956,42.5751,41.8387,41.7001,41.7057,41.5514,42.2459,42.4604,41.3776,42.0584,42.1015,41.0,41.0,41.0,41.0,41.0,41.5,41.5,41.5,41.5,41.5,42.0,42.0,42.0,42.0,42.0,42.5,42.5,42.5,42.5,42.5,43.0,43.0,43.0,43.0,43.0],\"yaxis\":\"y\",\"ybingroup\":\"y\",\"z\":[0.45,4.92,4.92,1.79,1.79,2.68,2.24,0.45,2.68,0.45,0.45,2.24,4.02,1.34,1.34,1.34,1.79,1.79,1.79,2.68,1.34,1.34,1.34,3.13,0.89,6.69,2.68,0.89,3.13,7.72,2.24,6.69,1.34,6.69,6.69,1.34,2.24,6.69,4.12,8.94,0.45,5.66,10.27,10.66,10.51,10.16,6.69,5.81,5.14,6.69,8.74,1.34,2.68,1.79,6.26,6.26,5.25,0.45,1.34,11.08,12.32,1.79,1.34,4.92,11.78,9.5],\"type\":\"histogram2d\"},{\"hovertemplate\":\"Lon=%{x}<br>Lat=%{y}<extra></extra>\",\"legendgroup\":\"\",\"marker\":{\"color\":\"white\",\"symbol\":\"circle\"},\"mode\":\"markers\",\"name\":\"\",\"orientation\":\"v\",\"showlegend\":false,\"x\":[-71.0023,-71.0495,-71.0598,-71.1203,-71.1056,-71.2092,-71.0184,-70.812,-70.9287,-71.4162,-71.4634,-71.2342,-70.662,-71.0898,-71.5455,-71.3162,-71.2856,-71.5162,-71.1631,-71.5148,-71.1287,-70.9301,-71.4128,-71.4676,-71.8328,-71.7598,-71.1551,-71.3124,-70.9342,-71.4161,-71.4548,-71.9981,-71.8692,-70.2995,-70.2286,-71.4694,-71.2828,-71.349,-71.8273,-70.1786,-72.5898,-72.0,-71.5,-71.0,-70.5,-70.0,-72.0,-71.5,-71.0,-70.5,-70.0,-72.0,-71.5,-71.0,-70.5,-70.0,-72.0,-71.5,-71.0,-70.5,-70.0,-72.0,-71.5,-71.0,-70.5,-70.0],\"xaxis\":\"x\",\"y\":[42.2529,42.3334,42.3584,42.3098,42.3751,42.337,42.0834,42.1132,42.5279,42.2793,42.2612,42.6106,42.6159,41.9001,42.3491,42.6334,41.9445,42.1398,42.707,42.0029,41.7696,42.8584,41.824,42.7654,42.3334,42.5251,41.7015,42.8923,41.6362,41.7002,42.9956,42.5751,41.8387,41.7001,41.7057,41.5514,42.2459,42.4604,41.3776,42.0584,42.1015,41.0,41.0,41.0,41.0,41.0,41.5,41.5,41.5,41.5,41.5,42.0,42.0,42.0,42.0,42.0,42.5,42.5,42.5,42.5,42.5,43.0,43.0,43.0,43.0,43.0],\"yaxis\":\"y\",\"type\":\"scatter\"}],                        {\"template\":{\"data\":{\"bar\":[{\"error_x\":{\"color\":\"#2a3f5f\"},\"error_y\":{\"color\":\"#2a3f5f\"},\"marker\":{\"line\":{\"color\":\"#E5ECF6\",\"width\":0.5},\"pattern\":{\"fillmode\":\"overlay\",\"size\":10,\"solidity\":0.2}},\"type\":\"bar\"}],\"barpolar\":[{\"marker\":{\"line\":{\"color\":\"#E5ECF6\",\"width\":0.5},\"pattern\":{\"fillmode\":\"overlay\",\"size\":10,\"solidity\":0.2}},\"type\":\"barpolar\"}],\"carpet\":[{\"aaxis\":{\"endlinecolor\":\"#2a3f5f\",\"gridcolor\":\"white\",\"linecolor\":\"white\",\"minorgridcolor\":\"white\",\"startlinecolor\":\"#2a3f5f\"},\"baxis\":{\"endlinecolor\":\"#2a3f5f\",\"gridcolor\":\"white\",\"linecolor\":\"white\",\"minorgridcolor\":\"white\",\"startlinecolor\":\"#2a3f5f\"},\"type\":\"carpet\"}],\"choropleth\":[{\"colorbar\":{\"outlinewidth\":0,\"ticks\":\"\"},\"type\":\"choropleth\"}],\"contour\":[{\"colorbar\":{\"outlinewidth\":0,\"ticks\":\"\"},\"colorscale\":[[0.0,\"#0d0887\"],[0.1111111111111111,\"#46039f\"],[0.2222222222222222,\"#7201a8\"],[0.3333333333333333,\"#9c179e\"],[0.4444444444444444,\"#bd3786\"],[0.5555555555555556,\"#d8576b\"],[0.6666666666666666,\"#ed7953\"],[0.7777777777777778,\"#fb9f3a\"],[0.8888888888888888,\"#fdca26\"],[1.0,\"#f0f921\"]],\"type\":\"contour\"}],\"contourcarpet\":[{\"colorbar\":{\"outlinewidth\":0,\"ticks\":\"\"},\"type\":\"contourcarpet\"}],\"heatmap\":[{\"colorbar\":{\"outlinewidth\":0,\"ticks\":\"\"},\"colorscale\":[[0.0,\"#0d0887\"],[0.1111111111111111,\"#46039f\"],[0.2222222222222222,\"#7201a8\"],[0.3333333333333333,\"#9c179e\"],[0.4444444444444444,\"#bd3786\"],[0.5555555555555556,\"#d8576b\"],[0.6666666666666666,\"#ed7953\"],[0.7777777777777778,\"#fb9f3a\"],[0.8888888888888888,\"#fdca26\"],[1.0,\"#f0f921\"]],\"type\":\"heatmap\"}],\"heatmapgl\":[{\"colorbar\":{\"outlinewidth\":0,\"ticks\":\"\"},\"colorscale\":[[0.0,\"#0d0887\"],[0.1111111111111111,\"#46039f\"],[0.2222222222222222,\"#7201a8\"],[0.3333333333333333,\"#9c179e\"],[0.4444444444444444,\"#bd3786\"],[0.5555555555555556,\"#d8576b\"],[0.6666666666666666,\"#ed7953\"],[0.7777777777777778,\"#fb9f3a\"],[0.8888888888888888,\"#fdca26\"],[1.0,\"#f0f921\"]],\"type\":\"heatmapgl\"}],\"histogram\":[{\"marker\":{\"pattern\":{\"fillmode\":\"overlay\",\"size\":10,\"solidity\":0.2}},\"type\":\"histogram\"}],\"histogram2d\":[{\"colorbar\":{\"outlinewidth\":0,\"ticks\":\"\"},\"colorscale\":[[0.0,\"#0d0887\"],[0.1111111111111111,\"#46039f\"],[0.2222222222222222,\"#7201a8\"],[0.3333333333333333,\"#9c179e\"],[0.4444444444444444,\"#bd3786\"],[0.5555555555555556,\"#d8576b\"],[0.6666666666666666,\"#ed7953\"],[0.7777777777777778,\"#fb9f3a\"],[0.8888888888888888,\"#fdca26\"],[1.0,\"#f0f921\"]],\"type\":\"histogram2d\"}],\"histogram2dcontour\":[{\"colorbar\":{\"outlinewidth\":0,\"ticks\":\"\"},\"colorscale\":[[0.0,\"#0d0887\"],[0.1111111111111111,\"#46039f\"],[0.2222222222222222,\"#7201a8\"],[0.3333333333333333,\"#9c179e\"],[0.4444444444444444,\"#bd3786\"],[0.5555555555555556,\"#d8576b\"],[0.6666666666666666,\"#ed7953\"],[0.7777777777777778,\"#fb9f3a\"],[0.8888888888888888,\"#fdca26\"],[1.0,\"#f0f921\"]],\"type\":\"histogram2dcontour\"}],\"mesh3d\":[{\"colorbar\":{\"outlinewidth\":0,\"ticks\":\"\"},\"type\":\"mesh3d\"}],\"parcoords\":[{\"line\":{\"colorbar\":{\"outlinewidth\":0,\"ticks\":\"\"}},\"type\":\"parcoords\"}],\"pie\":[{\"automargin\":true,\"type\":\"pie\"}],\"scatter\":[{\"marker\":{\"colorbar\":{\"outlinewidth\":0,\"ticks\":\"\"}},\"type\":\"scatter\"}],\"scatter3d\":[{\"line\":{\"colorbar\":{\"outlinewidth\":0,\"ticks\":\"\"}},\"marker\":{\"colorbar\":{\"outlinewidth\":0,\"ticks\":\"\"}},\"type\":\"scatter3d\"}],\"scattercarpet\":[{\"marker\":{\"colorbar\":{\"outlinewidth\":0,\"ticks\":\"\"}},\"type\":\"scattercarpet\"}],\"scattergeo\":[{\"marker\":{\"colorbar\":{\"outlinewidth\":0,\"ticks\":\"\"}},\"type\":\"scattergeo\"}],\"scattergl\":[{\"marker\":{\"colorbar\":{\"outlinewidth\":0,\"ticks\":\"\"}},\"type\":\"scattergl\"}],\"scattermapbox\":[{\"marker\":{\"colorbar\":{\"outlinewidth\":0,\"ticks\":\"\"}},\"type\":\"scattermapbox\"}],\"scatterpolar\":[{\"marker\":{\"colorbar\":{\"outlinewidth\":0,\"ticks\":\"\"}},\"type\":\"scatterpolar\"}],\"scatterpolargl\":[{\"marker\":{\"colorbar\":{\"outlinewidth\":0,\"ticks\":\"\"}},\"type\":\"scatterpolargl\"}],\"scatterternary\":[{\"marker\":{\"colorbar\":{\"outlinewidth\":0,\"ticks\":\"\"}},\"type\":\"scatterternary\"}],\"surface\":[{\"colorbar\":{\"outlinewidth\":0,\"ticks\":\"\"},\"colorscale\":[[0.0,\"#0d0887\"],[0.1111111111111111,\"#46039f\"],[0.2222222222222222,\"#7201a8\"],[0.3333333333333333,\"#9c179e\"],[0.4444444444444444,\"#bd3786\"],[0.5555555555555556,\"#d8576b\"],[0.6666666666666666,\"#ed7953\"],[0.7777777777777778,\"#fb9f3a\"],[0.8888888888888888,\"#fdca26\"],[1.0,\"#f0f921\"]],\"type\":\"surface\"}],\"table\":[{\"cells\":{\"fill\":{\"color\":\"#EBF0F8\"},\"line\":{\"color\":\"white\"}},\"header\":{\"fill\":{\"color\":\"#C8D4E3\"},\"line\":{\"color\":\"white\"}},\"type\":\"table\"}]},\"layout\":{\"annotationdefaults\":{\"arrowcolor\":\"#2a3f5f\",\"arrowhead\":0,\"arrowwidth\":1},\"autotypenumbers\":\"strict\",\"coloraxis\":{\"colorbar\":{\"outlinewidth\":0,\"ticks\":\"\"}},\"colorscale\":{\"diverging\":[[0,\"#8e0152\"],[0.1,\"#c51b7d\"],[0.2,\"#de77ae\"],[0.3,\"#f1b6da\"],[0.4,\"#fde0ef\"],[0.5,\"#f7f7f7\"],[0.6,\"#e6f5d0\"],[0.7,\"#b8e186\"],[0.8,\"#7fbc41\"],[0.9,\"#4d9221\"],[1,\"#276419\"]],\"sequential\":[[0.0,\"#0d0887\"],[0.1111111111111111,\"#46039f\"],[0.2222222222222222,\"#7201a8\"],[0.3333333333333333,\"#9c179e\"],[0.4444444444444444,\"#bd3786\"],[0.5555555555555556,\"#d8576b\"],[0.6666666666666666,\"#ed7953\"],[0.7777777777777778,\"#fb9f3a\"],[0.8888888888888888,\"#fdca26\"],[1.0,\"#f0f921\"]],\"sequentialminus\":[[0.0,\"#0d0887\"],[0.1111111111111111,\"#46039f\"],[0.2222222222222222,\"#7201a8\"],[0.3333333333333333,\"#9c179e\"],[0.4444444444444444,\"#bd3786\"],[0.5555555555555556,\"#d8576b\"],[0.6666666666666666,\"#ed7953\"],[0.7777777777777778,\"#fb9f3a\"],[0.8888888888888888,\"#fdca26\"],[1.0,\"#f0f921\"]]},\"colorway\":[\"#636efa\",\"#EF553B\",\"#00cc96\",\"#ab63fa\",\"#FFA15A\",\"#19d3f3\",\"#FF6692\",\"#B6E880\",\"#FF97FF\",\"#FECB52\"],\"font\":{\"color\":\"#2a3f5f\"},\"geo\":{\"bgcolor\":\"white\",\"lakecolor\":\"white\",\"landcolor\":\"#E5ECF6\",\"showlakes\":true,\"showland\":true,\"subunitcolor\":\"white\"},\"hoverlabel\":{\"align\":\"left\"},\"hovermode\":\"closest\",\"mapbox\":{\"style\":\"light\"},\"paper_bgcolor\":\"white\",\"plot_bgcolor\":\"#E5ECF6\",\"polar\":{\"angularaxis\":{\"gridcolor\":\"white\",\"linecolor\":\"white\",\"ticks\":\"\"},\"bgcolor\":\"#E5ECF6\",\"radialaxis\":{\"gridcolor\":\"white\",\"linecolor\":\"white\",\"ticks\":\"\"}},\"scene\":{\"xaxis\":{\"backgroundcolor\":\"#E5ECF6\",\"gridcolor\":\"white\",\"gridwidth\":2,\"linecolor\":\"white\",\"showbackground\":true,\"ticks\":\"\",\"zerolinecolor\":\"white\"},\"yaxis\":{\"backgroundcolor\":\"#E5ECF6\",\"gridcolor\":\"white\",\"gridwidth\":2,\"linecolor\":\"white\",\"showbackground\":true,\"ticks\":\"\",\"zerolinecolor\":\"white\"},\"zaxis\":{\"backgroundcolor\":\"#E5ECF6\",\"gridcolor\":\"white\",\"gridwidth\":2,\"linecolor\":\"white\",\"showbackground\":true,\"ticks\":\"\",\"zerolinecolor\":\"white\"}},\"shapedefaults\":{\"line\":{\"color\":\"#2a3f5f\"}},\"ternary\":{\"aaxis\":{\"gridcolor\":\"white\",\"linecolor\":\"white\",\"ticks\":\"\"},\"baxis\":{\"gridcolor\":\"white\",\"linecolor\":\"white\",\"ticks\":\"\"},\"bgcolor\":\"#E5ECF6\",\"caxis\":{\"gridcolor\":\"white\",\"linecolor\":\"white\",\"ticks\":\"\"}},\"title\":{\"x\":0.05},\"xaxis\":{\"automargin\":true,\"gridcolor\":\"white\",\"linecolor\":\"white\",\"ticks\":\"\",\"title\":{\"standoff\":15},\"zerolinecolor\":\"white\",\"zerolinewidth\":2},\"yaxis\":{\"automargin\":true,\"gridcolor\":\"white\",\"linecolor\":\"white\",\"ticks\":\"\",\"title\":{\"standoff\":15},\"zerolinecolor\":\"white\",\"zerolinewidth\":2}}},\"xaxis\":{\"anchor\":\"y\",\"domain\":[0.0,1.0],\"title\":{\"text\":\"Lon\"}},\"yaxis\":{\"anchor\":\"x\",\"domain\":[0.0,1.0],\"title\":{\"text\":\"Lat\"}},\"coloraxis\":{\"colorbar\":{\"title\":{\"text\":\"max of speed\"}},\"colorscale\":[[0.0,\"#0d0887\"],[0.1111111111111111,\"#46039f\"],[0.2222222222222222,\"#7201a8\"],[0.3333333333333333,\"#9c179e\"],[0.4444444444444444,\"#bd3786\"],[0.5555555555555556,\"#d8576b\"],[0.6666666666666666,\"#ed7953\"],[0.7777777777777778,\"#fb9f3a\"],[0.8888888888888888,\"#fdca26\"],[1.0,\"#f0f921\"]]},\"legend\":{\"tracegroupgap\":0},\"margin\":{\"t\":60}},                        {\"responsive\": true}                    ).then(function(){\n",
       "                            \n",
       "var gd = document.getElementById('f572090a-eb16-482a-8785-1c3b8cf40f97');\n",
       "var x = new MutationObserver(function (mutations, observer) {{\n",
       "        var display = window.getComputedStyle(gd).display;\n",
       "        if (!display || display === 'none') {{\n",
       "            console.log([gd, 'removed!']);\n",
       "            Plotly.purge(gd);\n",
       "            observer.disconnect();\n",
       "        }}\n",
       "}});\n",
       "\n",
       "// Listen for the removal of the full notebook cells\n",
       "var notebookContainer = gd.closest('#notebook-container');\n",
       "if (notebookContainer) {{\n",
       "    x.observe(notebookContainer, {childList: true});\n",
       "}}\n",
       "\n",
       "// Listen for the clearing of the current output cell\n",
       "var outputEl = gd.closest('.output');\n",
       "if (outputEl) {{\n",
       "    x.observe(outputEl, {childList: true});\n",
       "}}\n",
       "\n",
       "                        })                };                });            </script>        </div>"
      ]
     },
     "metadata": {},
     "output_type": "display_data"
    }
   ],
   "source": [
    "both_grids = pd.read_csv(\"../_data/weather.csv\")\n",
    "NEW_LON = \"Lon\"\n",
    "NEW_LAT = \"Lat\"\n",
    "\n",
    "import plotly.express as px\n",
    "px.density_heatmap(\n",
    "    both_grids,\n",
    "    x =NEW_LON,\n",
    "    y=NEW_LAT,\n",
    "    hover_data=[\"name\"],\n",
    "#     color=SPEED,\n",
    "    z=SPEED,\n",
    "    histfunc=\"max\",\n",
    "    nbinsx=10,\n",
    "    nbinsy=10,\n",
    ").add_trace(\n",
    "    px.scatter(\n",
    "        both_grids,\n",
    "        x=NEW_LON,\n",
    "        y=NEW_LAT,\n",
    "        \n",
    "    ).update_traces(marker={\"color\":\"white\"}).data[0]\n",
    ")"
   ]
  }
 ],
 "metadata": {
  "file_extension": ".py",
  "kernelspec": {
   "display_name": "Python 3 (ipykernel)",
   "language": "python",
   "name": "python3"
  },
  "language_info": {
   "codemirror_mode": {
    "name": "ipython",
    "version": 3
   },
   "file_extension": ".py",
   "mimetype": "text/x-python",
   "name": "python",
   "nbconvert_exporter": "python",
   "pygments_lexer": "ipython3",
   "version": "3.9.10"
  },
  "mimetype": "text/x-python",
  "name": "python",
  "npconvert_exporter": "python",
  "pygments_lexer": "ipython3",
  "version": 3
 },
 "nbformat": 4,
 "nbformat_minor": 2
}
